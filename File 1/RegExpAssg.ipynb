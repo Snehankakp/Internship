{
 "cells": [
  {
   "cell_type": "code",
   "execution_count": null,
   "id": "5b01d21c",
   "metadata": {},
   "outputs": [],
   "source": [
    "Assignment 2 Regular Expression(RegEx)"
   ]
  },
  {
   "cell_type": "code",
   "execution_count": 1,
   "id": "c9c82986",
   "metadata": {},
   "outputs": [],
   "source": [
    "import re"
   ]
  },
  {
   "cell_type": "code",
   "execution_count": null,
   "id": "d154c4f2",
   "metadata": {},
   "outputs": [],
   "source": [
    "Que. 1 Write a Python program to check that a string contains only a certain set of characters \n",
    "(in this case a-z, A-Z and 0-9)."
   ]
  },
  {
   "cell_type": "code",
   "execution_count": null,
   "id": "65e5feeb",
   "metadata": {},
   "outputs": [],
   "source": [
    "def certain_set_char(string):\n",
    "    charRe = re.compile(r'[^a-zA-Z0-9]')\n",
    "    string = charRe.search(string)\n",
    "    return not bool(string)\n",
    "\n",
    "print(certain_set_char(\"ABCDEFpython1234\")) \n",
    "print(certain_set_char(\"$&#*@%!}{\"))\n",
    "print(certain_set_char(\"ISRO890#$@&}{\"))"
   ]
  },
  {
   "cell_type": "code",
   "execution_count": null,
   "id": "a3f23060",
   "metadata": {},
   "outputs": [],
   "source": [
    "Que. 2 Write a Python program that matches a string that has an 'a' followed by zero or more b's"
   ]
  },
  {
   "cell_type": "code",
   "execution_count": 63,
   "id": "469c5a14",
   "metadata": {},
   "outputs": [
    {
     "name": "stdout",
     "output_type": "stream",
     "text": [
      "Its a match!\n",
      "Its a match!\n",
      "Its a match!\n",
      "Not matched!\n"
     ]
    }
   ],
   "source": [
    "def text_is(text):\n",
    "        patterns = '^ab*?'\n",
    "        if re.search(patterns,  text):\n",
    "                return ('Its a match!')\n",
    "        else:\n",
    "                return('Not matched!')\n",
    "\n",
    "print(text_is(\"ac\"))\n",
    "print(text_is(\"abc\"))\n",
    "print(text_is(\"abbc\"))\n",
    "print(text_is(\"ba\"))"
   ]
  },
  {
   "cell_type": "code",
   "execution_count": null,
   "id": "31740648",
   "metadata": {},
   "outputs": [],
   "source": [
    "Que 3 Write a Python program that matches a string that has an a followed by one or more b's"
   ]
  },
  {
   "cell_type": "code",
   "execution_count": 54,
   "id": "bf824a02",
   "metadata": {},
   "outputs": [
    {
     "name": "stdout",
     "output_type": "stream",
     "text": [
      "Its match!\n",
      "Its match!\n",
      "Not matched!\n"
     ]
    }
   ],
   "source": [
    "def text_is(text):\n",
    "        patterns = 'ab+?'\n",
    "        if re.search(patterns,  text):\n",
    "                return 'Its match!'\n",
    "        else:\n",
    "                return('Not matched!')\n",
    "\n",
    "print(text_is(\"ab\"))\n",
    "print(text_is(\"abc\"))\n",
    "print(text_is(\"ac\"))"
   ]
  },
  {
   "cell_type": "code",
   "execution_count": null,
   "id": "b21fce40",
   "metadata": {},
   "outputs": [],
   "source": [
    "Que 4 Write a Python program that matches a string that has an a followed by zero or one 'b'"
   ]
  },
  {
   "cell_type": "code",
   "execution_count": 55,
   "id": "89b01f55",
   "metadata": {},
   "outputs": [
    {
     "name": "stdout",
     "output_type": "stream",
     "text": [
      "Its a match!\n",
      "Its a match!\n",
      "Not matched!\n",
      "Its a match!\n"
     ]
    }
   ],
   "source": [
    "def text_is(text):\n",
    "        patterns = 'ab?'\n",
    "        if re.search(patterns,  text):\n",
    "                return 'Its a match!'\n",
    "        else:\n",
    "                return('Not matched!')\n",
    "\n",
    "print(text_is(\"ab\"))\n",
    "print(text_is(\"abc\"))\n",
    "print(text_is(\"bbc\"))\n",
    "print(text_is(\"aabbc\"))"
   ]
  },
  {
   "cell_type": "code",
   "execution_count": null,
   "id": "9b9b4ebe",
   "metadata": {},
   "outputs": [],
   "source": [
    "Que 5 Write a Python program that matches a string that has an a followed by three 'b'"
   ]
  },
  {
   "cell_type": "code",
   "execution_count": 56,
   "id": "fb7d6cd9",
   "metadata": {},
   "outputs": [
    {
     "name": "stdout",
     "output_type": "stream",
     "text": [
      "Found a match!\n",
      "Found a match!\n",
      "Not matched!\n"
     ]
    }
   ],
   "source": [
    "def text_is(text):\n",
    "        patterns = 'ab{3}?'\n",
    "        if re.search(patterns,  text):\n",
    "                return 'Found a match!'\n",
    "        else:\n",
    "                return('Not matched!')\n",
    "\n",
    "print(text_is(\"abbb\"))\n",
    "print(text_is(\"aabbbbbgc\"))\n",
    "print(text_is(\"aabababc\"))"
   ]
  },
  {
   "cell_type": "code",
   "execution_count": null,
   "id": "8c11cfbd",
   "metadata": {},
   "outputs": [],
   "source": [
    "Que 6 Write a Python program that matches a string that has an' a 'followed by two to three 'b'."
   ]
  },
  {
   "cell_type": "code",
   "execution_count": 59,
   "id": "a71eae39",
   "metadata": {},
   "outputs": [
    {
     "name": "stdout",
     "output_type": "stream",
     "text": [
      "Not matched!\n",
      "Its a match!\n",
      "Its a match!\n"
     ]
    }
   ],
   "source": [
    "def text_is(text):\n",
    "        patterns = 'ab{2,3}?'\n",
    "        if re.search(patterns,  text):\n",
    "                return 'Its a match!'\n",
    "        else:\n",
    "                return('Not matched!')\n",
    "\n",
    "print(text_is(\"ab\"))\n",
    "print(text_is(\"abb\"))\n",
    "print(text_is(\"aabbbbbc\"))"
   ]
  },
  {
   "cell_type": "code",
   "execution_count": null,
   "id": "00dac57c",
   "metadata": {},
   "outputs": [],
   "source": [
    "Que 7.Write a Python program that matches a string that has an 'a' followed by anything, ending in 'b'"
   ]
  },
  {
   "cell_type": "code",
   "execution_count": 60,
   "id": "180ef60c",
   "metadata": {},
   "outputs": [
    {
     "name": "stdout",
     "output_type": "stream",
     "text": [
      "Not matched!\n",
      "Found a match!\n",
      "Found a match!\n"
     ]
    }
   ],
   "source": [
    "def text_is(text):\n",
    "        patterns = 'a.*?b$'\n",
    "        if re.search(patterns,  text):\n",
    "                return 'Found a match!'\n",
    "        else:\n",
    "                return('Not matched!')\n",
    "\n",
    "print(text_is(\"abcd\"))\n",
    "print(text_is(\"acchhfb\"))\n",
    "print(text_is(\"accddbbjjjb\"))"
   ]
  },
  {
   "cell_type": "code",
   "execution_count": null,
   "id": "14cbfc86",
   "metadata": {},
   "outputs": [],
   "source": [
    "Que 8 Write a Python program that matches a word at the beginning of a string."
   ]
  },
  {
   "cell_type": "code",
   "execution_count": 62,
   "id": "8f76da50",
   "metadata": {},
   "outputs": [
    {
     "name": "stdout",
     "output_type": "stream",
     "text": [
      "Its a match!\n",
      "Not matched!\n",
      "Its a match!\n"
     ]
    }
   ],
   "source": [
    "def text_is(text):\n",
    "        patterns = '^\\w+'\n",
    "        if re.search(patterns,  text):\n",
    "                return 'Its a match!'\n",
    "        else:\n",
    "                return('Not matched!')\n",
    "\n",
    "print(text_is(\"G20\"))\n",
    "print(text_is(\" #G20\"))\n",
    "print(text_is(\"Bhaaratam asmaakam matrabhumihi\"))"
   ]
  },
  {
   "cell_type": "code",
   "execution_count": null,
   "id": "e2aaff6f",
   "metadata": {},
   "outputs": [],
   "source": [
    "Que 9. Write a RegEx pattern in python program that matches a word at the end of a string.\n",
    "Write a Python program that matches a word at the end of a string, with optional punctuation."
   ]
  },
  {
   "cell_type": "code",
   "execution_count": 47,
   "id": "3dcaca47",
   "metadata": {},
   "outputs": [
    {
     "name": "stdout",
     "output_type": "stream",
     "text": [
      "Not matched!\n",
      "Not matched!\n",
      "Not matched!\n",
      "Not matched!\n",
      "Its  a match!\n"
     ]
    }
   ],
   "source": [
    "import re\n",
    "def text_is(text):\n",
    "        patterns = '\\w+\\s\\S*[^?!.]?$'\n",
    "        #patterns = '\\w+\\S*\\w[^0-9][A-Za-z][^?!.]*[?.!]$'\n",
    "        #patterns = '\\s+[A-Za-z]+\\W?\\Z$'\n",
    "         #patterns = '^[A-Za-z][\\w\\s]+[?.!]$'\n",
    "          #patterns = '\\b\\w+[.!?,:]*$'\n",
    "        if re.search(patterns,  text):\n",
    "                return( 'Its  a match!')\n",
    "        else:\n",
    "                return('Not matched!')\n",
    "print(text_is(\"abhhc\"))\n",
    "print(text_is(\"abbnoc\"))\n",
    "print(text_is(\"ab34\"))\n",
    "print(text_is(\"bab\"))\n",
    "print(text_is(\"We must continue to believe in the power of diplomacy, India says in UN speech!.\"))"
   ]
  },
  {
   "cell_type": "code",
   "execution_count": null,
   "id": "911f54e9",
   "metadata": {},
   "outputs": [],
   "source": [
    "Question 10- Write a RegEx pattern in python program to find all words that are 4 digits long in a string.\n",
    "Sample text- '01 0132 231875 1458 301 2725.'\n",
    "Expected output- ['0132', '1458', '2725']"
   ]
  },
  {
   "cell_type": "code",
   "execution_count": 51,
   "id": "c0de2554",
   "metadata": {},
   "outputs": [
    {
     "name": "stdout",
     "output_type": "stream",
     "text": [
      "['0132', '1458', '2725']\n"
     ]
    }
   ],
   "source": [
    "#pattern='\\w{4}\\s'\n",
    "pattern= r\"\\b\\w{4}\\b\"\n",
    "text='01 0132 231875 1458 301 2725'\n",
    "matches= re.findall(pattern,text)\n",
    "print(matches)\n"
   ]
  },
  {
   "cell_type": "code",
   "execution_count": 2,
   "id": "221adf79",
   "metadata": {},
   "outputs": [
    {
     "ename": "NameError",
     "evalue": "name 're' is not defined",
     "output_type": "error",
     "traceback": [
      "\u001b[1;31m---------------------------------------------------------------------------\u001b[0m",
      "\u001b[1;31mNameError\u001b[0m                                 Traceback (most recent call last)",
      "\u001b[1;32m~\\AppData\\Local\\Temp/ipykernel_6492/564622744.py\u001b[0m in \u001b[0;36m<module>\u001b[1;34m\u001b[0m\n\u001b[0;32m      2\u001b[0m \u001b[1;33m\u001b[0m\u001b[0m\n\u001b[0;32m      3\u001b[0m \u001b[1;33m\u001b[0m\u001b[0m\n\u001b[1;32m----> 4\u001b[1;33m \u001b[0memail_ids\u001b[0m \u001b[1;33m=\u001b[0m \u001b[0mre\u001b[0m\u001b[1;33m.\u001b[0m\u001b[0mfindall\u001b[0m\u001b[1;33m(\u001b[0m\u001b[1;34m'\\S+@\\S+'\u001b[0m\u001b[1;33m,\u001b[0m \u001b[0mtext\u001b[0m\u001b[1;33m)\u001b[0m\u001b[1;33m\u001b[0m\u001b[1;33m\u001b[0m\u001b[0m\n\u001b[0m\u001b[0;32m      5\u001b[0m \u001b[1;33m\u001b[0m\u001b[0m\n\u001b[0;32m      6\u001b[0m \u001b[1;31m# Printing of List\u001b[0m\u001b[1;33m\u001b[0m\u001b[1;33m\u001b[0m\u001b[0m\n",
      "\u001b[1;31mNameError\u001b[0m: name 're' is not defined"
     ]
    }
   ],
   "source": [
    "text= 'Hello my name is Data Science and my email address is xyz@domain.com and alternate email address is xyz.abc@sdomain.domain.com.Please contact us at hr@fliprobo.com for further information. '\n",
    "  \n",
    "\n",
    "email_ids = re.findall('\\S+@\\S+', text)    \n",
    "  \n",
    "# Printing of List\n",
    "print(email_ids)"
   ]
  },
  {
   "cell_type": "code",
   "execution_count": null,
   "id": "224eb4a6",
   "metadata": {},
   "outputs": [],
   "source": []
  }
 ],
 "metadata": {
  "kernelspec": {
   "display_name": "Python 3 (ipykernel)",
   "language": "python",
   "name": "python3"
  },
  "language_info": {
   "codemirror_mode": {
    "name": "ipython",
    "version": 3
   },
   "file_extension": ".py",
   "mimetype": "text/x-python",
   "name": "python",
   "nbconvert_exporter": "python",
   "pygments_lexer": "ipython3",
   "version": "3.9.7"
  }
 },
 "nbformat": 4,
 "nbformat_minor": 5
}
