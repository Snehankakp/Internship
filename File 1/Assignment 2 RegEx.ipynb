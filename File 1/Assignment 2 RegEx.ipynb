{
 "cells": [
  {
   "cell_type": "code",
   "execution_count": null,
   "id": "9a348f5d",
   "metadata": {},
   "outputs": [],
   "source": [
    "                           Assignment No.2 (RegEx)"
   ]
  },
  {
   "cell_type": "code",
   "execution_count": null,
   "id": "05acbcc5",
   "metadata": {},
   "outputs": [],
   "source": [
    "import re"
   ]
  },
  {
   "cell_type": "code",
   "execution_count": 2,
   "id": "00606b43",
   "metadata": {},
   "outputs": [],
   "source": [
    "#Question 1- Write a Python program to replace all occurrences of a space, comma, or dot with a colon.\n",
    "#Sample Text- 'Python Exercises, PHP exercises.'\n",
    "#Expected Output: Python:Exercises::PHP:exercises:"
   ]
  },
  {
   "cell_type": "code",
   "execution_count": 1,
   "id": "7185928c",
   "metadata": {},
   "outputs": [
    {
     "name": "stdout",
     "output_type": "stream",
     "text": [
      "Python:Exercises::PHP:exercises:\n"
     ]
    }
   ],
   "source": [
    "# 1.import the regex library\n",
    "\n",
    "import re\n",
    "\n",
    "# 2.The source text\n",
    "text = 'Python Exercises, PHP exercises.'\n",
    "\n",
    "# 3 re.sub(): sub() function stands for a substring and returns a string with replaced values.\n",
    "#output_string = re. sub(pattern, repl, input_string)\n",
    "print(re.sub(\"[ ,.]\", \":\", text))\n"
   ]
  },
  {
   "cell_type": "code",
   "execution_count": null,
   "id": "4c8331f5",
   "metadata": {},
   "outputs": [],
   "source": [
    "Question 2-  Write a Python program to find all words starting with 'a' or 'e' in a given string."
   ]
  },
  {
   "cell_type": "code",
   "execution_count": 26,
   "id": "ad001359",
   "metadata": {},
   "outputs": [
    {
     "name": "stdout",
     "output_type": "stream",
     "text": [
      "Enter a String : Ashoka had lots of enemies\n",
      "Words starting with 'a' or 'e' are ... \n",
      "Ashoka\n",
      "enemies\n"
     ]
    }
   ],
   "source": [
    "# 1.import the regex library\n",
    "import re\n",
    "\n",
    "# 2. Take input \n",
    "text = input(\"Enter a String : \")\n",
    "print(\"Words starting with 'a' or 'e' in the strings are: \")\n",
    "\n",
    "\n",
    "#The split() method splits a string into a list. \n",
    "words = text.split(\" \")\n",
    "\n",
    "\n",
    "for word in words:\n",
    "    if word[0] == \"a\" or word[0] == \"e\":\n",
    "        print(word)"
   ]
  },
  {
   "cell_type": "code",
   "execution_count": 27,
   "id": "eb69eb67",
   "metadata": {},
   "outputs": [],
   "source": [
    "#Question 3- Create a function in python to find all words that are at least 4 characters \n",
    "#long in a string. The use of the re.compile() method is mandatory."
   ]
  },
  {
   "cell_type": "code",
   "execution_count": 40,
   "id": "e2e347d5",
   "metadata": {},
   "outputs": [
    {
     "name": "stdout",
     "output_type": "stream",
     "text": [
      "Enter the String:-The more physicists use artificial intelligence and machine learning, the more important it becomes for them to understand why the technology works and when it fails.\n",
      "['more', 'physicists', 'artificial', 'intelligence', 'machine', 'learning', 'more', 'important', 'becomes', 'them', 'understand', 'technology', 'works', 'when', 'fails']\n"
     ]
    }
   ],
   "source": [
    "# 1.import the regex library\n",
    "import re\n",
    "\n",
    "# 2. Take input\n",
    "text = input(\"Enter the String:-\")\n",
    "\n",
    "# 3. Define pattern to find at least 4 characters long string using re.compile.\n",
    "\n",
    "pattern=re.compile(r\"\\b\\w{4,}\\b\")\n",
    "print(re.findall(r\"\\b\\w{4,}\\b\", text))"
   ]
  },
  {
   "cell_type": "code",
   "execution_count": null,
   "id": "f9e12b92",
   "metadata": {},
   "outputs": [],
   "source": [
    "Question 4- Create a function in python to find all three, \n",
    "four, and five character words in a string. \n",
    "The use of the re.compile() method is mandatory."
   ]
  },
  {
   "cell_type": "code",
   "execution_count": 33,
   "id": "0b0885c7",
   "metadata": {},
   "outputs": [
    {
     "name": "stdout",
     "output_type": "stream",
     "text": [
      "Enter the StringWrite a python program to remove\n",
      "['Write']\n"
     ]
    }
   ],
   "source": [
    "# 1.import the regex library\n",
    "import re\n",
    "\n",
    "#2. Take input \n",
    "text = input(\"Enter the String\")\n",
    "\n",
    "# 3. Define pattern using re.compile()\n",
    "pattern=re.compile(r\"\\b\\w{3,5}\\b\")\n",
    "\n",
    "#re. findall()-returns all non-overlapping matches of pattern in string, as a list of strings. The string is scanned left-to-right, and matches are returned in the order found.\n",
    "print(re.findall(r\"\\b\\w{3,5}\\b\", text))"
   ]
  },
  {
   "cell_type": "code",
   "execution_count": null,
   "id": "1ed68e9c",
   "metadata": {},
   "outputs": [],
   "source": [
    "Question 5- Create a function in Python to remove the parenthesis in a list of strings. \n",
    "The use of the re.compile() method is mandatory.\n",
    "Sample Text: [\"example (.com)\", \"hr@fliprobo (.com)\", \"github (.com)\", \"Hello (Data Science World)\",\n",
    "              \"Data (Scientist)\"]\n",
    "Expected Output:\n",
    "example.com\n",
    "hr@fliprobo.com\n",
    "github.com\n",
    "Hello Data Science World\n",
    "Data Scientist"
   ]
  },
  {
   "cell_type": "code",
   "execution_count": 73,
   "id": "aa2e11a1",
   "metadata": {},
   "outputs": [
    {
     "ename": "IndentationError",
     "evalue": "unexpected indent (Temp/ipykernel_3300/3298486112.py, line 15)",
     "output_type": "error",
     "traceback": [
      "\u001b[1;36m  File \u001b[1;32m\"C:\\Users\\HP\\AppData\\Local\\Temp/ipykernel_3300/3298486112.py\"\u001b[1;36m, line \u001b[1;32m15\u001b[0m\n\u001b[1;33m    text[i]= pattern.sub(\"()\",text[i])\u001b[0m\n\u001b[1;37m    ^\u001b[0m\n\u001b[1;31mIndentationError\u001b[0m\u001b[1;31m:\u001b[0m unexpected indent\n"
     ]
    }
   ],
   "source": [
    "# 1. import the regex library\n",
    "import re\n",
    "\n",
    "# 2. The source string.\n",
    "text = [\"example (.com)\", \"hr@fliprobo (.com)\", \"github (.com)\", \"Hello (Data Science World)\",\n",
    "              \"Data (Scientist)\"]\n",
    "# 3. re.compile() used to compile a regular expression pattern\n",
    "pattern = re.compile (r\"\\([^()]*\\)\")\n",
    "\n",
    "\n",
    "#for i in range(len(text)):\n",
    "# 4.pattern.sub() used to replace all occurences of the pattern in a string. It takes 2 arguments: \n",
    "#the replacement string and the string to modify \n",
    "   \n",
    "    text[i]= pattern.sub(\"()\",text[i])\n",
    " \n",
    "    print(text)"
   ]
  },
  {
   "cell_type": "code",
   "execution_count": null,
   "id": "318ffd43",
   "metadata": {},
   "outputs": [],
   "source": []
  },
  {
   "cell_type": "code",
   "execution_count": null,
   "id": "a522a162",
   "metadata": {},
   "outputs": [],
   "source": [
    "Question 6- Write a python program to remove the parenthesis area from\n",
    "the text stored in the text file using Regular Expression.\n",
    "Sample Text: [\"example (.com)\", \"hr@fliprobo (.com)\", \"github (.com)\", \"Hello (Data Science World)\",\n",
    "              \"Data (Scientist)\"]\n",
    "Expected Output: [\"example\", \"hr@fliprobo\", \"github\", \"Hello\", \"Data\"]\n",
    "Note- Store given sample text in the text file and then to remove the parenthesis area from the text."
   ]
  },
  {
   "cell_type": "code",
   "execution_count": 2,
   "id": "957205cb",
   "metadata": {},
   "outputs": [
    {
     "name": "stdout",
     "output_type": "stream",
     "text": [
      "['example', 'hr@fliprobo', 'github', 'Hello', 'Data']\n"
     ]
    }
   ],
   "source": [
    "# 1. Import regex library\n",
    "import re\n",
    "\n",
    "# 2. Source String\n",
    "text = [\"example (.com)\", \"hr@fliprobo (.com)\", \"github (.com)\", \"Hello (Data Science World)\",\n",
    "              \"Data (Scientist)\"]\n",
    "# 3. Find pattern using re.compile()method.\n",
    "pattern = re.compile(r\"\\([^()]*\\)\")\n",
    "list = []\n",
    "for a in text:\n",
    "  list.append(pattern.sub('', a).strip())\n",
    "#  4. append()\tAdds an element at the end of the list\n",
    "# 5. list = [regex.sub('', a).strip() for a in text]\n",
    "print(list)"
   ]
  },
  {
   "cell_type": "code",
   "execution_count": null,
   "id": "799e00dc",
   "metadata": {},
   "outputs": [],
   "source": [
    "Question 7- Write a regular expression in Python to split a string into uppercase letters.\n",
    "Sample text: “ImportanceOfRegularExpressionsInPython”\n",
    "Expected Output: [‘Importance’, ‘Of’, ‘Regular’, ‘Expression’, ‘In’, ‘Python’]"
   ]
  },
  {
   "cell_type": "code",
   "execution_count": 56,
   "id": "3eaefbd1",
   "metadata": {},
   "outputs": [
    {
     "name": "stdout",
     "output_type": "stream",
     "text": [
      "['Importance', 'Of', 'Regular', 'Expressions', 'In', 'Python']\n"
     ]
    }
   ],
   "source": [
    "import re\n",
    "text = \"ImportanceOfRegularExpressionsInPython\"\n",
    "print(re.findall('[A-Z][^A-Z]*', text))\n"
   ]
  },
  {
   "cell_type": "code",
   "execution_count": null,
   "id": "8e0e4d4e",
   "metadata": {},
   "outputs": [],
   "source": [
    "Question 8- Create a function in python to insert spaces between words starting with numbers.\n",
    "Sample Text: “RegularExpression1IsAn2ImportantTopic3InPython\"\n",
    "Expected Output: RegularExpression 1IsAn 2ImportantTopic 3InPython"
   ]
  },
  {
   "cell_type": "code",
   "execution_count": 62,
   "id": "1a33e0f0",
   "metadata": {},
   "outputs": [
    {
     "name": "stdout",
     "output_type": "stream",
     "text": [
      "RegularExpression 1IsAn 2ImportantTopic 3InPython\n"
     ]
    }
   ],
   "source": [
    "import re\n",
    "text=\"RegularExpression1IsAn2ImportantTopic3InPython\"\n",
    "def give_spaces(text):\n",
    "  return re.sub(r\"(\\w)([0-9])\", r\"\\1 \\2\", text)\n",
    "\n",
    "print(give_spaces(\"RegularExpression1IsAn2ImportantTopic3InPython\"))\n"
   ]
  },
  {
   "cell_type": "code",
   "execution_count": null,
   "id": "bc87c54b",
   "metadata": {},
   "outputs": [],
   "source": [
    "Question 9- Create a function in python to insert spaces between words starting with \n",
    "capital letters or with numbers.\n",
    "Sample Text: “RegularExpression1IsAn2ImportantTopic3InPython\"\n",
    "Expected Output:  RegularExpression 1 IsAn 2 ImportantTopic 3 InPython"
   ]
  },
  {
   "cell_type": "code",
   "execution_count": 2,
   "id": "fa16d78b",
   "metadata": {},
   "outputs": [
    {
     "name": "stdout",
     "output_type": "stream",
     "text": [
      "Regular Expression 1Is An 2Important Topic 3In Python\n"
     ]
    }
   ],
   "source": [
    "import re\n",
    "text=\"RegularExpression1IsAn2ImportantTopic3InPython\"\n",
    "def give_spaces(text):\n",
    "  return re.sub(r\"(\\w)([A-Z0-9])\", r\"\\1 \\2\", text)\n",
    "\n",
    "print(give_spaces(\"RegularExpression1IsAn2ImportantTopic3InPython\"))\n"
   ]
  },
  {
   "cell_type": "code",
   "execution_count": null,
   "id": "d68e7f6f",
   "metadata": {},
   "outputs": [],
   "source": [
    "Question 10- Write a python program to extract email address from the text stored in the text\n",
    "file using Regular Expression.\n",
    "Sample Text- Hello my name is Data Science and my email address is xyz@domain.com and \n",
    "alternate email address is xyz.abc@sdomain.domain.com. \n",
    "Please contact us at hr@fliprobo.com for further information. \n",
    "Expected Output: \n",
    "['xyz@domain.com', 'xyz.abc@sdomain.domain.com']\n",
    "['hr@fliprobo.com']\n",
    "\n",
    "Note- Store given sample text in the text file and then extract email addresses."
   ]
  },
  {
   "cell_type": "code",
   "execution_count": 75,
   "id": "0ae7f51f",
   "metadata": {},
   "outputs": [
    {
     "name": "stdout",
     "output_type": "stream",
     "text": [
      "['xyz@domain.com', 'xyz.abc@sdomain.domain.com.Please', 'hr@fliprobo.com']\n"
     ]
    }
   ],
   "source": [
    "import re\n",
    "text= 'Hello my name is Data Science and my email address is xyz@domain.com and alternate email address is xyz.abc@sdomain.domain.com.Please contact us at hr@fliprobo.com for further information. '\n",
    "  \n",
    "\n",
    "emailids = re.findall('\\S+@\\S+', text)    \n",
    "  \n",
    "# Printing of List\n",
    "print(emailids)"
   ]
  },
  {
   "cell_type": "code",
   "execution_count": 3,
   "id": "2455f3d9",
   "metadata": {},
   "outputs": [],
   "source": [
    "#Question 11- Write a Python program to match a string that contains only upper and \n",
    "#lowercase letters, numbers, and underscores.\n"
   ]
  },
  {
   "cell_type": "code",
   "execution_count": 16,
   "id": "d1383cde",
   "metadata": {},
   "outputs": [
    {
     "name": "stdout",
     "output_type": "stream",
     "text": [
      "Not matched!\n",
      "It is a match!\n"
     ]
    }
   ],
   "source": [
    "\n",
    "import re\n",
    "def text_match(text):\n",
    "        pattern = '^[a-zA-Z0-9_]*$'\n",
    "        if re.search(pattern,text):\n",
    "                return ('It is a match!')\n",
    "        else:\n",
    "                return('Not matched!')\n",
    "\n",
    "print(text_match(\"The West is trying to create an enemy \"))\n",
    "print(text_match(\"Regex_2\"))"
   ]
  },
  {
   "cell_type": "code",
   "execution_count": null,
   "id": "034fd18e",
   "metadata": {},
   "outputs": [],
   "source": [
    "Question 12- Write a Python program where a string will start with a specific number. "
   ]
  },
  {
   "cell_type": "code",
   "execution_count": 18,
   "id": "c40c768c",
   "metadata": {},
   "outputs": [
    {
     "name": "stdout",
     "output_type": "stream",
     "text": [
      "True\n",
      "False\n"
     ]
    }
   ],
   "source": [
    "import re\n",
    "def specific_num(string):\n",
    "    text = re.compile(r\"^2\")\n",
    "    if text.match(string):\n",
    "        return True\n",
    "    else:\n",
    "        return False\n",
    "print(specific_num('26758'))\n",
    "print(specific_num('12356'))\n"
   ]
  },
  {
   "cell_type": "code",
   "execution_count": null,
   "id": "9f3f767c",
   "metadata": {},
   "outputs": [],
   "source": [
    "Question 13- Write a Python program to remove leading zeros from an IP address\n"
   ]
  },
  {
   "cell_type": "code",
   "execution_count": 23,
   "id": "ce910da5",
   "metadata": {},
   "outputs": [
    {
     "name": "stdout",
     "output_type": "stream",
     "text": [
      "203.194.97.6\n"
     ]
    }
   ],
   "source": [
    "import re\n",
    "ip = \"203.194.097.06\"\n",
    "string = re.sub('\\.[0]*', '.', ip)\n",
    "print(string)"
   ]
  },
  {
   "cell_type": "code",
   "execution_count": 32,
   "id": "66405f2d",
   "metadata": {},
   "outputs": [],
   "source": [
    "#Question 14- Write a regular expression in python to match a date string in the form of Month name \n",
    "#followed by day number and year stored in a text file.\n",
    "#Sample text :  ' On August 15th 1947 that India was declared independent from British colonialism,\n",
    "#and the reins of control were handed over to the leaders of the Country’.\n",
    "#Expected Output- August 15th 1947\n",
    "#Note- Store given sample text in the text file and then extract the date string asked format."
   ]
  },
  {
   "cell_type": "code",
   "execution_count": 25,
   "id": "ce73c766",
   "metadata": {},
   "outputs": [
    {
     "name": "stdout",
     "output_type": "stream",
     "text": [
      "August 15th 1947\n"
     ]
    }
   ],
   "source": [
    "import re\n",
    "\n",
    "text = \"On August 15th 1947 that India was declared independent from British colonialism, and the reins of control were handed over to the leaders of the Country.\"\n",
    "\n",
    "pattern = r\"\\b([A-Z][a-z]+ \\d{1,2}(?:st|nd|rd|th)? \\d{4})\\b\"\n",
    "\n",
    "matches = re.findall(pattern, text)\n",
    "string = matches[0] if matches else None\n",
    "\n",
    "print(string)"
   ]
  },
  {
   "cell_type": "code",
   "execution_count": null,
   "id": "597e8f5a",
   "metadata": {},
   "outputs": [],
   "source": [
    "Question 15- Write a Python program to search some literals strings in a string. \n",
    "Sample text : 'The quick brown fox jumps over the lazy dog.'\n",
    "Searched words : 'fox', 'dog', 'horse'"
   ]
  },
  {
   "cell_type": "code",
   "execution_count": 34,
   "id": "1ccebd06",
   "metadata": {},
   "outputs": [
    {
     "name": "stdout",
     "output_type": "stream",
     "text": [
      "The literals for \"fox\" in \"The quick brown fox jumps over the lazy dog.\" are\n",
      "Matched!\n",
      "The literals for \"dog\" in \"The quick brown fox jumps over the lazy dog.\" are\n",
      "Matched!\n",
      "The literals for \"horse\" in \"The quick brown fox jumps over the lazy dog.\" are\n",
      "Not Matched!\n"
     ]
    }
   ],
   "source": [
    "import re\n",
    "pattern = [ 'fox', 'dog', 'horse' ]\n",
    "text = 'The quick brown fox jumps over the lazy dog.'\n",
    "for pattern in pattern:\n",
    "    print('The literals for \"%s\" in \"%s\" are' % (pattern, text),)\n",
    "    if re.search(pattern,  text):\n",
    "        print('Matched!')\n",
    "    else:\n",
    "        print('Not Matched!')"
   ]
  },
  {
   "cell_type": "code",
   "execution_count": 35,
   "id": "6772dd7e",
   "metadata": {},
   "outputs": [],
   "source": [
    "#Question 16- Write a Python program to search a literals string in a string and \n",
    "#also find the location within the original string where the pattern occurs\n",
    "#Sample text : 'The quick brown fox jumps over the lazy dog.'\n",
    "#Searched words : 'fox'"
   ]
  },
  {
   "cell_type": "code",
   "execution_count": 29,
   "id": "53142228",
   "metadata": {},
   "outputs": [
    {
     "name": "stdout",
     "output_type": "stream",
     "text": [
      "Found \"fox\" in \"The quick brown fox jumps over the lazy dog.\" from 16 to 19 \n"
     ]
    }
   ],
   "source": [
    "import re\n",
    "pattern = 'fox'\n",
    "text = 'The quick brown fox jumps over the lazy dog.'\n",
    "match = re.search(pattern, text)\n",
    "start= match.start()\n",
    "end = match.end()\n",
    "print('Found \"%s\" in \"%s\" from %d to %d ' % \\\n",
    "    (match.re.pattern, match.string, start, end))\n"
   ]
  },
  {
   "cell_type": "code",
   "execution_count": 36,
   "id": "48b08adf",
   "metadata": {},
   "outputs": [],
   "source": [
    "#Question 17- Write a Python program to find the substrings within a string.\n",
    "#Sample text : 'Python exercises, PHP exercises, C# exercises'\n",
    "#Pattern : 'exercises'."
   ]
  },
  {
   "cell_type": "code",
   "execution_count": 31,
   "id": "73c4d04a",
   "metadata": {},
   "outputs": [
    {
     "name": "stdout",
     "output_type": "stream",
     "text": [
      "Found \"exercises\"\n",
      "Found \"exercises\"\n",
      "Found \"exercises\"\n"
     ]
    }
   ],
   "source": [
    "import re\n",
    "text = 'Python exercises, PHP exercises, C# exercises'\n",
    "pattern = 'exercises'\n",
    "for match in re.findall(pattern, text):\n",
    "    print('Found \"%s\"' % match)\n"
   ]
  },
  {
   "cell_type": "code",
   "execution_count": null,
   "id": "8055f2e5",
   "metadata": {},
   "outputs": [],
   "source": [
    "Question 18- Write a Python program to find the occurrence and position of the substrings within a string."
   ]
  },
  {
   "cell_type": "code",
   "execution_count": 38,
   "id": "6fb6c3eb",
   "metadata": {},
   "outputs": [
    {
     "name": "stdout",
     "output_type": "stream",
     "text": [
      "Found \"Indian Navy\" at 4:15\n",
      "Found \"Indian Navy\" at 55:66\n"
     ]
    }
   ],
   "source": [
    "import re\n",
    "text = 'The Indian Navy, on Saturday announced changes to its, Indian Navy appraisal policy'\n",
    "pattern = 'Indian Navy'\n",
    "for match in re.finditer(pattern, text):\n",
    "    start = match.start()\n",
    "    end = match.end()\n",
    "    print('Found \"%s\" at %d:%d' % (text[start:end], start, end))\n"
   ]
  },
  {
   "cell_type": "code",
   "execution_count": null,
   "id": "bb888979",
   "metadata": {},
   "outputs": [],
   "source": [
    "Question 19- Write a Python program to convert a date of yyyy-mm-dd format to dd-mm-yyyy format."
   ]
  },
  {
   "cell_type": "code",
   "execution_count": 39,
   "id": "7dda35ec",
   "metadata": {},
   "outputs": [
    {
     "name": "stdout",
     "output_type": "stream",
     "text": [
      "Original date in YYY-MM-DD Format:  2023-05-04\n",
      "New date in DD-MM-YYYY Format:  04-05-2023\n"
     ]
    }
   ],
   "source": [
    "import re\n",
    "def change_date_format(dt):\n",
    "        return re.sub(r'(\\d{4})-(\\d{1,2})-(\\d{1,2})', '\\\\3-\\\\2-\\\\1', dt)\n",
    "dt_new = \"2023-05-04\"\n",
    "print(\"Original date in YYY-MM-DD Format: \",dt_new)\n",
    "print(\"New date in DD-MM-YYYY Format: \",change_date_format(dt_new))\n"
   ]
  },
  {
   "cell_type": "code",
   "execution_count": null,
   "id": "b91f41d6",
   "metadata": {},
   "outputs": [],
   "source": [
    "Question 20- Create a function in python to find all decimal numbers with a precision of 1 or 2 in a string. The use of the re.compile() method is mandatory.\n",
    "Sample Text: \"01.12 0132.123 2.31875 145.8 3.01 27.25 0.25\"\n",
    "Expected Output: ['01.12', '145.8', '3.01', '27.25', '0.25']\n"
   ]
  },
  {
   "cell_type": "code",
   "execution_count": 43,
   "id": "67b2875a",
   "metadata": {},
   "outputs": [
    {
     "name": "stdout",
     "output_type": "stream",
     "text": [
      "01.12 0132.123 2.31875 145.8 3.01 27.25 0.25\n"
     ]
    }
   ],
   "source": [
    "import re\n",
    "\n",
    "def find_decimal_numbers(string):\n",
    "  pattern = re.compile(r'\\d+\\.\\d{1,2}')\n",
    "  decimal_numbers = re.findall(pattern, string)\n",
    "  return find_decimal_numbers\n",
    "text = \"01.12 0132.123 2.31875 145.8 3.01 27.25 0.25\"\n",
    "Result = find_decimal_numbers(text)\n",
    "print(text)"
   ]
  },
  {
   "cell_type": "code",
   "execution_count": null,
   "id": "550caa9f",
   "metadata": {},
   "outputs": [],
   "source": [
    "Question 21- Write a Python program to separate and print the numbers and their position of a given string."
   ]
  },
  {
   "cell_type": "code",
   "execution_count": 50,
   "id": "8c3aa289",
   "metadata": {},
   "outputs": [
    {
     "name": "stdout",
     "output_type": "stream",
     "text": [
      "50\n",
      "Index position is: 48\n",
      "50\n",
      "Index position is: 115\n"
     ]
    }
   ],
   "source": [
    "import re\n",
    "\n",
    "text = \"Mr. Kaza said that ransomware attacks are up by 200%, especially password-based attacks. “This year, approximately 156000 daily BEC (Business Email Compromise) attempts were observed.\"\n",
    "\n",
    "for p in re.finditer(\"\\d+\", text):\n",
    "    print(m.group(0))\n",
    "    print(\"Index position is:\", p.start())"
   ]
  },
  {
   "cell_type": "code",
   "execution_count": null,
   "id": "22451ef4",
   "metadata": {},
   "outputs": [],
   "source": [
    "Question 22- Write a regular expression in python program to extract maximum/largest numeric value from a string.\n",
    "Sample Text:  'My marks in each semester are: 947, 896, 926, 524, 734, 950, 642'\n",
    "Expected Output: 950"
   ]
  },
  {
   "cell_type": "code",
   "execution_count": 51,
   "id": "915af09e",
   "metadata": {},
   "outputs": [
    {
     "name": "stdout",
     "output_type": "stream",
     "text": [
      "Max_value: 950\n"
     ]
    }
   ],
   "source": [
    "import re\n",
    "#input\n",
    "text='My marks in each semester are: 947, 896, 926, 524, 734, 950, 642'\n",
    "number = re.findall('\\d+', text)\n",
    "number = map(int, number)\n",
    "print(\"Max_value:\",max(number))"
   ]
  },
  {
   "cell_type": "code",
   "execution_count": null,
   "id": "6c26ac21",
   "metadata": {},
   "outputs": [],
   "source": [
    "Question 23- Create a function in python to insert spaces between words starting with capital letters.\n",
    "Sample Text: “RegularExpressionIsAnImportantTopicInPython\"\n",
    "Expected Output: Regular Expression Is An Important Topic In Python"
   ]
  },
  {
   "cell_type": "code",
   "execution_count": 52,
   "id": "c3bc90bb",
   "metadata": {},
   "outputs": [
    {
     "name": "stdout",
     "output_type": "stream",
     "text": [
      "Regular Expression Is An Important Topic In Python\n"
     ]
    }
   ],
   "source": [
    "import re\n",
    "def spaces_cap(str1):\n",
    "  return re.sub(r\"(\\w)([A-Z])\", r\"\\1 \\2\", str1)\n",
    "\n",
    "print(spaces_cap(\"RegularExpressionIsAnImportantTopicInPython\"))\n"
   ]
  },
  {
   "cell_type": "code",
   "execution_count": 62,
   "id": "61d8bc0f",
   "metadata": {},
   "outputs": [],
   "source": [
    "#Question 24- Python regex to find sequences of one upper case letter followed by lower case letters"
   ]
  },
  {
   "cell_type": "code",
   "execution_count": 54,
   "id": "ac9e3e7b",
   "metadata": {},
   "outputs": [
    {
     "name": "stdout",
     "output_type": "stream",
     "text": [
      "It is a match!\n",
      "It is a match!\n",
      "It is a match!\n",
      "Not matched!\n",
      "Not matched!\n",
      "It is a match!\n"
     ]
    }
   ],
   "source": [
    "import re\n",
    "def text_match(text):\n",
    "        patterns = '[A-Z]+[a-z]+$'\n",
    "        if re.search(patterns, text):\n",
    "                return 'It is a match!'\n",
    "        else:\n",
    "                return('Not matched!')\n",
    "print(text_match(\"Python\"))\n",
    "print(text_match(\"Pandas\"))\n",
    "print(text_match(\"RegEx\"))\n",
    "print(text_match(\"PYTHON\"))\n",
    "print(text_match(\"eX\"))\n",
    "print(text_match(\"Sa\"))\n"
   ]
  },
  {
   "cell_type": "code",
   "execution_count": 63,
   "id": "97b7a8de",
   "metadata": {},
   "outputs": [],
   "source": [
    "#Question 25- Write a Python program to remove continuous duplicate words from Sentence using Regular Expression.\n",
    "#Sample Text: \"Hello hello world world\"\n",
    "#Expected Output: Hello hello world\n"
   ]
  },
  {
   "cell_type": "code",
   "execution_count": 8,
   "id": "994692f5",
   "metadata": {},
   "outputs": [
    {
     "name": "stdout",
     "output_type": "stream",
     "text": [
      "Hello hello world\n"
     ]
    }
   ],
   "source": [
    "import re\n",
    "\n",
    "def removeDuplicate(text):\n",
    "    pattern= r'\\b(\\w+)(?:\\W+\\1\\b)+' \n",
    "    return re.sub(pattern, r'\\1', text)\n",
    "\n",
    "string = \"Hello hello world world\"\n",
    "print(removeDuplicate(string))\n"
   ]
  },
  {
   "cell_type": "code",
   "execution_count": 10,
   "id": "231ecc8b",
   "metadata": {},
   "outputs": [],
   "source": [
    "#Question 26-  Write a python program using RegEx to accept string ending with alphanumeric character."
   ]
  },
  {
   "cell_type": "code",
   "execution_count": 16,
   "id": "098c4b84",
   "metadata": {},
   "outputs": [
    {
     "name": "stdout",
     "output_type": "stream",
     "text": [
      "Enter the stringdshduh@\n",
      "The string is :\n",
      "dshduh@\n",
      "The string doesnot end with alphanumeric character\n"
     ]
    }
   ],
   "source": [
    "import re\n",
    "\n",
    "pattern = '[a-zA-z0-9]$'\n",
    "\n",
    "def check_string(string):\n",
    "\n",
    "   if(re.search(pattern, string)):\n",
    "      print(\"The string ends with alphanumeric character\")\n",
    "\n",
    "   else:\n",
    "      print(\"The string doesnot end with alphanumeric character\")\n",
    "\n",
    "\n",
    "string_1 = input(\"Enter the string\")\n",
    "print(\"The string is :\")\n",
    "print(string_1)\n",
    "check_string(string_1)"
   ]
  },
  {
   "cell_type": "code",
   "execution_count": 17,
   "id": "59701065",
   "metadata": {},
   "outputs": [],
   "source": [
    "#Question 27-Write a python program using RegEx to extract the hashtags.\n",
    "#Sample Text:  \"\"\"RT @kapil_kausik: #Doltiwal I mean #xyzabc is \"hurt\" by #Demonetization as the same has rendered USELESS <ed><U+00A0><U+00BD><ed><U+00B1><U+0089> \"acquired funds\" No wo\"\"\"\n",
    "#Expected Output: ['#Doltiwal', '#xyzabc', '#Demonetization']"
   ]
  },
  {
   "cell_type": "code",
   "execution_count": 24,
   "id": "68333119",
   "metadata": {},
   "outputs": [
    {
     "data": {
      "text/plain": [
       "['#Doltiwal', '#xyzabc', '#Demonetization']"
      ]
     },
     "execution_count": 24,
     "metadata": {},
     "output_type": "execute_result"
    }
   ],
   "source": [
    "# the source text\n",
    "text =(\"\"\"RT @kapil_kausik: #Doltiwal I mean #xyzabc is \"hurt\" by #Demonetization as the same has rendered USELESS <ed><U+00A0><U+00BD><ed><U+00B1><U+0089> \"acquired funds\" No wo\"\"\")\n",
    "\n",
    "import re\n",
    "\n",
    "pattern = r'#\\S+'\n",
    "\n",
    "re.findall(pattern, text)"
   ]
  },
  {
   "cell_type": "code",
   "execution_count": 74,
   "id": "d03896f1",
   "metadata": {},
   "outputs": [],
   "source": [
    "#Question 28- Write a python program using RegEx to remove <U+..> like symbols\n",
    "#Check the below sample text, there are strange symbols something of the sort <U+..> all over the place. You need to come up with a general Regex expression that will cover all such symbols.\n",
    "#Sample Text: \"@Jags123456 Bharat band on 28??<ed><U+00A0><U+00BD><ed><U+00B8><U+0082>Those who  are protesting #demonetization  are all different party leaders\"\n",
    "#Expected Output: @Jags123456 Bharat band on 28??<ed><ed>Those who  are protesting #demonetization  are all different party leaders"
   ]
  },
  {
   "cell_type": "code",
   "execution_count": 25,
   "id": "60633a88",
   "metadata": {},
   "outputs": [
    {
     "name": "stdout",
     "output_type": "stream",
     "text": [
      "@Jags123456 Bharat band on 28??<ed><ed>Those who are protesting #demonetization are all different party leaders\n"
     ]
    }
   ],
   "source": [
    "import re\n",
    "\n",
    "text = \"@Jags123456 Bharat band on 28??<ed><U+00A0><U+00BD><ed><U+00B8><U+0082>Those who are protesting #demonetization are all different party leaders\"\n",
    "\n",
    "pattern = r\"<U\\+\\w{4}>\"\n",
    "result = re.sub(pattern, \"\", text)\n",
    "\n",
    "print(result)"
   ]
  },
  {
   "cell_type": "code",
   "execution_count": 29,
   "id": "75682c46",
   "metadata": {},
   "outputs": [],
   "source": [
    "#Question 29- Write a python program to extract dates from the text stored in the text file.\n",
    "#Sample Text: Ron was born on 12-09-1992 and he was admitted to school 15-12-1999.\n",
    "#Note- Store this sample text in the file and then extract dates.\n"
   ]
  },
  {
   "cell_type": "code",
   "execution_count": 28,
   "id": "c36a25e2",
   "metadata": {},
   "outputs": [
    {
     "name": "stdout",
     "output_type": "stream",
     "text": [
      "12-09-1992\n",
      "15-12-1999\n"
     ]
    }
   ],
   "source": [
    "import re\n",
    "\n",
    "with open('F://Data Science//record.txt', 'r') as file:\n",
    "  text = file.read()\n",
    "\n",
    "pattern = r'\\d{2}-\\d{2}-\\d{4}'\n",
    "\n",
    "dates = re.findall(pattern, text)\n",
    "\n",
    "for date in dates:\n",
    "  print(date)"
   ]
  },
  {
   "cell_type": "code",
   "execution_count": 30,
   "id": "58fa9e42",
   "metadata": {},
   "outputs": [],
   "source": [
    "#Question 30- Create a function in python to remove all words from a string of length between 2 and 4.\n",
    "#The use of the re.compile() method is mandatory.\n",
    "#Sample Text: \"The following example creates an ArrayList with a capacity of 50 elements. 4 elements are then added to the ArrayList and the ArrayList is trimmed accordingly.\"\n",
    "#Expected Output:  following example creates ArrayList a capacity elements. 4 elements added ArrayList ArrayList trimmed accordingly."
   ]
  },
  {
   "cell_type": "code",
   "execution_count": 31,
   "id": "031a7ea7",
   "metadata": {},
   "outputs": [
    {
     "name": "stdout",
     "output_type": "stream",
     "text": [
      " following example creates ArrayList a capacity elements. 4 elements added ArrayList ArrayList trimmed accordingly.\n"
     ]
    }
   ],
   "source": [
    "import re\n",
    "text = \"The following example creates an ArrayList with a capacity of 50 elements. 4 elements are then added to the ArrayList and the ArrayList is trimmed accordingly.\"\n",
    "removeword = re.compile(r'\\W*\\b\\w{2,4}\\b')\n",
    "print(removeword.sub('', text))\n"
   ]
  }
 ],
 "metadata": {
  "kernelspec": {
   "display_name": "Python 3 (ipykernel)",
   "language": "python",
   "name": "python3"
  },
  "language_info": {
   "codemirror_mode": {
    "name": "ipython",
    "version": 3
   },
   "file_extension": ".py",
   "mimetype": "text/x-python",
   "name": "python",
   "nbconvert_exporter": "python",
   "pygments_lexer": "ipython3",
   "version": "3.9.7"
  }
 },
 "nbformat": 4,
 "nbformat_minor": 5
}
