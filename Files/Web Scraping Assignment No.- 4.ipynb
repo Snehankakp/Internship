{
 "cells": [
  {
   "cell_type": "markdown",
   "id": "8cc93d5d",
   "metadata": {},
   "source": [
    "# WEB SCRAPING ASSIGNMENT NO.-4"
   ]
  },
  {
   "cell_type": "markdown",
   "id": "b606245f",
   "metadata": {},
   "source": [
    "# 1. Scrape the details of most viewed videos on YouTube from Wikipedia. Url = https://en.wikipedia.org/wiki/List_of_most-viewed_YouTube_videos You need to find following details: A) Rank\n",
    "B) Name\n",
    "C) Artist\n",
    "D) Upload date\n",
    "E) Views"
   ]
  },
  {
   "cell_type": "code",
   "execution_count": 1,
   "id": "8bce580f",
   "metadata": {},
   "outputs": [],
   "source": [
    "import selenium\n",
    "import pandas as pd\n",
    "from selenium import webdriver\n",
    "from selenium.common.exceptions import StaleElementReferenceException,NoSuchElementException,ElementNotVisibleException,ElementClickInterceptedException\n",
    "from selenium.webdriver.common.by import By\n",
    "from selenium.webdriver.support.select import Select\n",
    "from selenium.webdriver.common.keys import Keys\n",
    "from selenium.webdriver.support.ui import WebDriverWait\n",
    "from selenium.webdriver.support import expected_conditions as EC\n",
    "from selenium.webdriver.common.keys import Keys\n",
    "from selenium.webdriver.common.action_chains import ActionChains\n",
    "from selenium.webdriver.chrome.options import Options\n",
    "import re\n",
    "import time\n",
    "import warnings\n",
    "import requests\n",
    "\n",
    "warnings.filterwarnings(\"ignore\")"
   ]
  },
  {
   "cell_type": "code",
   "execution_count": 2,
   "id": "dc2767ff",
   "metadata": {},
   "outputs": [],
   "source": [
    "#connecting to the webdriver\n",
    "\n",
    "driver = webdriver.Chrome()"
   ]
  },
  {
   "cell_type": "code",
   "execution_count": 3,
   "id": "453a1d9b",
   "metadata": {},
   "outputs": [],
   "source": [
    "#Opening the Amazon page on automated browser\n",
    "\n",
    "URL=\" https://en.wikipedia.org/wiki/List_of_most-viewed_YouTube_videos\"\n",
    "driver.get(URL)\n",
    "driver.maximize_window()"
   ]
  },
  {
   "cell_type": "code",
   "execution_count": 4,
   "id": "db1276f1",
   "metadata": {},
   "outputs": [],
   "source": [
    "time.sleep(2)"
   ]
  },
  {
   "cell_type": "code",
   "execution_count": 5,
   "id": "37dfb9bf",
   "metadata": {},
   "outputs": [],
   "source": [
    "# Empty list for scraping data\n",
    "Rank =[]\n",
    "Name =[]\n",
    "Artist =[]\n",
    "Upload_date=[]\n",
    "Views=[]"
   ]
  },
  {
   "cell_type": "code",
   "execution_count": 7,
   "id": "a008df63",
   "metadata": {},
   "outputs": [],
   "source": [
    "# Extracting Rank Via X path\n",
    "try:\n",
    "    rank=driver.find_elements(By.XPATH,'//table[@class=\"wikitable sortable jquery-tablesorter\"][1]/tbody/tr/td[1]')\n",
    "    for i in rank:\n",
    "        Rank.append(i.text)\n",
    "except NoSuchElementException:\n",
    "    Rank.append('NA')\n",
    "except StaleElementReferenceException:\n",
    "    Rank.append('NA')"
   ]
  },
  {
   "cell_type": "code",
   "execution_count": 9,
   "id": "9557fc58",
   "metadata": {},
   "outputs": [],
   "source": [
    "# Extracting Name Via X path\n",
    "try:\n",
    "    name=driver.find_elements(By.XPATH,'//table[@class=\"wikitable sortable jquery-tablesorter\"][1]/tbody/tr/td[2]')\n",
    "    for i in name:\n",
    "        Name.append(i.text)\n",
    "except NoSuchElementExceptionhElementException:\n",
    "    Name.append('NA')\n",
    "except StaleElementReferenceException:\n",
    "    Name.append('NA')"
   ]
  },
  {
   "cell_type": "code",
   "execution_count": 10,
   "id": "2d2d86bb",
   "metadata": {},
   "outputs": [],
   "source": [
    "# Extracting Artist Name Via Xpath\n",
    "try:\n",
    "    artist=driver.find_elements(By.XPATH,\"//table[@class='wikitable sortable jquery-tablesorter'][1]/tbody/tr/td[3]\")\n",
    "    for i in artist:\n",
    "        Artist.append(i.text)\n",
    "except NoSuchElementExceptionhElementException:\n",
    "    Artist.append('NA')\n",
    "except StaleElementReferenceException:\n",
    "    Artist.append('NA') "
   ]
  },
  {
   "cell_type": "code",
   "execution_count": 11,
   "id": "24ef3b41",
   "metadata": {},
   "outputs": [],
   "source": [
    "# Extracting Upload date Via Xpath\n",
    "try:\n",
    "    upload_date=driver.find_elements(By.XPATH,\"//table[@class='wikitable sortable jquery-tablesorter'][1]/tbody/tr/td[5]\")\n",
    "    for i in upload_date:\n",
    "        Upload_date.append(i.text)\n",
    "except NoSuchElementExceptionhElementException:\n",
    "    Upload_date.append('NA')\n",
    "except StaleElementReferenceException:\n",
    "    Upload_date.append('NA') "
   ]
  },
  {
   "cell_type": "code",
   "execution_count": 12,
   "id": "d2c70f99",
   "metadata": {},
   "outputs": [],
   "source": [
    "# Extracting Views via Xpath\n",
    "try:\n",
    "    views=driver.find_elements(By.XPATH,\"//table[@class='wikitable sortable jquery-tablesorter'][1]/tbody/tr/td[4]\")\n",
    "    for i in views:\n",
    "        Views.append(i.text)\n",
    "except NoSuchElementExceptionhElementException:\n",
    "    Views.append('NA')\n",
    "except StaleElementReferenceException:\n",
    "    Views.append('NA')"
   ]
  },
  {
   "cell_type": "code",
   "execution_count": 13,
   "id": "bb64cc23",
   "metadata": {},
   "outputs": [
    {
     "name": "stdout",
     "output_type": "stream",
     "text": [
      "\u001b[1mMost Viewed Video on YouTube from Wikipedia :\u001b[0m\n"
     ]
    },
    {
     "data": {
      "text/html": [
       "<div>\n",
       "<style scoped>\n",
       "    .dataframe tbody tr th:only-of-type {\n",
       "        vertical-align: middle;\n",
       "    }\n",
       "\n",
       "    .dataframe tbody tr th {\n",
       "        vertical-align: top;\n",
       "    }\n",
       "\n",
       "    .dataframe thead th {\n",
       "        text-align: right;\n",
       "    }\n",
       "</style>\n",
       "<table border=\"1\" class=\"dataframe\">\n",
       "  <thead>\n",
       "    <tr style=\"text-align: right;\">\n",
       "      <th></th>\n",
       "      <th>Rank</th>\n",
       "      <th>Video Name</th>\n",
       "      <th>Uploader</th>\n",
       "      <th>Views (in Billons)</th>\n",
       "      <th>Upload Date</th>\n",
       "    </tr>\n",
       "  </thead>\n",
       "  <tbody>\n",
       "    <tr>\n",
       "      <th>0</th>\n",
       "      <td>1.</td>\n",
       "      <td>\"Baby Shark Dance\"[6]</td>\n",
       "      <td>Pinkfong Baby Shark - Kids' Songs &amp; Stories</td>\n",
       "      <td>13.65</td>\n",
       "      <td>June 17, 2016</td>\n",
       "    </tr>\n",
       "    <tr>\n",
       "      <th>1</th>\n",
       "      <td>2.</td>\n",
       "      <td>\"Despacito\"[9]</td>\n",
       "      <td>Luis Fonsi</td>\n",
       "      <td>8.32</td>\n",
       "      <td>January 12, 2017</td>\n",
       "    </tr>\n",
       "    <tr>\n",
       "      <th>2</th>\n",
       "      <td>3.</td>\n",
       "      <td>\"Johny Johny Yes Papa\"[17]</td>\n",
       "      <td>LooLoo Kids - Nursery Rhymes and Children's Songs</td>\n",
       "      <td>6.84</td>\n",
       "      <td>October 8, 2016</td>\n",
       "    </tr>\n",
       "    <tr>\n",
       "      <th>3</th>\n",
       "      <td>4.</td>\n",
       "      <td>\"Bath Song\"[18]</td>\n",
       "      <td>Cocomelon - Nursery Rhymes</td>\n",
       "      <td>6.50</td>\n",
       "      <td>May 2, 2018</td>\n",
       "    </tr>\n",
       "    <tr>\n",
       "      <th>4</th>\n",
       "      <td>5.</td>\n",
       "      <td>\"Shape of You\"[19]</td>\n",
       "      <td>Ed Sheeran</td>\n",
       "      <td>6.14</td>\n",
       "      <td>January 30, 2017</td>\n",
       "    </tr>\n",
       "    <tr>\n",
       "      <th>5</th>\n",
       "      <td>6.</td>\n",
       "      <td>\"See You Again\"[22]</td>\n",
       "      <td>Wiz Khalifa</td>\n",
       "      <td>6.09</td>\n",
       "      <td>April 6, 2015</td>\n",
       "    </tr>\n",
       "    <tr>\n",
       "      <th>6</th>\n",
       "      <td>7.</td>\n",
       "      <td>\"Wheels on the Bus\"[27]</td>\n",
       "      <td>Cocomelon - Nursery Rhymes</td>\n",
       "      <td>5.71</td>\n",
       "      <td>May 24, 2018</td>\n",
       "    </tr>\n",
       "    <tr>\n",
       "      <th>7</th>\n",
       "      <td>8.</td>\n",
       "      <td>\"Phonics Song with Two Words\"[28]</td>\n",
       "      <td>ChuChu TV Nursery Rhymes &amp; Kids Songs</td>\n",
       "      <td>5.57</td>\n",
       "      <td>March 6, 2014</td>\n",
       "    </tr>\n",
       "    <tr>\n",
       "      <th>8</th>\n",
       "      <td>9.</td>\n",
       "      <td>\"Uptown Funk\"[29]</td>\n",
       "      <td>Mark Ronson</td>\n",
       "      <td>5.09</td>\n",
       "      <td>November 19, 2014</td>\n",
       "    </tr>\n",
       "    <tr>\n",
       "      <th>9</th>\n",
       "      <td>10.</td>\n",
       "      <td>\"Learning Colors – Colorful Eggs on a Farm\"[30]</td>\n",
       "      <td>Miroshka TV</td>\n",
       "      <td>5.01</td>\n",
       "      <td>February 27, 2018</td>\n",
       "    </tr>\n",
       "    <tr>\n",
       "      <th>10</th>\n",
       "      <td>11.</td>\n",
       "      <td>\"Gangnam Style\"[31]</td>\n",
       "      <td>officialpsy</td>\n",
       "      <td>4.96</td>\n",
       "      <td>July 15, 2012</td>\n",
       "    </tr>\n",
       "    <tr>\n",
       "      <th>11</th>\n",
       "      <td>12.</td>\n",
       "      <td>\"Masha and the Bear – Recipe for Disaster\"[36]</td>\n",
       "      <td>Get Movies</td>\n",
       "      <td>4.57</td>\n",
       "      <td>January 31, 2012</td>\n",
       "    </tr>\n",
       "    <tr>\n",
       "      <th>12</th>\n",
       "      <td>13.</td>\n",
       "      <td>\"Dame Tu Cosita\"[37]</td>\n",
       "      <td>Ultra Records</td>\n",
       "      <td>4.48</td>\n",
       "      <td>April 5, 2018</td>\n",
       "    </tr>\n",
       "    <tr>\n",
       "      <th>13</th>\n",
       "      <td>14.</td>\n",
       "      <td>\"Axel F\"[38]</td>\n",
       "      <td>Crazy Frog</td>\n",
       "      <td>4.16</td>\n",
       "      <td>June 16, 2009</td>\n",
       "    </tr>\n",
       "    <tr>\n",
       "      <th>14</th>\n",
       "      <td>15.</td>\n",
       "      <td>\"Sugar\"[39]</td>\n",
       "      <td>Maroon 5</td>\n",
       "      <td>3.97</td>\n",
       "      <td>January 14, 2015</td>\n",
       "    </tr>\n",
       "    <tr>\n",
       "      <th>15</th>\n",
       "      <td>16.</td>\n",
       "      <td>\"Counting Stars\"[40]</td>\n",
       "      <td>OneRepublic</td>\n",
       "      <td>3.92</td>\n",
       "      <td>May 31, 2013</td>\n",
       "    </tr>\n",
       "    <tr>\n",
       "      <th>16</th>\n",
       "      <td>17.</td>\n",
       "      <td>\"Roar\"[41]</td>\n",
       "      <td>Katy Perry</td>\n",
       "      <td>3.91</td>\n",
       "      <td>September 5, 2013</td>\n",
       "    </tr>\n",
       "    <tr>\n",
       "      <th>17</th>\n",
       "      <td>18.</td>\n",
       "      <td>\"Baa Baa Black Sheep\"[42]</td>\n",
       "      <td>Cocomelon - Nursery Rhymes</td>\n",
       "      <td>3.84</td>\n",
       "      <td>June 25, 2018</td>\n",
       "    </tr>\n",
       "    <tr>\n",
       "      <th>18</th>\n",
       "      <td>19.</td>\n",
       "      <td>\"Waka Waka (This Time for Africa)\"[43]</td>\n",
       "      <td>Shakira</td>\n",
       "      <td>3.78</td>\n",
       "      <td>June 4, 2010</td>\n",
       "    </tr>\n",
       "    <tr>\n",
       "      <th>19</th>\n",
       "      <td>20.</td>\n",
       "      <td>\"Lakdi Ki Kathi\"[44]</td>\n",
       "      <td>Jingle Toons</td>\n",
       "      <td>3.76</td>\n",
       "      <td>June 14, 2018</td>\n",
       "    </tr>\n",
       "    <tr>\n",
       "      <th>20</th>\n",
       "      <td>21.</td>\n",
       "      <td>\"Sorry\"[45]</td>\n",
       "      <td>Justin Bieber</td>\n",
       "      <td>3.74</td>\n",
       "      <td>October 22, 2015</td>\n",
       "    </tr>\n",
       "    <tr>\n",
       "      <th>21</th>\n",
       "      <td>22.</td>\n",
       "      <td>\"Thinking Out Loud\"[46]</td>\n",
       "      <td>Ed Sheeran</td>\n",
       "      <td>3.69</td>\n",
       "      <td>October 7, 2014</td>\n",
       "    </tr>\n",
       "    <tr>\n",
       "      <th>22</th>\n",
       "      <td>23.</td>\n",
       "      <td>\"Humpty the train on a fruits ride\"[47]</td>\n",
       "      <td>Kiddiestv Hindi - Nursery Rhymes &amp; Kids Songs</td>\n",
       "      <td>3.63</td>\n",
       "      <td>January 26, 2018</td>\n",
       "    </tr>\n",
       "    <tr>\n",
       "      <th>23</th>\n",
       "      <td>24.</td>\n",
       "      <td>\"Dark Horse\"[48]</td>\n",
       "      <td>Katy Perry</td>\n",
       "      <td>3.63</td>\n",
       "      <td>February 20, 2014</td>\n",
       "    </tr>\n",
       "    <tr>\n",
       "      <th>24</th>\n",
       "      <td>25.</td>\n",
       "      <td>\"Perfect\"[49]</td>\n",
       "      <td>Ed Sheeran</td>\n",
       "      <td>3.60</td>\n",
       "      <td>November 9, 2017</td>\n",
       "    </tr>\n",
       "    <tr>\n",
       "      <th>25</th>\n",
       "      <td>26.</td>\n",
       "      <td>\"Let Her Go\"[50]</td>\n",
       "      <td>Passenger</td>\n",
       "      <td>3.56</td>\n",
       "      <td>July 25, 2012</td>\n",
       "    </tr>\n",
       "    <tr>\n",
       "      <th>26</th>\n",
       "      <td>27.</td>\n",
       "      <td>\"Faded\"[51]</td>\n",
       "      <td>Alan Walker</td>\n",
       "      <td>3.55</td>\n",
       "      <td>December 3, 2015</td>\n",
       "    </tr>\n",
       "    <tr>\n",
       "      <th>27</th>\n",
       "      <td>28.</td>\n",
       "      <td>\"Shree Hanuman Chalisa\"[52]</td>\n",
       "      <td>T-Series Bhakti Sagar</td>\n",
       "      <td>3.54</td>\n",
       "      <td>May 10, 2011</td>\n",
       "    </tr>\n",
       "    <tr>\n",
       "      <th>28</th>\n",
       "      <td>29.</td>\n",
       "      <td>\"Girls Like You\"[53]</td>\n",
       "      <td>Maroon 5</td>\n",
       "      <td>3.52</td>\n",
       "      <td>May 31, 2018</td>\n",
       "    </tr>\n",
       "    <tr>\n",
       "      <th>29</th>\n",
       "      <td>30.</td>\n",
       "      <td>\"Lean On\"[54]</td>\n",
       "      <td>Major Lazer Official</td>\n",
       "      <td>3.50</td>\n",
       "      <td>March 22, 2015</td>\n",
       "    </tr>\n",
       "  </tbody>\n",
       "</table>\n",
       "</div>"
      ],
      "text/plain": [
       "   Rank                                       Video Name  \\\n",
       "0    1.                            \"Baby Shark Dance\"[6]   \n",
       "1    2.                                   \"Despacito\"[9]   \n",
       "2    3.                       \"Johny Johny Yes Papa\"[17]   \n",
       "3    4.                                  \"Bath Song\"[18]   \n",
       "4    5.                               \"Shape of You\"[19]   \n",
       "5    6.                              \"See You Again\"[22]   \n",
       "6    7.                          \"Wheels on the Bus\"[27]   \n",
       "7    8.                \"Phonics Song with Two Words\"[28]   \n",
       "8    9.                                \"Uptown Funk\"[29]   \n",
       "9   10.  \"Learning Colors – Colorful Eggs on a Farm\"[30]   \n",
       "10  11.                              \"Gangnam Style\"[31]   \n",
       "11  12.   \"Masha and the Bear – Recipe for Disaster\"[36]   \n",
       "12  13.                             \"Dame Tu Cosita\"[37]   \n",
       "13  14.                                     \"Axel F\"[38]   \n",
       "14  15.                                      \"Sugar\"[39]   \n",
       "15  16.                             \"Counting Stars\"[40]   \n",
       "16  17.                                       \"Roar\"[41]   \n",
       "17  18.                        \"Baa Baa Black Sheep\"[42]   \n",
       "18  19.           \"Waka Waka (This Time for Africa)\"[43]   \n",
       "19  20.                             \"Lakdi Ki Kathi\"[44]   \n",
       "20  21.                                      \"Sorry\"[45]   \n",
       "21  22.                          \"Thinking Out Loud\"[46]   \n",
       "22  23.          \"Humpty the train on a fruits ride\"[47]   \n",
       "23  24.                                 \"Dark Horse\"[48]   \n",
       "24  25.                                    \"Perfect\"[49]   \n",
       "25  26.                                 \"Let Her Go\"[50]   \n",
       "26  27.                                      \"Faded\"[51]   \n",
       "27  28.                      \"Shree Hanuman Chalisa\"[52]   \n",
       "28  29.                             \"Girls Like You\"[53]   \n",
       "29  30.                                    \"Lean On\"[54]   \n",
       "\n",
       "                                             Uploader Views (in Billons)  \\\n",
       "0         Pinkfong Baby Shark - Kids' Songs & Stories              13.65   \n",
       "1                                          Luis Fonsi               8.32   \n",
       "2   LooLoo Kids - Nursery Rhymes and Children's Songs               6.84   \n",
       "3                          Cocomelon - Nursery Rhymes               6.50   \n",
       "4                                          Ed Sheeran               6.14   \n",
       "5                                         Wiz Khalifa               6.09   \n",
       "6                          Cocomelon - Nursery Rhymes               5.71   \n",
       "7               ChuChu TV Nursery Rhymes & Kids Songs               5.57   \n",
       "8                                         Mark Ronson               5.09   \n",
       "9                                         Miroshka TV               5.01   \n",
       "10                                        officialpsy               4.96   \n",
       "11                                         Get Movies               4.57   \n",
       "12                                      Ultra Records               4.48   \n",
       "13                                         Crazy Frog               4.16   \n",
       "14                                           Maroon 5               3.97   \n",
       "15                                        OneRepublic               3.92   \n",
       "16                                         Katy Perry               3.91   \n",
       "17                         Cocomelon - Nursery Rhymes               3.84   \n",
       "18                                            Shakira               3.78   \n",
       "19                                       Jingle Toons               3.76   \n",
       "20                                      Justin Bieber               3.74   \n",
       "21                                         Ed Sheeran               3.69   \n",
       "22      Kiddiestv Hindi - Nursery Rhymes & Kids Songs               3.63   \n",
       "23                                         Katy Perry               3.63   \n",
       "24                                         Ed Sheeran               3.60   \n",
       "25                                          Passenger               3.56   \n",
       "26                                        Alan Walker               3.55   \n",
       "27                              T-Series Bhakti Sagar               3.54   \n",
       "28                                           Maroon 5               3.52   \n",
       "29                               Major Lazer Official               3.50   \n",
       "\n",
       "          Upload Date  \n",
       "0       June 17, 2016  \n",
       "1    January 12, 2017  \n",
       "2     October 8, 2016  \n",
       "3         May 2, 2018  \n",
       "4    January 30, 2017  \n",
       "5       April 6, 2015  \n",
       "6        May 24, 2018  \n",
       "7       March 6, 2014  \n",
       "8   November 19, 2014  \n",
       "9   February 27, 2018  \n",
       "10      July 15, 2012  \n",
       "11   January 31, 2012  \n",
       "12      April 5, 2018  \n",
       "13      June 16, 2009  \n",
       "14   January 14, 2015  \n",
       "15       May 31, 2013  \n",
       "16  September 5, 2013  \n",
       "17      June 25, 2018  \n",
       "18       June 4, 2010  \n",
       "19      June 14, 2018  \n",
       "20   October 22, 2015  \n",
       "21    October 7, 2014  \n",
       "22   January 26, 2018  \n",
       "23  February 20, 2014  \n",
       "24   November 9, 2017  \n",
       "25      July 25, 2012  \n",
       "26   December 3, 2015  \n",
       "27       May 10, 2011  \n",
       "28       May 31, 2018  \n",
       "29     March 22, 2015  "
      ]
     },
     "execution_count": 13,
     "metadata": {},
     "output_type": "execute_result"
    }
   ],
   "source": [
    "# Dataframe for scrap data\n",
    "most_watched=pd.DataFrame({'Rank':Rank,'Video Name':Name,'Uploader':Artist,'Views (in Billons)':Views,'Upload Date':Upload_date})\n",
    "print('\\033[1m'+'Most Viewed Video on YouTube from Wikipedia :'+'\\033[0m')\n",
    "most_watched"
   ]
  },
  {
   "cell_type": "markdown",
   "id": "ecd5467f",
   "metadata": {},
   "source": [
    "# 2. Scrape the details team India’s international fixtures from bcci.tv.\n",
    "Url = https://www.bcci.tv/.\n",
    "You need to find following details:\n",
    "A) Series\n",
    "B) Place\n",
    "C) Date\n",
    "D) Time\n",
    "Note: - From bcci.tv home page you have reach to the international fixture page through code."
   ]
  },
  {
   "cell_type": "code",
   "execution_count": 15,
   "id": "081a5905",
   "metadata": {},
   "outputs": [],
   "source": [
    "import selenium\n",
    "import pandas as pd\n",
    "from selenium import webdriver\n",
    "from selenium.common.exceptions import StaleElementReferenceException,NoSuchElementException,ElementNotVisibleException,ElementClickInterceptedException\n",
    "from selenium.webdriver.common.by import By\n",
    "from selenium.webdriver.support.select import Select\n",
    "from selenium.webdriver.common.keys import Keys\n",
    "from selenium.webdriver.support.ui import WebDriverWait\n",
    "from selenium.webdriver.support import expected_conditions as EC\n",
    "from selenium.webdriver.common.keys import Keys\n",
    "from selenium.webdriver.common.action_chains import ActionChains\n",
    "from selenium.webdriver.chrome.options import Options\n",
    "import re\n",
    "import time\n",
    "import warnings\n",
    "import requests\n",
    "\n",
    "warnings.filterwarnings(\"ignore\")"
   ]
  },
  {
   "cell_type": "code",
   "execution_count": 16,
   "id": "3a6d8c76",
   "metadata": {},
   "outputs": [],
   "source": [
    "#connecting to the webdriver\n",
    "\n",
    "driver = webdriver.Chrome()"
   ]
  },
  {
   "cell_type": "code",
   "execution_count": 17,
   "id": "25cc34e3",
   "metadata": {},
   "outputs": [],
   "source": [
    "#Opening the Amazon page on automated browser\n",
    "\n",
    "URL=\" https://www.bcci.tv/\"\n",
    "driver.get(URL)\n",
    "driver.maximize_window()"
   ]
  },
  {
   "cell_type": "code",
   "execution_count": 18,
   "id": "a300afb1",
   "metadata": {},
   "outputs": [],
   "source": [
    "time.sleep(2)"
   ]
  },
  {
   "cell_type": "code",
   "execution_count": 25,
   "id": "6f1e0a23",
   "metadata": {},
   "outputs": [],
   "source": [
    "# Opening fixtures webpage through browser\n",
    "fixtures=driver.find_element(By.XPATH,'//*[@id=\"imw-international-men\"]/a[2]')\n",
    "#try:\n",
    "fixtures.click()\n",
    "#except ElementNotInteractableException:\n",
    " #   driver.get(fixtures.get_attribute('href'))"
   ]
  },
  {
   "cell_type": "code",
   "execution_count": 28,
   "id": "2b1f2513",
   "metadata": {},
   "outputs": [],
   "source": [
    "# Scraping URL \n",
    "URL= []\n",
    "link=driver.find_elements(By.XPATH,'//div[@class=\"js-list\"]/a')\n",
    "for i in link:\n",
    "    URL.append(i.get_attribute('href'))"
   ]
  },
  {
   "cell_type": "code",
   "execution_count": 29,
   "id": "d90a66e5",
   "metadata": {},
   "outputs": [],
   "source": [
    "# Creating empty list\n",
    "Title = []\n",
    "Series = []\n",
    "Place = []\n",
    "Date = []\n",
    "Time = []"
   ]
  },
  {
   "cell_type": "code",
   "execution_count": 81,
   "id": "a42ea624",
   "metadata": {},
   "outputs": [],
   "source": [
    "title_tag=driver.find_elements(By.XPATH,\"//p[@class='mc-header-info__match-description']/span\") \n",
    "for i in title_tag[0:9]:\n",
    "    Title.append(i.text)"
   ]
  },
  {
   "cell_type": "code",
   "execution_count": 82,
   "id": "e8a27674",
   "metadata": {},
   "outputs": [
    {
     "name": "stdout",
     "output_type": "stream",
     "text": [
      "13\n"
     ]
    }
   ],
   "source": [
    "print(len(Title))"
   ]
  },
  {
   "cell_type": "code",
   "execution_count": 83,
   "id": "84360bf5",
   "metadata": {},
   "outputs": [
    {
     "name": "stdout",
     "output_type": "stream",
     "text": [
      "['AUSTRALIA TOUR OF INDIA 2023-24', '2nd T20IMen\\nAUSTRALIA TOUR OF INDIA 2023-24\\n26 NOVEMBER, 2023\\n7:00 PM IST\\nGreenfield International Stadium, Thiruvananthapuram\\nIndia\\nAustralia\\nMatch Info', 'AUSTRALIA TOUR OF INDIA 2023-24', 'AUSTRALIA TOUR OF INDIA 2023-24', 'AUSTRALIA TOUR OF INDIA 2023-24', 'QUADRANGULAR MENS U19 ONE DAY SERIES', 'QUADRANGULAR MENS U19 ONE DAY SERIES', 'AUSTRALIA TOUR OF INDIA 2023-24', 'ENGLAND A WOMENS TOUR OF INDIA T20 SERIES', 'ENGLAND A WOMENS TOUR OF INDIA T20 SERIES', 'AUSTRALIA TOUR OF INDIA 2023-24', 'ENGLAND A WOMENS TOUR OF INDIA T20 SERIES', 'AUSTRALIA TOUR OF INDIA 2023-24']\n"
     ]
    }
   ],
   "source": [
    "print(Title)"
   ]
  },
  {
   "cell_type": "code",
   "execution_count": 63,
   "id": "1abbefd8",
   "metadata": {},
   "outputs": [],
   "source": [
    "series_tag=driver.find_elements(By.XPATH,'//*[@id=\"match-card\"]/div[1]/div/div/h5') \n",
    "    for i in series_tag:\n",
    "        Series.append(i.text)"
   ]
  },
  {
   "cell_type": "code",
   "execution_count": 64,
   "id": "a9debb4f",
   "metadata": {},
   "outputs": [
    {
     "name": "stdout",
     "output_type": "stream",
     "text": [
      "9\n"
     ]
    }
   ],
   "source": [
    "print(len(Series))"
   ]
  },
  {
   "cell_type": "code",
   "execution_count": 73,
   "id": "76781b72",
   "metadata": {},
   "outputs": [],
   "source": [
    "# Scraping venue Via Xpath\n",
    "place_tag=driver.find_elements(By.XPATH,'//*[@id=\"match-card\"]/div[2]/div[1]/span[1]')\n",
    "for i in place_tag:\n",
    "    Place.append(i.text)"
   ]
  },
  {
   "cell_type": "code",
   "execution_count": 74,
   "id": "9bf43dd6",
   "metadata": {},
   "outputs": [
    {
     "name": "stdout",
     "output_type": "stream",
     "text": [
      "9\n"
     ]
    }
   ],
   "source": [
    "print(len(Place))"
   ]
  },
  {
   "cell_type": "code",
   "execution_count": 76,
   "id": "f01d0876",
   "metadata": {},
   "outputs": [],
   "source": [
    "      \n",
    "# Scraping date Via Xpath\n",
    "date_tag=driver.find_elements(By.XPATH,'//*[@id=\"match-card\"]/div[1]/div/div/div[2]/div[1]')\n",
    "for i in date_tag:\n",
    "     Date.append(i.text)"
   ]
  },
  {
   "cell_type": "code",
   "execution_count": 77,
   "id": "560dcaa2",
   "metadata": {},
   "outputs": [
    {
     "name": "stdout",
     "output_type": "stream",
     "text": [
      "9\n"
     ]
    }
   ],
   "source": [
    "print(len(Date))"
   ]
  },
  {
   "cell_type": "code",
   "execution_count": 78,
   "id": "28e01d07",
   "metadata": {},
   "outputs": [],
   "source": [
    "# Scraping time Via Xpath\n",
    "time_tag=driver.find_elements(By.XPATH,'//*[@id=\"match-card\"]/div[1]/div/div/div[2]/div[2]')\n",
    "for i in time_tag:\n",
    "     Time.append(i.text)"
   ]
  },
  {
   "cell_type": "code",
   "execution_count": 79,
   "id": "e59e7e8f",
   "metadata": {},
   "outputs": [
    {
     "name": "stdout",
     "output_type": "stream",
     "text": [
      "9\n"
     ]
    }
   ],
   "source": [
    "print(len(Time))"
   ]
  },
  {
   "cell_type": "code",
   "execution_count": 86,
   "id": "3116e3cf",
   "metadata": {},
   "outputs": [
    {
     "name": "stdout",
     "output_type": "stream",
     "text": [
      "\u001b[1mTeam India’s Upcoming International fixtures :\u001b[0m\n"
     ]
    },
    {
     "data": {
      "text/html": [
       "<div>\n",
       "<style scoped>\n",
       "    .dataframe tbody tr th:only-of-type {\n",
       "        vertical-align: middle;\n",
       "    }\n",
       "\n",
       "    .dataframe tbody tr th {\n",
       "        vertical-align: top;\n",
       "    }\n",
       "\n",
       "    .dataframe thead th {\n",
       "        text-align: right;\n",
       "    }\n",
       "</style>\n",
       "<table border=\"1\" class=\"dataframe\">\n",
       "  <thead>\n",
       "    <tr style=\"text-align: right;\">\n",
       "      <th></th>\n",
       "      <th>Title</th>\n",
       "      <th>Series</th>\n",
       "      <th>Pace</th>\n",
       "      <th>Date</th>\n",
       "      <th>Time</th>\n",
       "    </tr>\n",
       "  </thead>\n",
       "  <tbody>\n",
       "    <tr>\n",
       "      <th>0</th>\n",
       "      <td>AUSTRALIA TOUR OF INDIA 2023-24</td>\n",
       "      <td>AUSTRALIA TOUR OF INDIA 2023-24</td>\n",
       "      <td>Greenfield International Stadium,</td>\n",
       "      <td>26 NOVEMBER, 2023</td>\n",
       "      <td>7:00 PM IST</td>\n",
       "    </tr>\n",
       "    <tr>\n",
       "      <th>1</th>\n",
       "      <td>2nd T20IMen\\nAUSTRALIA TOUR OF INDIA 2023-24\\n...</td>\n",
       "      <td>QUADRANGULAR MENS U19 ONE DAY SERIES</td>\n",
       "      <td>CP Ground,Mulapadu,</td>\n",
       "      <td>27 NOVEMBER, 2023</td>\n",
       "      <td>9:00 AM IST</td>\n",
       "    </tr>\n",
       "    <tr>\n",
       "      <th>2</th>\n",
       "      <td>AUSTRALIA TOUR OF INDIA 2023-24</td>\n",
       "      <td>QUADRANGULAR MENS U19 ONE DAY SERIES</td>\n",
       "      <td>DVR Ground,Mulapadu,</td>\n",
       "      <td>27 NOVEMBER, 2023</td>\n",
       "      <td>9:00 AM IST</td>\n",
       "    </tr>\n",
       "    <tr>\n",
       "      <th>3</th>\n",
       "      <td>AUSTRALIA TOUR OF INDIA 2023-24</td>\n",
       "      <td>AUSTRALIA TOUR OF INDIA 2023-24</td>\n",
       "      <td>Barsapara Cricket Stadium,</td>\n",
       "      <td>28 NOVEMBER, 2023</td>\n",
       "      <td>7:00 PM IST</td>\n",
       "    </tr>\n",
       "    <tr>\n",
       "      <th>4</th>\n",
       "      <td>AUSTRALIA TOUR OF INDIA 2023-24</td>\n",
       "      <td>ENGLAND A WOMENS TOUR OF INDIA T20 SERIES</td>\n",
       "      <td>Wankhede Stadium,</td>\n",
       "      <td>29 NOVEMBER, 2023</td>\n",
       "      <td>1:30 PM IST</td>\n",
       "    </tr>\n",
       "    <tr>\n",
       "      <th>5</th>\n",
       "      <td>QUADRANGULAR MENS U19 ONE DAY SERIES</td>\n",
       "      <td>ENGLAND A WOMENS TOUR OF INDIA T20 SERIES</td>\n",
       "      <td>Wankhede Stadium,</td>\n",
       "      <td>1 DECEMBER, 2023</td>\n",
       "      <td>1:30 PM IST</td>\n",
       "    </tr>\n",
       "    <tr>\n",
       "      <th>6</th>\n",
       "      <td>QUADRANGULAR MENS U19 ONE DAY SERIES</td>\n",
       "      <td>AUSTRALIA TOUR OF INDIA 2023-24</td>\n",
       "      <td>Shaheed Veer Narayan Singh International Crick...</td>\n",
       "      <td>1 DECEMBER, 2023</td>\n",
       "      <td>7:00 PM IST</td>\n",
       "    </tr>\n",
       "    <tr>\n",
       "      <th>7</th>\n",
       "      <td>AUSTRALIA TOUR OF INDIA 2023-24</td>\n",
       "      <td>ENGLAND A WOMENS TOUR OF INDIA T20 SERIES</td>\n",
       "      <td>Wankhede Stadium,</td>\n",
       "      <td>3 DECEMBER, 2023</td>\n",
       "      <td>1:30 PM IST</td>\n",
       "    </tr>\n",
       "    <tr>\n",
       "      <th>8</th>\n",
       "      <td>ENGLAND A WOMENS TOUR OF INDIA T20 SERIES</td>\n",
       "      <td>AUSTRALIA TOUR OF INDIA 2023-24</td>\n",
       "      <td>M Chinnaswamy Stadium,</td>\n",
       "      <td>3 DECEMBER, 2023</td>\n",
       "      <td>7:00 PM IST</td>\n",
       "    </tr>\n",
       "  </tbody>\n",
       "</table>\n",
       "</div>"
      ],
      "text/plain": [
       "                                               Title  \\\n",
       "0                    AUSTRALIA TOUR OF INDIA 2023-24   \n",
       "1  2nd T20IMen\\nAUSTRALIA TOUR OF INDIA 2023-24\\n...   \n",
       "2                    AUSTRALIA TOUR OF INDIA 2023-24   \n",
       "3                    AUSTRALIA TOUR OF INDIA 2023-24   \n",
       "4                    AUSTRALIA TOUR OF INDIA 2023-24   \n",
       "5               QUADRANGULAR MENS U19 ONE DAY SERIES   \n",
       "6               QUADRANGULAR MENS U19 ONE DAY SERIES   \n",
       "7                    AUSTRALIA TOUR OF INDIA 2023-24   \n",
       "8          ENGLAND A WOMENS TOUR OF INDIA T20 SERIES   \n",
       "\n",
       "                                      Series  \\\n",
       "0            AUSTRALIA TOUR OF INDIA 2023-24   \n",
       "1       QUADRANGULAR MENS U19 ONE DAY SERIES   \n",
       "2       QUADRANGULAR MENS U19 ONE DAY SERIES   \n",
       "3            AUSTRALIA TOUR OF INDIA 2023-24   \n",
       "4  ENGLAND A WOMENS TOUR OF INDIA T20 SERIES   \n",
       "5  ENGLAND A WOMENS TOUR OF INDIA T20 SERIES   \n",
       "6            AUSTRALIA TOUR OF INDIA 2023-24   \n",
       "7  ENGLAND A WOMENS TOUR OF INDIA T20 SERIES   \n",
       "8            AUSTRALIA TOUR OF INDIA 2023-24   \n",
       "\n",
       "                                                Pace               Date  \\\n",
       "0                  Greenfield International Stadium,  26 NOVEMBER, 2023   \n",
       "1                                CP Ground,Mulapadu,  27 NOVEMBER, 2023   \n",
       "2                               DVR Ground,Mulapadu,  27 NOVEMBER, 2023   \n",
       "3                         Barsapara Cricket Stadium,  28 NOVEMBER, 2023   \n",
       "4                                  Wankhede Stadium,  29 NOVEMBER, 2023   \n",
       "5                                  Wankhede Stadium,   1 DECEMBER, 2023   \n",
       "6  Shaheed Veer Narayan Singh International Crick...   1 DECEMBER, 2023   \n",
       "7                                  Wankhede Stadium,   3 DECEMBER, 2023   \n",
       "8                             M Chinnaswamy Stadium,   3 DECEMBER, 2023   \n",
       "\n",
       "          Time  \n",
       "0  7:00 PM IST  \n",
       "1  9:00 AM IST  \n",
       "2  9:00 AM IST  \n",
       "3  7:00 PM IST  \n",
       "4  1:30 PM IST  \n",
       "5  1:30 PM IST  \n",
       "6  7:00 PM IST  \n",
       "7  1:30 PM IST  \n",
       "8  7:00 PM IST  "
      ]
     },
     "execution_count": 86,
     "metadata": {},
     "output_type": "execute_result"
    }
   ],
   "source": [
    "# Dataframe for scrap data\n",
    "Fixtures=pd.DataFrame({'Title':Title[0:9],'Series':Series[0:9],'Pace':Place[0:9],'Date':Date[0:9],'Time':Time[0:9]})\n",
    "print('\\033[1m'+'Team India’s Upcoming International fixtures :'+'\\033[0m')\n",
    "Fixtures"
   ]
  },
  {
   "cell_type": "markdown",
   "id": "23be5864",
   "metadata": {},
   "source": [
    "# 3. Scrape the details of State-wise GDP of India from statisticstime.com.\n",
    "Url = http://statisticstimes.com/\n",
    "You have to find following details: A) Rank\n",
    "B) State\n",
    "C) GSDP(18-19)- at current prices\n",
    "D) GSDP(19-20)- at current prices\n",
    "E) Share(18-19)\n",
    "F) GDP($ billion)\n",
    "Note: - From statisticstimes home page you have to reach to economy page through code."
   ]
  },
  {
   "cell_type": "code",
   "execution_count": 44,
   "id": "140bcd08",
   "metadata": {},
   "outputs": [],
   "source": [
    "import selenium\n",
    "import pandas as pd\n",
    "from selenium import webdriver\n",
    "from selenium.common.exceptions import StaleElementReferenceException,NoSuchElementException,ElementNotVisibleException,ElementClickInterceptedException\n",
    "from selenium.webdriver.common.by import By\n",
    "from selenium.webdriver.support.select import Select\n",
    "from selenium.webdriver.common.keys import Keys\n",
    "from selenium.webdriver.support.ui import WebDriverWait\n",
    "from selenium.webdriver.support import expected_conditions as EC\n",
    "from selenium.webdriver.common.keys import Keys\n",
    "from selenium.webdriver.common.action_chains import ActionChains\n",
    "from selenium.webdriver.chrome.options import Options\n",
    "import re\n",
    "import time\n",
    "import warnings\n",
    "import requests\n",
    "\n",
    "warnings.filterwarnings(\"ignore\")"
   ]
  },
  {
   "cell_type": "code",
   "execution_count": 45,
   "id": "765e0b6f",
   "metadata": {},
   "outputs": [],
   "source": [
    "#connecting to the webdriver\n",
    "\n",
    "driver = webdriver.Chrome()"
   ]
  },
  {
   "cell_type": "code",
   "execution_count": 46,
   "id": "1d3359c5",
   "metadata": {},
   "outputs": [],
   "source": [
    "#Opening the Amazon page on automated browser\n",
    "\n",
    "URL=\" https://www.statisticstimes.com/\"\n",
    "driver.get(URL)\n",
    "driver.maximize_window()"
   ]
  },
  {
   "cell_type": "code",
   "execution_count": 47,
   "id": "91ffe94e",
   "metadata": {},
   "outputs": [],
   "source": [
    "time.sleep(2)"
   ]
  },
  {
   "cell_type": "code",
   "execution_count": 48,
   "id": "25063189",
   "metadata": {},
   "outputs": [],
   "source": [
    "# Creating Empty lists\n",
    "Rank =[]\n",
    "State =[]\n",
    "GDSP_19_20=[]\n",
    "GDSP_18_19 =[]\n",
    "Share =[]\n",
    "GDP =[]"
   ]
  },
  {
   "cell_type": "code",
   "execution_count": 51,
   "id": "5ed07fd4",
   "metadata": {},
   "outputs": [],
   "source": [
    "# Clicking on India under ecomony section\n",
    "Eco=driver.find_element(By.XPATH,'//*[@id=\"top\"]/div[2]/div[2]/button')\n",
    "try:\n",
    "    Eco.click()\n",
    "except ElementNotInteractableException:\n",
    "    driver.get(India.get_attribute('href'))\n",
    "    \n",
    "time.sleep(2)\n"
   ]
  },
  {
   "cell_type": "code",
   "execution_count": 52,
   "id": "2e33da93",
   "metadata": {},
   "outputs": [],
   "source": [
    "India=driver.find_element(By.XPATH,'//*[@id=\"top\"]/div[2]/div[2]/div/a[3]')\n",
    "India.click()"
   ]
  },
  {
   "cell_type": "code",
   "execution_count": 53,
   "id": "93af0e8a",
   "metadata": {},
   "outputs": [],
   "source": [
    "# Clicking Indian State GDP\n",
    "\n",
    "state = driver.find_element(By.XPATH,'/html/body/div[2]/div[2]/div[2]/ul/li[1]/a')\n",
    "try:\n",
    "    state.click()\n",
    "except ElementNotInteractableException:\n",
    "    driver.get(state.get_attribute('href'))\n",
    "time.sleep(2)"
   ]
  },
  {
   "cell_type": "code",
   "execution_count": 54,
   "id": "f7c4d76d",
   "metadata": {},
   "outputs": [],
   "source": [
    "# Extracting Rank via Xpath\n",
    "try:\n",
    "    rank=driver.find_elements(By.XPATH,'//table[@id=\"table_id\"]/tbody/tr/td[1]')\n",
    "    for i in rank:\n",
    "        Rank.append(i.text)\n",
    "except NoSuchElementException:\n",
    "    Rank.append('NA')"
   ]
  },
  {
   "cell_type": "code",
   "execution_count": 56,
   "id": "6677ba59",
   "metadata": {},
   "outputs": [],
   "source": [
    "time.sleep(2)"
   ]
  },
  {
   "cell_type": "code",
   "execution_count": 59,
   "id": "d659a0b1",
   "metadata": {},
   "outputs": [
    {
     "name": "stdout",
     "output_type": "stream",
     "text": [
      "33\n"
     ]
    }
   ],
   "source": [
    "print(len(Rank))"
   ]
  },
  {
   "cell_type": "code",
   "execution_count": 60,
   "id": "76fb53b8",
   "metadata": {},
   "outputs": [],
   "source": [
    "time.sleep(2)"
   ]
  },
  {
   "cell_type": "code",
   "execution_count": 61,
   "id": "bc2efcfb",
   "metadata": {},
   "outputs": [],
   "source": [
    "# Extracting state name via Xpath\n",
    "try:\n",
    "    #state=driver.find_element(By.XPATH,'//table[@id=\"table_id\"]/tbody/tr/td[2]')\n",
    "    state=driver.find_elements(By.XPATH,'//table[@id=\"table_id\"]/tbody/tr/td[2]')\n",
    "    for i in state:\n",
    "        State.append(i.text)\n",
    "except NoSuchElementException:\n",
    "    State.append('NA')"
   ]
  },
  {
   "cell_type": "code",
   "execution_count": 62,
   "id": "65238061",
   "metadata": {},
   "outputs": [
    {
     "name": "stdout",
     "output_type": "stream",
     "text": [
      "33\n"
     ]
    }
   ],
   "source": [
    "print(len(State))"
   ]
  },
  {
   "cell_type": "code",
   "execution_count": 63,
   "id": "e6954e6a",
   "metadata": {},
   "outputs": [],
   "source": [
    " # Extracting GDSP 19-20 via Xpath\n",
    "try:\n",
    "    gdsp_19_20=driver.find_elements(By.XPATH,'//table[@id=\"table_id\"]/tbody/tr/td[3]')\n",
    "    for i in gdsp_19_20:\n",
    "        GDSP_19_20.append(i.text)\n",
    "except NoSuchElementException:\n",
    "    GDSP_19_20.append('NA')"
   ]
  },
  {
   "cell_type": "code",
   "execution_count": 64,
   "id": "ef92441a",
   "metadata": {},
   "outputs": [
    {
     "name": "stdout",
     "output_type": "stream",
     "text": [
      "33\n"
     ]
    }
   ],
   "source": [
    "print(len(GDSP_19_20))"
   ]
  },
  {
   "cell_type": "code",
   "execution_count": 65,
   "id": "149f5226",
   "metadata": {},
   "outputs": [],
   "source": [
    "# Extracting GDSP 18-19 via Xpath\n",
    "try:\n",
    "    gdsp_18_19=driver.find_elements(By.XPATH,'//table[@id=\"table_id\"]/tbody/tr/td[4]')\n",
    "    for i in gdsp_18_19:\n",
    "        GDSP_18_19.append(i.text)\n",
    "except NoSuchElementException:\n",
    "    GDSP_18_19.append('NA')"
   ]
  },
  {
   "cell_type": "code",
   "execution_count": 66,
   "id": "34f12100",
   "metadata": {},
   "outputs": [
    {
     "name": "stdout",
     "output_type": "stream",
     "text": [
      "33\n"
     ]
    }
   ],
   "source": [
    "print(len(GDSP_18_19))"
   ]
  },
  {
   "cell_type": "code",
   "execution_count": 67,
   "id": "fecdd98b",
   "metadata": {},
   "outputs": [],
   "source": [
    "# Extracting share in billons via Xpath\n",
    "try:\n",
    "    share=driver.find_elements(By.XPATH,'//table[@id=\"table_id\"]/tbody/tr/td[5]')\n",
    "    for i in share:\n",
    "        Share.append(i.text)\n",
    "except NoSuchElementException:\n",
    "    Share.append('NA')"
   ]
  },
  {
   "cell_type": "code",
   "execution_count": 68,
   "id": "b697e9b5",
   "metadata": {},
   "outputs": [
    {
     "name": "stdout",
     "output_type": "stream",
     "text": [
      "33\n"
     ]
    }
   ],
   "source": [
    "print(len(Share))"
   ]
  },
  {
   "cell_type": "code",
   "execution_count": 69,
   "id": "f49ec0f2",
   "metadata": {},
   "outputs": [],
   "source": [
    "# Extracting GDP via Xpath\n",
    "try:\n",
    "    gdp=driver.find_elements(By.XPATH,'//table[@id=\"table_id\"]/tbody/tr/td[6]')\n",
    "    for i in gdp:\n",
    "        GDP.append(i.text)\n",
    "except NoSuchElementException:\n",
    "    GDP.append('NA')"
   ]
  },
  {
   "cell_type": "code",
   "execution_count": 70,
   "id": "7c6bb235",
   "metadata": {},
   "outputs": [
    {
     "name": "stdout",
     "output_type": "stream",
     "text": [
      "33\n"
     ]
    }
   ],
   "source": [
    "print(len(GDP))"
   ]
  },
  {
   "cell_type": "code",
   "execution_count": 71,
   "id": "98f58c4c",
   "metadata": {},
   "outputs": [
    {
     "name": "stdout",
     "output_type": "stream",
     "text": [
      "\u001b[1mState-wise GDP of India :\u001b[0m\n"
     ]
    },
    {
     "data": {
      "text/html": [
       "<div>\n",
       "<style scoped>\n",
       "    .dataframe tbody tr th:only-of-type {\n",
       "        vertical-align: middle;\n",
       "    }\n",
       "\n",
       "    .dataframe tbody tr th {\n",
       "        vertical-align: top;\n",
       "    }\n",
       "\n",
       "    .dataframe thead th {\n",
       "        text-align: right;\n",
       "    }\n",
       "</style>\n",
       "<table border=\"1\" class=\"dataframe\">\n",
       "  <thead>\n",
       "    <tr style=\"text-align: right;\">\n",
       "      <th></th>\n",
       "      <th>Rank</th>\n",
       "      <th>State</th>\n",
       "      <th>GDSP 19-20</th>\n",
       "      <th>GDSP 18-19</th>\n",
       "      <th>Share</th>\n",
       "      <th>GDP (in Billions)</th>\n",
       "    </tr>\n",
       "  </thead>\n",
       "  <tbody>\n",
       "    <tr>\n",
       "      <th>0</th>\n",
       "      <td>1</td>\n",
       "      <td>Maharashtra</td>\n",
       "      <td>-</td>\n",
       "      <td>2,632,792</td>\n",
       "      <td>13.94%</td>\n",
       "      <td>399.921</td>\n",
       "    </tr>\n",
       "    <tr>\n",
       "      <th>1</th>\n",
       "      <td>2</td>\n",
       "      <td>Tamil Nadu</td>\n",
       "      <td>1,845,853</td>\n",
       "      <td>1,630,208</td>\n",
       "      <td>8.63%</td>\n",
       "      <td>247.629</td>\n",
       "    </tr>\n",
       "    <tr>\n",
       "      <th>2</th>\n",
       "      <td>3</td>\n",
       "      <td>Uttar Pradesh</td>\n",
       "      <td>1,687,818</td>\n",
       "      <td>1,584,764</td>\n",
       "      <td>8.39%</td>\n",
       "      <td>240.726</td>\n",
       "    </tr>\n",
       "    <tr>\n",
       "      <th>3</th>\n",
       "      <td>4</td>\n",
       "      <td>Gujarat</td>\n",
       "      <td>-</td>\n",
       "      <td>1,502,899</td>\n",
       "      <td>7.96%</td>\n",
       "      <td>228.290</td>\n",
       "    </tr>\n",
       "    <tr>\n",
       "      <th>4</th>\n",
       "      <td>5</td>\n",
       "      <td>Karnataka</td>\n",
       "      <td>1,631,977</td>\n",
       "      <td>1,493,127</td>\n",
       "      <td>7.91%</td>\n",
       "      <td>226.806</td>\n",
       "    </tr>\n",
       "    <tr>\n",
       "      <th>5</th>\n",
       "      <td>6</td>\n",
       "      <td>West Bengal</td>\n",
       "      <td>1,253,832</td>\n",
       "      <td>1,089,898</td>\n",
       "      <td>5.77%</td>\n",
       "      <td>165.556</td>\n",
       "    </tr>\n",
       "    <tr>\n",
       "      <th>6</th>\n",
       "      <td>7</td>\n",
       "      <td>Rajasthan</td>\n",
       "      <td>1,020,989</td>\n",
       "      <td>942,586</td>\n",
       "      <td>4.99%</td>\n",
       "      <td>143.179</td>\n",
       "    </tr>\n",
       "    <tr>\n",
       "      <th>7</th>\n",
       "      <td>8</td>\n",
       "      <td>Andhra Pradesh</td>\n",
       "      <td>972,782</td>\n",
       "      <td>862,957</td>\n",
       "      <td>4.57%</td>\n",
       "      <td>131.083</td>\n",
       "    </tr>\n",
       "    <tr>\n",
       "      <th>8</th>\n",
       "      <td>9</td>\n",
       "      <td>Telangana</td>\n",
       "      <td>969,604</td>\n",
       "      <td>861,031</td>\n",
       "      <td>4.56%</td>\n",
       "      <td>130.791</td>\n",
       "    </tr>\n",
       "    <tr>\n",
       "      <th>9</th>\n",
       "      <td>10</td>\n",
       "      <td>Madhya Pradesh</td>\n",
       "      <td>906,672</td>\n",
       "      <td>809,592</td>\n",
       "      <td>4.29%</td>\n",
       "      <td>122.977</td>\n",
       "    </tr>\n",
       "    <tr>\n",
       "      <th>10</th>\n",
       "      <td>11</td>\n",
       "      <td>Kerala</td>\n",
       "      <td>-</td>\n",
       "      <td>781,653</td>\n",
       "      <td>4.14%</td>\n",
       "      <td>118.733</td>\n",
       "    </tr>\n",
       "    <tr>\n",
       "      <th>11</th>\n",
       "      <td>12</td>\n",
       "      <td>Delhi</td>\n",
       "      <td>856,112</td>\n",
       "      <td>774,870</td>\n",
       "      <td>4.10%</td>\n",
       "      <td>117.703</td>\n",
       "    </tr>\n",
       "    <tr>\n",
       "      <th>12</th>\n",
       "      <td>13</td>\n",
       "      <td>Haryana</td>\n",
       "      <td>831,610</td>\n",
       "      <td>734,163</td>\n",
       "      <td>3.89%</td>\n",
       "      <td>111.519</td>\n",
       "    </tr>\n",
       "    <tr>\n",
       "      <th>13</th>\n",
       "      <td>14</td>\n",
       "      <td>Bihar</td>\n",
       "      <td>611,804</td>\n",
       "      <td>530,363</td>\n",
       "      <td>2.81%</td>\n",
       "      <td>80.562</td>\n",
       "    </tr>\n",
       "    <tr>\n",
       "      <th>14</th>\n",
       "      <td>15</td>\n",
       "      <td>Punjab</td>\n",
       "      <td>574,760</td>\n",
       "      <td>526,376</td>\n",
       "      <td>2.79%</td>\n",
       "      <td>79.957</td>\n",
       "    </tr>\n",
       "    <tr>\n",
       "      <th>15</th>\n",
       "      <td>16</td>\n",
       "      <td>Odisha</td>\n",
       "      <td>521,275</td>\n",
       "      <td>487,805</td>\n",
       "      <td>2.58%</td>\n",
       "      <td>74.098</td>\n",
       "    </tr>\n",
       "    <tr>\n",
       "      <th>16</th>\n",
       "      <td>17</td>\n",
       "      <td>Assam</td>\n",
       "      <td>-</td>\n",
       "      <td>315,881</td>\n",
       "      <td>1.67%</td>\n",
       "      <td>47.982</td>\n",
       "    </tr>\n",
       "    <tr>\n",
       "      <th>17</th>\n",
       "      <td>18</td>\n",
       "      <td>Chhattisgarh</td>\n",
       "      <td>329,180</td>\n",
       "      <td>304,063</td>\n",
       "      <td>1.61%</td>\n",
       "      <td>46.187</td>\n",
       "    </tr>\n",
       "    <tr>\n",
       "      <th>18</th>\n",
       "      <td>19</td>\n",
       "      <td>Jharkhand</td>\n",
       "      <td>328,598</td>\n",
       "      <td>297,204</td>\n",
       "      <td>1.57%</td>\n",
       "      <td>45.145</td>\n",
       "    </tr>\n",
       "    <tr>\n",
       "      <th>19</th>\n",
       "      <td>20</td>\n",
       "      <td>Uttarakhand</td>\n",
       "      <td>-</td>\n",
       "      <td>245,895</td>\n",
       "      <td>1.30%</td>\n",
       "      <td>37.351</td>\n",
       "    </tr>\n",
       "    <tr>\n",
       "      <th>20</th>\n",
       "      <td>21</td>\n",
       "      <td>Jammu &amp; Kashmir</td>\n",
       "      <td>-</td>\n",
       "      <td>155,956</td>\n",
       "      <td>0.83%</td>\n",
       "      <td>23.690</td>\n",
       "    </tr>\n",
       "    <tr>\n",
       "      <th>21</th>\n",
       "      <td>22</td>\n",
       "      <td>Himachal Pradesh</td>\n",
       "      <td>165,472</td>\n",
       "      <td>153,845</td>\n",
       "      <td>0.81%</td>\n",
       "      <td>23.369</td>\n",
       "    </tr>\n",
       "    <tr>\n",
       "      <th>22</th>\n",
       "      <td>23</td>\n",
       "      <td>Goa</td>\n",
       "      <td>80,449</td>\n",
       "      <td>73,170</td>\n",
       "      <td>0.39%</td>\n",
       "      <td>11.115</td>\n",
       "    </tr>\n",
       "    <tr>\n",
       "      <th>23</th>\n",
       "      <td>24</td>\n",
       "      <td>Tripura</td>\n",
       "      <td>55,984</td>\n",
       "      <td>49,845</td>\n",
       "      <td>0.26%</td>\n",
       "      <td>7.571</td>\n",
       "    </tr>\n",
       "    <tr>\n",
       "      <th>24</th>\n",
       "      <td>25</td>\n",
       "      <td>Chandigarh</td>\n",
       "      <td>-</td>\n",
       "      <td>42,114</td>\n",
       "      <td>0.22%</td>\n",
       "      <td>6.397</td>\n",
       "    </tr>\n",
       "    <tr>\n",
       "      <th>25</th>\n",
       "      <td>26</td>\n",
       "      <td>Puducherry</td>\n",
       "      <td>38,253</td>\n",
       "      <td>34,433</td>\n",
       "      <td>0.18%</td>\n",
       "      <td>5.230</td>\n",
       "    </tr>\n",
       "    <tr>\n",
       "      <th>26</th>\n",
       "      <td>27</td>\n",
       "      <td>Meghalaya</td>\n",
       "      <td>36,572</td>\n",
       "      <td>33,481</td>\n",
       "      <td>0.18%</td>\n",
       "      <td>5.086</td>\n",
       "    </tr>\n",
       "    <tr>\n",
       "      <th>27</th>\n",
       "      <td>28</td>\n",
       "      <td>Sikkim</td>\n",
       "      <td>32,496</td>\n",
       "      <td>28,723</td>\n",
       "      <td>0.15%</td>\n",
       "      <td>4.363</td>\n",
       "    </tr>\n",
       "    <tr>\n",
       "      <th>28</th>\n",
       "      <td>29</td>\n",
       "      <td>Manipur</td>\n",
       "      <td>31,790</td>\n",
       "      <td>27,870</td>\n",
       "      <td>0.15%</td>\n",
       "      <td>4.233</td>\n",
       "    </tr>\n",
       "    <tr>\n",
       "      <th>29</th>\n",
       "      <td>30</td>\n",
       "      <td>Nagaland</td>\n",
       "      <td>-</td>\n",
       "      <td>27,283</td>\n",
       "      <td>0.14%</td>\n",
       "      <td>4.144</td>\n",
       "    </tr>\n",
       "    <tr>\n",
       "      <th>30</th>\n",
       "      <td>31</td>\n",
       "      <td>Arunachal Pradesh</td>\n",
       "      <td>-</td>\n",
       "      <td>24,603</td>\n",
       "      <td>0.13%</td>\n",
       "      <td>3.737</td>\n",
       "    </tr>\n",
       "    <tr>\n",
       "      <th>31</th>\n",
       "      <td>32</td>\n",
       "      <td>Mizoram</td>\n",
       "      <td>26,503</td>\n",
       "      <td>22,287</td>\n",
       "      <td>0.12%</td>\n",
       "      <td>3.385</td>\n",
       "    </tr>\n",
       "    <tr>\n",
       "      <th>32</th>\n",
       "      <td>33</td>\n",
       "      <td>Andaman &amp; Nicobar Islands</td>\n",
       "      <td>-</td>\n",
       "      <td>-</td>\n",
       "      <td>-</td>\n",
       "      <td>-</td>\n",
       "    </tr>\n",
       "  </tbody>\n",
       "</table>\n",
       "</div>"
      ],
      "text/plain": [
       "   Rank                      State GDSP 19-20 GDSP 18-19   Share  \\\n",
       "0     1                Maharashtra          -  2,632,792  13.94%   \n",
       "1     2                 Tamil Nadu  1,845,853  1,630,208   8.63%   \n",
       "2     3              Uttar Pradesh  1,687,818  1,584,764   8.39%   \n",
       "3     4                    Gujarat          -  1,502,899   7.96%   \n",
       "4     5                  Karnataka  1,631,977  1,493,127   7.91%   \n",
       "5     6                West Bengal  1,253,832  1,089,898   5.77%   \n",
       "6     7                  Rajasthan  1,020,989    942,586   4.99%   \n",
       "7     8             Andhra Pradesh    972,782    862,957   4.57%   \n",
       "8     9                  Telangana    969,604    861,031   4.56%   \n",
       "9    10             Madhya Pradesh    906,672    809,592   4.29%   \n",
       "10   11                     Kerala          -    781,653   4.14%   \n",
       "11   12                      Delhi    856,112    774,870   4.10%   \n",
       "12   13                    Haryana    831,610    734,163   3.89%   \n",
       "13   14                      Bihar    611,804    530,363   2.81%   \n",
       "14   15                     Punjab    574,760    526,376   2.79%   \n",
       "15   16                     Odisha    521,275    487,805   2.58%   \n",
       "16   17                      Assam          -    315,881   1.67%   \n",
       "17   18               Chhattisgarh    329,180    304,063   1.61%   \n",
       "18   19                  Jharkhand    328,598    297,204   1.57%   \n",
       "19   20                Uttarakhand          -    245,895   1.30%   \n",
       "20   21            Jammu & Kashmir          -    155,956   0.83%   \n",
       "21   22           Himachal Pradesh    165,472    153,845   0.81%   \n",
       "22   23                        Goa     80,449     73,170   0.39%   \n",
       "23   24                    Tripura     55,984     49,845   0.26%   \n",
       "24   25                 Chandigarh          -     42,114   0.22%   \n",
       "25   26                 Puducherry     38,253     34,433   0.18%   \n",
       "26   27                  Meghalaya     36,572     33,481   0.18%   \n",
       "27   28                     Sikkim     32,496     28,723   0.15%   \n",
       "28   29                    Manipur     31,790     27,870   0.15%   \n",
       "29   30                   Nagaland          -     27,283   0.14%   \n",
       "30   31          Arunachal Pradesh          -     24,603   0.13%   \n",
       "31   32                    Mizoram     26,503     22,287   0.12%   \n",
       "32   33  Andaman & Nicobar Islands          -          -       -   \n",
       "\n",
       "   GDP (in Billions)  \n",
       "0            399.921  \n",
       "1            247.629  \n",
       "2            240.726  \n",
       "3            228.290  \n",
       "4            226.806  \n",
       "5            165.556  \n",
       "6            143.179  \n",
       "7            131.083  \n",
       "8            130.791  \n",
       "9            122.977  \n",
       "10           118.733  \n",
       "11           117.703  \n",
       "12           111.519  \n",
       "13            80.562  \n",
       "14            79.957  \n",
       "15            74.098  \n",
       "16            47.982  \n",
       "17            46.187  \n",
       "18            45.145  \n",
       "19            37.351  \n",
       "20            23.690  \n",
       "21            23.369  \n",
       "22            11.115  \n",
       "23             7.571  \n",
       "24             6.397  \n",
       "25             5.230  \n",
       "26             5.086  \n",
       "27             4.363  \n",
       "28             4.233  \n",
       "29             4.144  \n",
       "30             3.737  \n",
       "31             3.385  \n",
       "32                 -  "
      ]
     },
     "execution_count": 71,
     "metadata": {},
     "output_type": "execute_result"
    }
   ],
   "source": [
    "# Dataframe for scrap data\n",
    "Statewise_GDP=pd.DataFrame({'Rank':Rank,'State':State,'GDSP 19-20':GDSP_19_20,'GDSP 18-19':GDSP_18_19,\n",
    "                            'Share':Share,'GDP (in Billions)':GDP})\n",
    "print('\\033[1m'+'State-wise GDP of India :'+'\\033[0m')\n",
    "Statewise_GDP"
   ]
  },
  {
   "cell_type": "markdown",
   "id": "6f40ab5e",
   "metadata": {},
   "source": [
    "# 4. Scrape the details of trending repositories on Github.com.\n",
    "Url = https://github.com/\n",
    "You have to find the following details:\n",
    "A) Repository title\n",
    "B) Repository description\n",
    "C) Contributors count\n",
    "D) Language used"
   ]
  },
  {
   "cell_type": "code",
   "execution_count": 72,
   "id": "90fad0f1",
   "metadata": {},
   "outputs": [],
   "source": [
    "import selenium\n",
    "import pandas as pd\n",
    "from selenium import webdriver\n",
    "from selenium.common.exceptions import StaleElementReferenceException,NoSuchElementException,ElementNotVisibleException,ElementClickInterceptedException\n",
    "from selenium.webdriver.common.by import By\n",
    "from selenium.webdriver.support.select import Select\n",
    "from selenium.webdriver.common.keys import Keys\n",
    "from selenium.webdriver.support.ui import WebDriverWait\n",
    "from selenium.webdriver.support import expected_conditions as EC\n",
    "from selenium.webdriver.common.keys import Keys\n",
    "from selenium.webdriver.common.action_chains import ActionChains\n",
    "from selenium.webdriver.chrome.options import Options\n",
    "import re\n",
    "import time\n",
    "import warnings\n",
    "import requests\n",
    "\n",
    "warnings.filterwarnings(\"ignore\")"
   ]
  },
  {
   "cell_type": "code",
   "execution_count": 75,
   "id": "bd73fa42",
   "metadata": {},
   "outputs": [],
   "source": [
    "#connecting to the webdriver\n",
    "\n",
    "driver = webdriver.Chrome()"
   ]
  },
  {
   "cell_type": "code",
   "execution_count": 76,
   "id": "f956d0ca",
   "metadata": {},
   "outputs": [],
   "source": [
    "#Opening the GitHub page on automated browser\n",
    "\n",
    "URL=\"https://github.com/\"\n",
    "driver.get(URL)\n",
    "driver.maximize_window()"
   ]
  },
  {
   "cell_type": "code",
   "execution_count": 77,
   "id": "5a385929",
   "metadata": {},
   "outputs": [],
   "source": [
    "time.sleep(2)"
   ]
  },
  {
   "cell_type": "code",
   "execution_count": 82,
   "id": "f119dd55",
   "metadata": {},
   "outputs": [],
   "source": [
    "# Clicking on trending option\n",
    "trending=driver.find_element(By.XPATH,'/html/body/div[1]/div[1]/header/div/div[2]/div/nav/ul/li[3]/button')\n",
    "try:\n",
    "    trending.click()\n",
    "except ElementNotInteractableException:\n",
    "    driver.get(trending.get_attribute('href'))"
   ]
  },
  {
   "cell_type": "code",
   "execution_count": 83,
   "id": "5b9a55da",
   "metadata": {},
   "outputs": [],
   "source": [
    "tre=driver.find_element(By.XPATH,'/html/body/div[1]/div[1]/header/div/div[2]/div/nav/ul/li[3]/div/div[3]/ul/li[2]/a')\n",
    "tre.click()"
   ]
  },
  {
   "cell_type": "code",
   "execution_count": 109,
   "id": "29799511",
   "metadata": {},
   "outputs": [],
   "source": [
    "Repository_title= []\n",
    "Repository_description= []\n",
    "Contributors_count= []\n",
    "Language_used= []\n"
   ]
  },
  {
   "cell_type": "code",
   "execution_count": 114,
   "id": "bc7c46e0",
   "metadata": {},
   "outputs": [],
   "source": [
    "#Scraping title of repository\n",
    "try:\n",
    "    Repository_title_tag=driver.find_elements(By.XPATH,'//span[@class=\"text-normal\"]')\n",
    "    for i in Repository_title_tag:\n",
    "        Repository_title.append(i.text)\n",
    "except NoSuchElementException:\n",
    "    Repository_title.append('-')"
   ]
  },
  {
   "cell_type": "code",
   "execution_count": 115,
   "id": "2f34b8ed",
   "metadata": {},
   "outputs": [
    {
     "data": {
      "text/plain": [
       "26"
      ]
     },
     "execution_count": 115,
     "metadata": {},
     "output_type": "execute_result"
    }
   ],
   "source": [
    "len(Repository_title)"
   ]
  },
  {
   "cell_type": "code",
   "execution_count": 120,
   "id": "8b7e31ac",
   "metadata": {},
   "outputs": [],
   "source": [
    "#Scraping description of Repository\n",
    "try:\n",
    "    description=driver.find_elements(By.XPATH,'/html/body/div[1]/div[4]/main/div[3]/div/div[2]/article[3]/p')\n",
    "    for i in description:\n",
    "        Repository_description.append(i.text)\n",
    "except NoSuchElementException:\n",
    "    Repository_description.append('-')\n"
   ]
  },
  {
   "cell_type": "code",
   "execution_count": 123,
   "id": "5287b129",
   "metadata": {},
   "outputs": [
    {
     "name": "stdout",
     "output_type": "stream",
     "text": [
      "51\n"
     ]
    }
   ],
   "source": [
    "print(len(Repository_description))"
   ]
  },
  {
   "cell_type": "code",
   "execution_count": 128,
   "id": "979c4172",
   "metadata": {},
   "outputs": [],
   "source": [
    "#Scraping language of Repository\n",
    "try:\n",
    "    Language=driver.find_elements(By.XPATH,'//span[@class=\"d-inline-block ml-0 mr-3\"]')\n",
    "    for i in Language:\n",
    "        Language_used.append(i.text)\n",
    "except NoSuchElementException:\n",
    "    Language_used.append('-')"
   ]
  },
  {
   "cell_type": "code",
   "execution_count": 129,
   "id": "d064d9b7",
   "metadata": {},
   "outputs": [
    {
     "name": "stdout",
     "output_type": "stream",
     "text": [
      "20\n"
     ]
    }
   ],
   "source": [
    "print(len(Language_used))"
   ]
  },
  {
   "cell_type": "code",
   "execution_count": 139,
   "id": "a5eab4d2",
   "metadata": {},
   "outputs": [],
   "source": [
    "#Scraping Contributor's count of Repository\n",
    "try:\n",
    "    Count=driver.find_elements(By.XPATH,'//span[@class=\"d-inline-block float-sm-right\"]')\n",
    "    for i in Count:\n",
    "        Contributors_count.append(i.text)\n",
    "except NoSuchElementException:\n",
    "    Contributors_count.append('-')"
   ]
  },
  {
   "cell_type": "code",
   "execution_count": 140,
   "id": "51bee315",
   "metadata": {},
   "outputs": [
    {
     "name": "stdout",
     "output_type": "stream",
     "text": [
      "29\n"
     ]
    }
   ],
   "source": [
    "print(len(Contributors_count))"
   ]
  },
  {
   "cell_type": "code",
   "execution_count": 142,
   "id": "2d12a64a",
   "metadata": {},
   "outputs": [
    {
     "data": {
      "text/html": [
       "<div>\n",
       "<style scoped>\n",
       "    .dataframe tbody tr th:only-of-type {\n",
       "        vertical-align: middle;\n",
       "    }\n",
       "\n",
       "    .dataframe tbody tr th {\n",
       "        vertical-align: top;\n",
       "    }\n",
       "\n",
       "    .dataframe thead th {\n",
       "        text-align: right;\n",
       "    }\n",
       "</style>\n",
       "<table border=\"1\" class=\"dataframe\">\n",
       "  <thead>\n",
       "    <tr style=\"text-align: right;\">\n",
       "      <th></th>\n",
       "      <th>Repository_title</th>\n",
       "      <th>Repository_description</th>\n",
       "      <th>Language_used</th>\n",
       "      <th>Contributors_count</th>\n",
       "    </tr>\n",
       "  </thead>\n",
       "  <tbody>\n",
       "    <tr>\n",
       "      <th>0</th>\n",
       "      <td>run-llama /</td>\n",
       "      <td>A quick example of how one can \"synchronize\" a...</td>\n",
       "      <td>JavaScript</td>\n",
       "      <td>652</td>\n",
       "    </tr>\n",
       "    <tr>\n",
       "      <th>1</th>\n",
       "      <td>bgstaal /</td>\n",
       "      <td>2008-2012 Roadster Development and Diagnostic ...</td>\n",
       "      <td>JavaScript</td>\n",
       "      <td>4,597</td>\n",
       "    </tr>\n",
       "    <tr>\n",
       "      <th>2</th>\n",
       "      <td>run-llama /</td>\n",
       "      <td>Awesome deals on Black Friday: Apps, SaaS, Boo...</td>\n",
       "      <td>Python</td>\n",
       "      <td>4,597</td>\n",
       "    </tr>\n",
       "    <tr>\n",
       "      <th>3</th>\n",
       "      <td>teslamotors /</td>\n",
       "      <td>✯ 一个可直连访问的电视/广播图标库与相关工具项目 ✯ 🔕 永久免费 直连访问 完整开源 不...</td>\n",
       "      <td>JavaScript</td>\n",
       "      <td>971</td>\n",
       "    </tr>\n",
       "    <tr>\n",
       "      <th>4</th>\n",
       "      <td>trungdq88 /</td>\n",
       "      <td>Clash Nyanpasu!</td>\n",
       "      <td>TypeScript</td>\n",
       "      <td>1,980 stars today</td>\n",
       "    </tr>\n",
       "    <tr>\n",
       "      <th>5</th>\n",
       "      <td>fanmingming /</td>\n",
       "      <td>leaked prompts of GPTs</td>\n",
       "      <td>HTML</td>\n",
       "      <td>80 stars today</td>\n",
       "    </tr>\n",
       "    <tr>\n",
       "      <th>6</th>\n",
       "      <td>keiko233 /</td>\n",
       "      <td>The code behind my hot tips</td>\n",
       "      <td>Python</td>\n",
       "      <td>172 stars today</td>\n",
       "    </tr>\n",
       "    <tr>\n",
       "      <th>7</th>\n",
       "      <td>linexjlin /</td>\n",
       "      <td>Focus on prompting and generating</td>\n",
       "      <td>Java</td>\n",
       "      <td>174 stars today</td>\n",
       "    </tr>\n",
       "    <tr>\n",
       "      <th>8</th>\n",
       "      <td>wesbos /</td>\n",
       "      <td>A Collection of application ideas which can be...</td>\n",
       "      <td>C</td>\n",
       "      <td>191 stars today</td>\n",
       "    </tr>\n",
       "    <tr>\n",
       "      <th>9</th>\n",
       "      <td>lllyasviel /</td>\n",
       "      <td>StarRocks, a Linux Foundation project, is a ne...</td>\n",
       "      <td>Java</td>\n",
       "      <td>939 stars today</td>\n",
       "    </tr>\n",
       "    <tr>\n",
       "      <th>10</th>\n",
       "      <td>florinpop17 /</td>\n",
       "      <td>C Telegram bot framework</td>\n",
       "      <td>Go</td>\n",
       "      <td>553 stars today</td>\n",
       "    </tr>\n",
       "    <tr>\n",
       "      <th>11</th>\n",
       "      <td>StarRocks /</td>\n",
       "      <td>🇨🇳 GitHub中文排行榜，各语言分设「软件 | 资料」榜单，精准定位中文好项目。各取所需...</td>\n",
       "      <td>Shell</td>\n",
       "      <td>162 stars today</td>\n",
       "    </tr>\n",
       "    <tr>\n",
       "      <th>12</th>\n",
       "      <td>antirez /</td>\n",
       "      <td>🔥 🔥 🔥 现代化、开源的 Linux 服务器运维管理面板。</td>\n",
       "      <td>Python</td>\n",
       "      <td>168 stars today</td>\n",
       "    </tr>\n",
       "    <tr>\n",
       "      <th>13</th>\n",
       "      <td>GrowingGit /</td>\n",
       "      <td>store all chatgpt's system prompt</td>\n",
       "      <td>TypeScript</td>\n",
       "      <td>235 stars today</td>\n",
       "    </tr>\n",
       "    <tr>\n",
       "      <th>14</th>\n",
       "      <td>1Panel-dev /</td>\n",
       "      <td>Generative Models by Stability AI</td>\n",
       "      <td>Jupyter Notebook</td>\n",
       "      <td>134 stars today</td>\n",
       "    </tr>\n",
       "    <tr>\n",
       "      <th>15</th>\n",
       "      <td>LouisShark /</td>\n",
       "      <td>A one-of-a-kind resume builder that keeps your...</td>\n",
       "      <td>Swift</td>\n",
       "      <td>28 stars today</td>\n",
       "    </tr>\n",
       "    <tr>\n",
       "      <th>16</th>\n",
       "      <td>Stability-AI /</td>\n",
       "      <td>12 Weeks, 24 Lessons, AI for All!</td>\n",
       "      <td>Java</td>\n",
       "      <td>341 stars today</td>\n",
       "    </tr>\n",
       "    <tr>\n",
       "      <th>17</th>\n",
       "      <td>AmruthPillai /</td>\n",
       "      <td>A curated list of awesome C++ (or C) framework...</td>\n",
       "      <td>JavaScript</td>\n",
       "      <td>54 stars today</td>\n",
       "    </tr>\n",
       "    <tr>\n",
       "      <th>18</th>\n",
       "      <td>microsoft /</td>\n",
       "      <td>Black Friday Deals for macOS / iOS Software &amp; ...</td>\n",
       "      <td>Java</td>\n",
       "      <td>63 stars today</td>\n",
       "    </tr>\n",
       "    <tr>\n",
       "      <th>19</th>\n",
       "      <td>fffaraz /</td>\n",
       "      <td>Spring Boot</td>\n",
       "      <td>TypeScript</td>\n",
       "      <td>897 stars today</td>\n",
       "    </tr>\n",
       "  </tbody>\n",
       "</table>\n",
       "</div>"
      ],
      "text/plain": [
       "   Repository_title                             Repository_description  \\\n",
       "0       run-llama /  A quick example of how one can \"synchronize\" a...   \n",
       "1         bgstaal /  2008-2012 Roadster Development and Diagnostic ...   \n",
       "2       run-llama /  Awesome deals on Black Friday: Apps, SaaS, Boo...   \n",
       "3     teslamotors /  ✯ 一个可直连访问的电视/广播图标库与相关工具项目 ✯ 🔕 永久免费 直连访问 完整开源 不...   \n",
       "4       trungdq88 /                                    Clash Nyanpasu!   \n",
       "5     fanmingming /                             leaked prompts of GPTs   \n",
       "6        keiko233 /                        The code behind my hot tips   \n",
       "7       linexjlin /                  Focus on prompting and generating   \n",
       "8          wesbos /  A Collection of application ideas which can be...   \n",
       "9      lllyasviel /  StarRocks, a Linux Foundation project, is a ne...   \n",
       "10    florinpop17 /                           C Telegram bot framework   \n",
       "11      StarRocks /  🇨🇳 GitHub中文排行榜，各语言分设「软件 | 资料」榜单，精准定位中文好项目。各取所需...   \n",
       "12        antirez /                     🔥 🔥 🔥 现代化、开源的 Linux 服务器运维管理面板。   \n",
       "13     GrowingGit /                  store all chatgpt's system prompt   \n",
       "14     1Panel-dev /                  Generative Models by Stability AI   \n",
       "15     LouisShark /  A one-of-a-kind resume builder that keeps your...   \n",
       "16   Stability-AI /                  12 Weeks, 24 Lessons, AI for All!   \n",
       "17   AmruthPillai /  A curated list of awesome C++ (or C) framework...   \n",
       "18      microsoft /  Black Friday Deals for macOS / iOS Software & ...   \n",
       "19        fffaraz /                                        Spring Boot   \n",
       "\n",
       "       Language_used Contributors_count  \n",
       "0         JavaScript                652  \n",
       "1         JavaScript              4,597  \n",
       "2             Python              4,597  \n",
       "3         JavaScript                971  \n",
       "4         TypeScript  1,980 stars today  \n",
       "5               HTML     80 stars today  \n",
       "6             Python    172 stars today  \n",
       "7               Java    174 stars today  \n",
       "8                  C    191 stars today  \n",
       "9               Java    939 stars today  \n",
       "10                Go    553 stars today  \n",
       "11             Shell    162 stars today  \n",
       "12            Python    168 stars today  \n",
       "13        TypeScript    235 stars today  \n",
       "14  Jupyter Notebook    134 stars today  \n",
       "15             Swift     28 stars today  \n",
       "16              Java    341 stars today  \n",
       "17        JavaScript     54 stars today  \n",
       "18              Java     63 stars today  \n",
       "19        TypeScript    897 stars today  "
      ]
     },
     "execution_count": 142,
     "metadata": {},
     "output_type": "execute_result"
    }
   ],
   "source": [
    "#creating Dataframe\n",
    "github_deatails=pd.DataFrame({\"Repository_title\":Repository_title[:20],\"Repository_description\":Repository_description[:20],\"Language_used\":Language_used[:20],\"Contributors_count\":Contributors_count[:20]})\n",
    "github_deatails"
   ]
  },
  {
   "cell_type": "markdown",
   "id": "cb693ac9",
   "metadata": {},
   "source": [
    "# 5. Scrape the details of top 100 songs on billiboard.com. Url = https:/www.billboard.com/ You have to find the following details:\n",
    "A) Song name\n",
    "B) Artist name\n",
    "C) Last week rank\n",
    "D) Peak rank\n",
    "E) Weeks on board\n",
    "Note: - From the home page you have to click on the charts option then hot 100-page link through code."
   ]
  },
  {
   "cell_type": "code",
   "execution_count": 91,
   "id": "48cb62fb",
   "metadata": {},
   "outputs": [],
   "source": [
    "import selenium\n",
    "import pandas as pd\n",
    "from selenium import webdriver\n",
    "from selenium.common.exceptions import StaleElementReferenceException,NoSuchElementException,ElementNotVisibleException,ElementClickInterceptedException\n",
    "from selenium.webdriver.common.by import By\n",
    "from selenium.webdriver.support.select import Select\n",
    "from selenium.webdriver.common.keys import Keys\n",
    "from selenium.webdriver.support.ui import WebDriverWait\n",
    "from selenium.webdriver.support import expected_conditions as EC\n",
    "from selenium.webdriver.common.keys import Keys\n",
    "from selenium.webdriver.common.action_chains import ActionChains\n",
    "from selenium.webdriver.chrome.options import Options\n",
    "import re\n",
    "import time\n",
    "import warnings\n",
    "import requests\n",
    "\n",
    "warnings.filterwarnings(\"ignore\")"
   ]
  },
  {
   "cell_type": "code",
   "execution_count": 92,
   "id": "f1a38bf1",
   "metadata": {},
   "outputs": [],
   "source": [
    "#connecting to the webdriver\n",
    "\n",
    "driver = webdriver.Chrome()"
   ]
  },
  {
   "cell_type": "code",
   "execution_count": 94,
   "id": "3ef3c655",
   "metadata": {},
   "outputs": [],
   "source": [
    "#Opening the Billiboard page on automated browser\n",
    "\n",
    "URL=\"https:/www.billboard.com/\"\n",
    "driver.get(URL)\n",
    "driver.maximize_window()"
   ]
  },
  {
   "cell_type": "code",
   "execution_count": 64,
   "id": "a3486c88",
   "metadata": {},
   "outputs": [],
   "source": [
    "time.sleep(2)"
   ]
  },
  {
   "cell_type": "code",
   "execution_count": 96,
   "id": "377602bd",
   "metadata": {},
   "outputs": [],
   "source": [
    "top=driver.find_element(By.XPATH,'//*[@id=\"main-wrapper\"]/main/div[2]/div[1]/div[1]/div[1]/div[2]/div/div[2]/a[1]')\n",
    "top.click()"
   ]
  },
  {
   "cell_type": "code",
   "execution_count": 97,
   "id": "a99da895",
   "metadata": {},
   "outputs": [],
   "source": [
    "time.sleep(2)"
   ]
  },
  {
   "cell_type": "code",
   "execution_count": 98,
   "id": "c2f54ba9",
   "metadata": {},
   "outputs": [],
   "source": [
    "#Creating Empty List\n",
    "Name=[]\n",
    "Artist=[]\n",
    "Rank=[]\n",
    "All_rank=[]\n"
   ]
  },
  {
   "cell_type": "code",
   "execution_count": 99,
   "id": "4942148a",
   "metadata": {},
   "outputs": [],
   "source": [
    "#Scraping rank\n",
    "rankTag=driver.find_elements(By.XPATH,'//span[@class=\"c-label  a-font-primary-bold-l u-font-size-32@tablet u-letter-spacing-0080@tablet\"]')\n",
    "for i in rankTag:\n",
    "    Rank.append(i.text )"
   ]
  },
  {
   "cell_type": "code",
   "execution_count": 100,
   "id": "4d071bf8",
   "metadata": {},
   "outputs": [
    {
     "name": "stdout",
     "output_type": "stream",
     "text": [
      "200\n"
     ]
    }
   ],
   "source": [
    "print(len(Rank))"
   ]
  },
  {
   "cell_type": "code",
   "execution_count": 101,
   "id": "0d131d36",
   "metadata": {},
   "outputs": [],
   "source": [
    "#Scraping name\n",
    "Name_tag=driver.find_elements(By.XPATH,'//h3[@class=\"c-title  a-no-trucate a-font-primary-bold-s u-letter-spacing-0021 lrv-u-font-size-18@tablet lrv-u-font-size-16 u-line-height-125 u-line-height-normal@mobile-max a-truncate-ellipsis u-max-width-330 u-max-width-230@tablet-only\"]')\n",
    "for i in Name_tag:\n",
    "    Name.append(i.text)"
   ]
  },
  {
   "cell_type": "code",
   "execution_count": 102,
   "id": "51f4b65e",
   "metadata": {},
   "outputs": [
    {
     "name": "stdout",
     "output_type": "stream",
     "text": [
      "199\n"
     ]
    }
   ],
   "source": [
    "print(len(Name))"
   ]
  },
  {
   "cell_type": "code",
   "execution_count": 103,
   "id": "24cf41c6",
   "metadata": {},
   "outputs": [],
   "source": [
    "\n",
    "#Scraping artist\n",
    "Artist_tag=driver.find_elements(By.XPATH,'//span[@class=\"c-label  a-no-trucate a-font-primary-s lrv-u-font-size-14@mobile-max u-line-height-normal@mobile-max u-letter-spacing-0021 lrv-u-display-block a-truncate-ellipsis-2line u-max-width-330 u-max-width-230@tablet-only\"]')\n",
    "for i in Artist_tag:\n",
    "    Artist.append(i.text)"
   ]
  },
  {
   "cell_type": "code",
   "execution_count": 104,
   "id": "bc7f2374",
   "metadata": {},
   "outputs": [
    {
     "name": "stdout",
     "output_type": "stream",
     "text": [
      "199\n"
     ]
    }
   ],
   "source": [
    "print(len(Artist))"
   ]
  },
  {
   "cell_type": "code",
   "execution_count": 105,
   "id": "69afc53f",
   "metadata": {},
   "outputs": [],
   "source": [
    "#Scraping Last All Rank\n",
    "Allrank_tag=driver.find_elements(By.XPATH,'//span[@class=\"c-label  a-font-primary-m lrv-u-padding-tb-050@mobile-max\"]')\n",
    "for i in Allrank_tag:\n",
    "    All_rank.append(i.text)"
   ]
  },
  {
   "cell_type": "code",
   "execution_count": 106,
   "id": "863d0852",
   "metadata": {},
   "outputs": [
    {
     "name": "stdout",
     "output_type": "stream",
     "text": [
      "1194\n"
     ]
    }
   ],
   "source": [
    "print(len(All_rank))"
   ]
  },
  {
   "cell_type": "code",
   "execution_count": 107,
   "id": "c2938fc6",
   "metadata": {},
   "outputs": [
    {
     "name": "stdout",
     "output_type": "stream",
     "text": [
      "['1', '1', '3', '', '', '', '-', '3', '1', '', '', '', '3', '1', '6', '', '', '', '4', '1', '37', '', '', '', '2', '2', '2', '', '', '', '9', '1', '56', '', '', '', '5', '1', '5', '', '', '', '-', '9', '1', '', '', '', '8', '1', '12', '', '', '', '7', '1', '9', '', '', '', '10', '1', '49', '', '', '', '13', '3', '51', '', '', '', '11', '1', '221', '', '', '', '-', '1', '183', '', '', '', '12', '1', '10', '', '', '', '-', '17', '1', '', '', '', '15', '1', '173', '', '', '', '14', '1', '149', '', '', '', '-', '3', '176', '', '', '', '16', '3', '21', '', '', '', '17', '1', '16', '', '', '', '-', '23', '1', '', '', '', '20', '1', '19', '', '', '', '24', '1', '269', '', '', '', '-', '26', '1', '', '', '', '22', '5', '78', '', '', '', '-', '28', '1', '', '', '', '29', '14', '4', '', '', '', '23', '4', '8', '', '', '', '25', '1', '105', '', '', '', '27', '1', '153', '', '', '', '-', '33', '1', '', '', '', '28', '2', '17', '', '', '', '30', '1', '80', '', '', '', '42', '3', '24', '', '', '', '58', '1', '111', '', '', '', '32', '1', '130', '', '', '', '35', '7', '27', '', '', '', '36', '7', '314', '', '', '', '41', '4', '34', '', '', '', '37', '1', '194', '', '', '', '34', '1', '50', '', '', '', '39', '3', '336', '', '', '', '40', '1', '555', '', '', '', '18', '18', '2', '', '', '', '38', '1', '54', '', '', '', '-', '1', '23', '', '', '', '51', '1', '123', '', '', '', '43', '1', '658', '', '', '', '44', '1', '115', '', '', '', '45', '1', '559', '', '', '', '48', '1', '218', '', '', '', '50', '4', '337', '', '', '', '46', '1', '315', '', '', '', '47', '8', '569', '', '', '', '76', '3', '118', '', '', '', '53', '1', '466', '', '', '', '49', '1', '302', '', '', '', '54', '2', '577', '', '', '', '-', '61', '1', '', '', '', '102', '51', '52', '', '', '', '105', '1', '600', '', '', '', '56', '1', '344', '', '', '', '57', '2', '510', '', '', '', '63', '1', '281', '', '', '', '31', '11', '3', '', '', '', '61', '25', '24', '', '', '', '55', '1', '38', '', '', '', '60', '18', '668', '', '', '', '67', '4', '287', '', '', '', '66', '10', '268', '', '', '', '6', '6', '2', '', '', '', '-', '74', '1', '', '', '', '160', '4', '587', '', '', '', '72', '1', '356', '', '', '', '146', '6', '109', '', '', '', '62', '3', '14', '', '', '', '59', '3', '22', '', '', '', '74', '1', '467', '', '', '', '19', '19', '2', '', '', '', '68', '14', '6', '', '', '', '33', '3', '4', '', '', '', '79', '1', '427', '', '', '', '69', '34', '15', '', '', '', '172', '5', '75', '', '', '', '78', '12', '9', '', '', '', '133', '88', '2', '', '', '', '81', '1', '392', '', '', '', '83', '1', '81', '', '', '', '80', '1', '78', '', '', '', '75', '22', '7', '', '', '', '84', '2', '292', '', '', '', '26', '2', '3', '', '', '', '92', '4', '43', '', '', '', '90', '1', '276', '', '', '', '88', '1', '394', '', '', '', '91', '1', '210', '', '', '', '94', '1', '118', '', '', '', '71', '11', '5', '', '', '', '85', '3', '25', '', '', '', '21', '21', '2', '', '', '', '95', '2', '425', '', '', '', '86', '11', '8', '', '', '', '64', '5', '5', '', '', '', '96', '8', '345', '', '', '', '-', '2', '141', '', '', '', '104', '3', '157', '', '', '', '98', '2', '71', '', '', '', '99', '2', '16', '', '', '', '89', '1', '20', '', '', '', '-', '112', '1', '', '', '', '103', '6', '277', '', '', '', '107', '21', '162', '', '', '', '101', '3', '501', '', '', '', '108', '1', '128', '', '', '', '-', '36', '61', '', '', '', '109', '2', '125', '', '', '', '114', '2', '215', '', '', '', '130', '3', '189', '', '', '', '118', '2', '152', '', '', '', '113', '3', '36', '', '', '', '100', '1', '57', '', '', '', '117', '1', '138', '', '', '', '112', '1', '350', '', '', '', '110', '2', '540', '', '', '', '73', '3', '5', '', '', '', '143', '1', '214', '', '', '', '119', '19', '39', '', '', '', '123', '1', '289', '', '', '', '-', '12', '39', '', '', '', '121', '1', '644', '', '', '', '125', '4', '361', '', '', '', '111', '1', '68', '', '', '', '122', '3', '650', '', '', '', '120', '3', '650', '', '', '', '-', '18', '3', '', '', '', '-', '8', '32', '', '', '', '-', '11', '234', '', '', '', '127', '1', '325', '', '', '', '106', '1', '331', '', '', '', '140', '1', '245', '', '', '', '-', '28', '110', '', '', '', '144', '1', '241', '', '', '', '134', '83', '27', '', '', '', '152', '3', '13', '', '', '', '-', '12', '51', '', '', '', '147', '1', '107', '', '', '', '-', '2', '265', '', '', '', '129', '129', '17', '', '', '', '132', '5', '809', '', '', '', '126', '1', '17', '', '', '', '145', '1', '88', '', '', '', '136', '107', '136', '', '', '', '131', '2', '341', '', '', '', '-', '156', '1', '', '', '', '142', '36', '13', '', '', '', '82', '1', '4', '', '', '', '153', '1', '175', '', '', '', '155', '1', '245', '', '', '', '-', '161', '1', '', '', '', '139', '1', '348', '', '', '', '161', '1', '242', '', '', '', '171', '23', '10', '', '', '', '150', '1', '176', '', '', '', '148', '1', '340', '', '', '', '138', '62', '20', '', '', '', '167', '2', '318', '', '', '', '-', '169', '1', '', '', '', '135', '21', '14', '', '', '', '169', '1', '120', '', '', '', '154', '34', '221', '', '', '', '158', '2', '187', '', '', '', '-', '6', '178', '', '', '', '164', '5', '114', '', '', '', '93', '23', '6', '', '', '', '141', '1', '263', '', '', '', '-', '14', '29', '', '', '', '184', '14', '174', '', '', '', '151', '8', '8', '', '', '', '157', '56', '240', '', '', '', '170', '61', '7', '', '', '', '-', '1', '154', '', '', '', '174', '1', '295', '', '', '', '-', '32', '2', '', '', '', '163', '8', '499', '', '', '', '177', '25', '300', '', '', '', '162', '1', '590', '', '', '', '159', '6', '112', '', '', '', '-', '16', '3', '', '', '', '175', '34', '35', '', '', '', '194', '3', '249', '', '', '', '165', '1', '199', '', '', '', '198', '2', '165', '', '', '', '179', '4', '134', '', '', '', '180', '1', '151', '', '', '', '-', '1', '109', '', '', '', '65', '65', '2', '', '', '', '191', '1', '66', '', '', '', '189', '28', '55', '', '', '']\n"
     ]
    }
   ],
   "source": [
    "print(All_rank)"
   ]
  },
  {
   "cell_type": "code",
   "execution_count": 108,
   "id": "8fc61ea8",
   "metadata": {},
   "outputs": [],
   "source": [
    "# removing '' for getting last week rang and weeks on board\n",
    "for i in All_rank:\n",
    "    if i=='':\n",
    "        All_rank.remove(i)\n",
    "        \n",
    "# slicing Data\n",
    "last_week_rank= All_rank[0::3]\n",
    "last_week_rank.insert(0,Rank[0])\n",
    "peak_rank= All_rank[1::3]\n",
    "peak_rank.insert(0,Rank[1])\n",
    "weeks_on_board= All_rank[2::3]\n",
    "weeks_on_board.insert(0,Rank[2])"
   ]
  },
  {
   "cell_type": "code",
   "execution_count": null,
   "id": "0d2c64b9",
   "metadata": {},
   "outputs": [],
   "source": [
    "driver.close()"
   ]
  },
  {
   "cell_type": "code",
   "execution_count": 109,
   "id": "97827bb7",
   "metadata": {},
   "outputs": [
    {
     "data": {
      "text/html": [
       "<div>\n",
       "<style scoped>\n",
       "    .dataframe tbody tr th:only-of-type {\n",
       "        vertical-align: middle;\n",
       "    }\n",
       "\n",
       "    .dataframe tbody tr th {\n",
       "        vertical-align: top;\n",
       "    }\n",
       "\n",
       "    .dataframe thead th {\n",
       "        text-align: right;\n",
       "    }\n",
       "</style>\n",
       "<table border=\"1\" class=\"dataframe\">\n",
       "  <thead>\n",
       "    <tr style=\"text-align: right;\">\n",
       "      <th></th>\n",
       "      <th>Name</th>\n",
       "      <th>Artist</th>\n",
       "      <th>Last Week Rank</th>\n",
       "      <th>Peak Rank</th>\n",
       "      <th>Weeks On Board</th>\n",
       "    </tr>\n",
       "  </thead>\n",
       "  <tbody>\n",
       "    <tr>\n",
       "      <th>0</th>\n",
       "      <td>1989 (Taylor's Version)</td>\n",
       "      <td>Taylor Swift</td>\n",
       "      <td>1</td>\n",
       "      <td>2</td>\n",
       "      <td>3</td>\n",
       "    </tr>\n",
       "    <tr>\n",
       "      <th>1</th>\n",
       "      <td>Higher</td>\n",
       "      <td>Chris Stapleton</td>\n",
       "      <td>1</td>\n",
       "      <td>1</td>\n",
       "      <td>3</td>\n",
       "    </tr>\n",
       "    <tr>\n",
       "      <th>2</th>\n",
       "      <td>For All The Dogs</td>\n",
       "      <td>Drake</td>\n",
       "      <td>-</td>\n",
       "      <td>3</td>\n",
       "      <td>1</td>\n",
       "    </tr>\n",
       "    <tr>\n",
       "      <th>3</th>\n",
       "      <td>One Thing At A Time</td>\n",
       "      <td>Morgan Wallen</td>\n",
       "      <td>3</td>\n",
       "      <td>1</td>\n",
       "      <td>6</td>\n",
       "    </tr>\n",
       "    <tr>\n",
       "      <th>4</th>\n",
       "      <td>Golden</td>\n",
       "      <td>Jung Kook</td>\n",
       "      <td>4</td>\n",
       "      <td>1</td>\n",
       "      <td>37</td>\n",
       "    </tr>\n",
       "    <tr>\n",
       "      <th>...</th>\n",
       "      <td>...</td>\n",
       "      <td>...</td>\n",
       "      <td>...</td>\n",
       "      <td>...</td>\n",
       "      <td>...</td>\n",
       "    </tr>\n",
       "    <tr>\n",
       "      <th>95</th>\n",
       "      <td>ANTI</td>\n",
       "      <td>Rihanna</td>\n",
       "      <td>90</td>\n",
       "      <td>1</td>\n",
       "      <td>276</td>\n",
       "    </tr>\n",
       "    <tr>\n",
       "      <th>96</th>\n",
       "      <td>What You See Is What You Get</td>\n",
       "      <td>Luke Combs</td>\n",
       "      <td>88</td>\n",
       "      <td>1</td>\n",
       "      <td>394</td>\n",
       "    </tr>\n",
       "    <tr>\n",
       "      <th>97</th>\n",
       "      <td>After Hours</td>\n",
       "      <td>The Weeknd</td>\n",
       "      <td>91</td>\n",
       "      <td>1</td>\n",
       "      <td>210</td>\n",
       "    </tr>\n",
       "    <tr>\n",
       "      <th>98</th>\n",
       "      <td>A Great Chaos</td>\n",
       "      <td>Ken Carson</td>\n",
       "      <td>94</td>\n",
       "      <td>1</td>\n",
       "      <td>118</td>\n",
       "    </tr>\n",
       "    <tr>\n",
       "      <th>99</th>\n",
       "      <td>Almost Healed</td>\n",
       "      <td>Lil Durk</td>\n",
       "      <td>71</td>\n",
       "      <td>11</td>\n",
       "      <td>5</td>\n",
       "    </tr>\n",
       "  </tbody>\n",
       "</table>\n",
       "<p>100 rows × 5 columns</p>\n",
       "</div>"
      ],
      "text/plain": [
       "                            Name           Artist Last Week Rank Peak Rank  \\\n",
       "0        1989 (Taylor's Version)     Taylor Swift              1         2   \n",
       "1                         Higher  Chris Stapleton              1         1   \n",
       "2               For All The Dogs            Drake              -         3   \n",
       "3            One Thing At A Time    Morgan Wallen              3         1   \n",
       "4                         Golden        Jung Kook              4         1   \n",
       "..                           ...              ...            ...       ...   \n",
       "95                          ANTI          Rihanna             90         1   \n",
       "96  What You See Is What You Get       Luke Combs             88         1   \n",
       "97                   After Hours       The Weeknd             91         1   \n",
       "98                 A Great Chaos       Ken Carson             94         1   \n",
       "99                 Almost Healed         Lil Durk             71        11   \n",
       "\n",
       "   Weeks On Board  \n",
       "0               3  \n",
       "1               3  \n",
       "2               1  \n",
       "3               6  \n",
       "4              37  \n",
       "..            ...  \n",
       "95            276  \n",
       "96            394  \n",
       "97            210  \n",
       "98            118  \n",
       "99              5  \n",
       "\n",
       "[100 rows x 5 columns]"
      ]
     },
     "execution_count": 109,
     "metadata": {},
     "output_type": "execute_result"
    }
   ],
   "source": [
    "# Create Dataframe\n",
    "songs_top=pd.DataFrame({\"Name\":Name[:100],\n",
    "                        \"Artist\":Artist[:100],\n",
    "                        \"Last Week Rank\":last_week_rank[0:100],\n",
    "                        \"Peak Rank\":peak_rank[0:100],\n",
    "                        \"Weeks On Board\":weeks_on_board[0:100]})\n",
    "songs_top"
   ]
  },
  {
   "cell_type": "markdown",
   "id": "a93817c7",
   "metadata": {},
   "source": [
    "# 6. Scrape the details of Highest selling novels.\n",
    "A) Book name\n",
    "B) Author name\n",
    "C) Volumes sold\n",
    "D) Publisher\n",
    "E) Genre\n",
    "Url - https://www.theguardian.com/news/datablog/2012/aug/09/best-selling-books-all-time-fifty-shades-grey-compare"
   ]
  },
  {
   "cell_type": "code",
   "execution_count": 15,
   "id": "f345ca5d",
   "metadata": {},
   "outputs": [],
   "source": [
    "import selenium\n",
    "import pandas as pd\n",
    "from selenium import webdriver\n",
    "from selenium.common.exceptions import StaleElementReferenceException,NoSuchElementException,ElementNotVisibleException,ElementClickInterceptedException\n",
    "from selenium.webdriver.common.by import By\n",
    "from selenium.webdriver.support.select import Select\n",
    "from selenium.webdriver.common.keys import Keys\n",
    "from selenium.webdriver.support.ui import WebDriverWait\n",
    "from selenium.webdriver.support import expected_conditions as EC\n",
    "from selenium.webdriver.common.keys import Keys\n",
    "from selenium.webdriver.common.action_chains import ActionChains\n",
    "from selenium.webdriver.chrome.options import Options\n",
    "import re\n",
    "import time\n",
    "import warnings\n",
    "import requests\n",
    "\n",
    "warnings.filterwarnings(\"ignore\")"
   ]
  },
  {
   "cell_type": "code",
   "execution_count": 16,
   "id": "ef36d500",
   "metadata": {},
   "outputs": [],
   "source": [
    "#connecting to the webdriver\n",
    "\n",
    "driver = webdriver.Chrome()"
   ]
  },
  {
   "cell_type": "code",
   "execution_count": 17,
   "id": "716c6236",
   "metadata": {},
   "outputs": [],
   "source": [
    "#Opening the theguardian page on automated browser\n",
    "\n",
    "URL=\" https://www.theguardian.com/news/datablog/2012/aug/09/best-selling-books-all-time-fifty-shades-grey-compare\"\n",
    "driver.get(URL)\n",
    "driver.maximize_window()"
   ]
  },
  {
   "cell_type": "code",
   "execution_count": 18,
   "id": "9f6cbcbc",
   "metadata": {},
   "outputs": [],
   "source": [
    "\n",
    "Title=[]\n",
    "Author=[]\n",
    "Volume_sales=[]\n",
    "Publisher=[]\n",
    "Genre=[]"
   ]
  },
  {
   "cell_type": "code",
   "execution_count": 20,
   "id": "8e0d62c1",
   "metadata": {},
   "outputs": [],
   "source": [
    "#Scrap Book Title\n",
    "# Scraping Book name\n",
    "try:\n",
    "    titlr_tag=driver.find_elements(By.XPATH,'//table[@class=\"in-article sortable\"]/tbody/tr/td[2]')\n",
    "    for i in titlr_tag:\n",
    "        Title.append(i.text)\n",
    "except NoSuchElementException:\n",
    "    Title.append('NA')"
   ]
  },
  {
   "cell_type": "code",
   "execution_count": 21,
   "id": "123cc84a",
   "metadata": {},
   "outputs": [
    {
     "name": "stdout",
     "output_type": "stream",
     "text": [
      "100\n"
     ]
    }
   ],
   "source": [
    "print(len(Title))"
   ]
  },
  {
   "cell_type": "code",
   "execution_count": 23,
   "id": "e685cb3c",
   "metadata": {},
   "outputs": [],
   "source": [
    "# Scraping Author Name via Xpath\n",
    "try:\n",
    "    author_tag=driver.find_elements(By.XPATH,'//table[@class=\"in-article sortable\"]/tbody/tr/td[3]')\n",
    "    for i in author_tag:\n",
    "        Author.append(i.text)\n",
    "except NoSuchElementException:\n",
    "    Author.append('NA')"
   ]
  },
  {
   "cell_type": "code",
   "execution_count": 24,
   "id": "e92c4346",
   "metadata": {},
   "outputs": [
    {
     "name": "stdout",
     "output_type": "stream",
     "text": [
      "100\n"
     ]
    }
   ],
   "source": [
    "print(len(Author))"
   ]
  },
  {
   "cell_type": "code",
   "execution_count": 25,
   "id": "f28f14f3",
   "metadata": {},
   "outputs": [],
   "source": [
    "# Scraping Volume sales via Xpath\n",
    "try:\n",
    "    sale_tag=driver.find_elements(By.XPATH,'//table[@class=\"in-article sortable\"]/tbody/tr/td[4]')\n",
    "    for i in sale_tag:\n",
    "        Volume_sales.append(i.text)\n",
    "except NoSuchElementException:\n",
    "    Volume_sales.append('NA')"
   ]
  },
  {
   "cell_type": "code",
   "execution_count": 26,
   "id": "4d1ebc4a",
   "metadata": {},
   "outputs": [
    {
     "name": "stdout",
     "output_type": "stream",
     "text": [
      "100\n"
     ]
    }
   ],
   "source": [
    "print(len(Volume_sales))"
   ]
  },
  {
   "cell_type": "code",
   "execution_count": 27,
   "id": "e84f1c52",
   "metadata": {},
   "outputs": [],
   "source": [
    "# Scraping publisher via xPath\n",
    "try:\n",
    "    publisher_tag=driver.find_elements(By.XPATH,'//table[@class=\"in-article sortable\"]/tbody/tr/td[5]')\n",
    "    for i in publisher_tag:\n",
    "        Publisher.append(i.text)\n",
    "except NoSuchElementException:\n",
    "    Publisher.append('NA')"
   ]
  },
  {
   "cell_type": "code",
   "execution_count": 29,
   "id": "506d2530",
   "metadata": {},
   "outputs": [
    {
     "name": "stdout",
     "output_type": "stream",
     "text": [
      "100\n"
     ]
    }
   ],
   "source": [
    "print(len(Publisher))"
   ]
  },
  {
   "cell_type": "code",
   "execution_count": 31,
   "id": "5bfd16c2",
   "metadata": {},
   "outputs": [],
   "source": [
    "# Scraping Genre via Xpath\n",
    "try:\n",
    "    genre_tag=driver.find_elements(By.XPATH,'//table[@class=\"in-article sortable\"]/tbody/tr/td[6]')\n",
    "    for i in genre_tag:\n",
    "        Genre.append(i.text)\n",
    "except NoSuchElementException:\n",
    "    Genre.append('NA')"
   ]
  },
  {
   "cell_type": "code",
   "execution_count": 32,
   "id": "8d6e49c3",
   "metadata": {},
   "outputs": [
    {
     "name": "stdout",
     "output_type": "stream",
     "text": [
      "100\n"
     ]
    }
   ],
   "source": [
    "print(len(Genre))"
   ]
  },
  {
   "cell_type": "code",
   "execution_count": 33,
   "id": "37a6debf",
   "metadata": {},
   "outputs": [
    {
     "name": "stdout",
     "output_type": "stream",
     "text": [
      "\u001b[1mBest Selling Books of All Time List by The Guardian  :\u001b[0m\n"
     ]
    },
    {
     "data": {
      "text/html": [
       "<div>\n",
       "<style scoped>\n",
       "    .dataframe tbody tr th:only-of-type {\n",
       "        vertical-align: middle;\n",
       "    }\n",
       "\n",
       "    .dataframe tbody tr th {\n",
       "        vertical-align: top;\n",
       "    }\n",
       "\n",
       "    .dataframe thead th {\n",
       "        text-align: right;\n",
       "    }\n",
       "</style>\n",
       "<table border=\"1\" class=\"dataframe\">\n",
       "  <thead>\n",
       "    <tr style=\"text-align: right;\">\n",
       "      <th></th>\n",
       "      <th>Book Title</th>\n",
       "      <th>Author Name</th>\n",
       "      <th>Volumes sold</th>\n",
       "      <th>Publisher</th>\n",
       "      <th>Genre</th>\n",
       "    </tr>\n",
       "  </thead>\n",
       "  <tbody>\n",
       "    <tr>\n",
       "      <th>0</th>\n",
       "      <td>Da Vinci Code,The</td>\n",
       "      <td>Brown, Dan</td>\n",
       "      <td>5,094,805</td>\n",
       "      <td>Transworld</td>\n",
       "      <td>Crime, Thriller &amp; Adventure</td>\n",
       "    </tr>\n",
       "    <tr>\n",
       "      <th>1</th>\n",
       "      <td>Harry Potter and the Deathly Hallows</td>\n",
       "      <td>Rowling, J.K.</td>\n",
       "      <td>4,475,152</td>\n",
       "      <td>Bloomsbury</td>\n",
       "      <td>Children's Fiction</td>\n",
       "    </tr>\n",
       "    <tr>\n",
       "      <th>2</th>\n",
       "      <td>Harry Potter and the Philosopher's Stone</td>\n",
       "      <td>Rowling, J.K.</td>\n",
       "      <td>4,200,654</td>\n",
       "      <td>Bloomsbury</td>\n",
       "      <td>Children's Fiction</td>\n",
       "    </tr>\n",
       "    <tr>\n",
       "      <th>3</th>\n",
       "      <td>Harry Potter and the Order of the Phoenix</td>\n",
       "      <td>Rowling, J.K.</td>\n",
       "      <td>4,179,479</td>\n",
       "      <td>Bloomsbury</td>\n",
       "      <td>Children's Fiction</td>\n",
       "    </tr>\n",
       "    <tr>\n",
       "      <th>4</th>\n",
       "      <td>Fifty Shades of Grey</td>\n",
       "      <td>James, E. L.</td>\n",
       "      <td>3,758,936</td>\n",
       "      <td>Random House</td>\n",
       "      <td>Romance &amp; Sagas</td>\n",
       "    </tr>\n",
       "    <tr>\n",
       "      <th>...</th>\n",
       "      <td>...</td>\n",
       "      <td>...</td>\n",
       "      <td>...</td>\n",
       "      <td>...</td>\n",
       "      <td>...</td>\n",
       "    </tr>\n",
       "    <tr>\n",
       "      <th>95</th>\n",
       "      <td>Ghost,The</td>\n",
       "      <td>Harris, Robert</td>\n",
       "      <td>807,311</td>\n",
       "      <td>Random House</td>\n",
       "      <td>General &amp; Literary Fiction</td>\n",
       "    </tr>\n",
       "    <tr>\n",
       "      <th>96</th>\n",
       "      <td>Happy Days with the Naked Chef</td>\n",
       "      <td>Oliver, Jamie</td>\n",
       "      <td>794,201</td>\n",
       "      <td>Penguin</td>\n",
       "      <td>Food &amp; Drink: General</td>\n",
       "    </tr>\n",
       "    <tr>\n",
       "      <th>97</th>\n",
       "      <td>Hunger Games,The:Hunger Games Trilogy</td>\n",
       "      <td>Collins, Suzanne</td>\n",
       "      <td>792,187</td>\n",
       "      <td>Scholastic Ltd.</td>\n",
       "      <td>Young Adult Fiction</td>\n",
       "    </tr>\n",
       "    <tr>\n",
       "      <th>98</th>\n",
       "      <td>Lost Boy,The:A Foster Child's Search for the L...</td>\n",
       "      <td>Pelzer, Dave</td>\n",
       "      <td>791,507</td>\n",
       "      <td>Orion</td>\n",
       "      <td>Biography: General</td>\n",
       "    </tr>\n",
       "    <tr>\n",
       "      <th>99</th>\n",
       "      <td>Jamie's Ministry of Food:Anyone Can Learn to C...</td>\n",
       "      <td>Oliver, Jamie</td>\n",
       "      <td>791,095</td>\n",
       "      <td>Penguin</td>\n",
       "      <td>Food &amp; Drink: General</td>\n",
       "    </tr>\n",
       "  </tbody>\n",
       "</table>\n",
       "<p>100 rows × 5 columns</p>\n",
       "</div>"
      ],
      "text/plain": [
       "                                           Book Title       Author Name  \\\n",
       "0                                   Da Vinci Code,The        Brown, Dan   \n",
       "1                Harry Potter and the Deathly Hallows     Rowling, J.K.   \n",
       "2            Harry Potter and the Philosopher's Stone     Rowling, J.K.   \n",
       "3           Harry Potter and the Order of the Phoenix     Rowling, J.K.   \n",
       "4                                Fifty Shades of Grey      James, E. L.   \n",
       "..                                                ...               ...   \n",
       "95                                          Ghost,The    Harris, Robert   \n",
       "96                     Happy Days with the Naked Chef     Oliver, Jamie   \n",
       "97              Hunger Games,The:Hunger Games Trilogy  Collins, Suzanne   \n",
       "98  Lost Boy,The:A Foster Child's Search for the L...      Pelzer, Dave   \n",
       "99  Jamie's Ministry of Food:Anyone Can Learn to C...     Oliver, Jamie   \n",
       "\n",
       "   Volumes sold        Publisher                        Genre  \n",
       "0     5,094,805       Transworld  Crime, Thriller & Adventure  \n",
       "1     4,475,152       Bloomsbury           Children's Fiction  \n",
       "2     4,200,654       Bloomsbury           Children's Fiction  \n",
       "3     4,179,479       Bloomsbury           Children's Fiction  \n",
       "4     3,758,936     Random House              Romance & Sagas  \n",
       "..          ...              ...                          ...  \n",
       "95      807,311     Random House   General & Literary Fiction  \n",
       "96      794,201          Penguin        Food & Drink: General  \n",
       "97      792,187  Scholastic Ltd.          Young Adult Fiction  \n",
       "98      791,507            Orion           Biography: General  \n",
       "99      791,095          Penguin        Food & Drink: General  \n",
       "\n",
       "[100 rows x 5 columns]"
      ]
     },
     "execution_count": 33,
     "metadata": {},
     "output_type": "execute_result"
    }
   ],
   "source": [
    "#creating dataframe\n",
    "Top_Books=pd.DataFrame({\"Book Title\":Title,\n",
    "                \"Author Name\":Author,\n",
    "                'Volumes sold':Volume_sales,\n",
    "                'Publisher':Publisher,\n",
    "                'Genre':Genre})\n",
    "print('\\033[1m'+'Best Selling Books of All Time List by The Guardian  :'+'\\033[0m')\n",
    "Top_Books"
   ]
  },
  {
   "cell_type": "markdown",
   "id": "beda4b0f",
   "metadata": {},
   "source": [
    "# 7. Scrape the details most watched tv series of all time from imdb.com.\n",
    "Url = https://www.imdb.com/list/ls095964455/ You have to find the following details:\n",
    "A) Name\n",
    "B) Year span\n",
    "C) Genre\n",
    "D) Run time\n",
    "E) Ratings\n",
    "F) Votes"
   ]
  },
  {
   "cell_type": "code",
   "execution_count": 43,
   "id": "9aa94faf",
   "metadata": {},
   "outputs": [],
   "source": [
    "import selenium\n",
    "import pandas as pd\n",
    "from selenium import webdriver\n",
    "from selenium.common.exceptions import StaleElementReferenceException,NoSuchElementException,ElementNotVisibleException,ElementClickInterceptedException\n",
    "from selenium.webdriver.common.by import By\n",
    "from selenium.webdriver.support.select import Select\n",
    "from selenium.webdriver.common.keys import Keys\n",
    "from selenium.webdriver.support.ui import WebDriverWait\n",
    "from selenium.webdriver.support import expected_conditions as EC\n",
    "from selenium.webdriver.common.keys import Keys\n",
    "from selenium.webdriver.common.action_chains import ActionChains\n",
    "from selenium.webdriver.chrome.options import Options\n",
    "import re\n",
    "import time\n",
    "import warnings\n",
    "import requests\n",
    "\n",
    "warnings.filterwarnings(\"ignore\")"
   ]
  },
  {
   "cell_type": "code",
   "execution_count": 44,
   "id": "58ea85ba",
   "metadata": {},
   "outputs": [],
   "source": [
    "#connecting to the webdriver\n",
    "\n",
    "driver = webdriver.Chrome()"
   ]
  },
  {
   "cell_type": "code",
   "execution_count": 45,
   "id": "786c9cda",
   "metadata": {},
   "outputs": [],
   "source": [
    "time.sleep(2)"
   ]
  },
  {
   "cell_type": "code",
   "execution_count": 46,
   "id": "cde848be",
   "metadata": {},
   "outputs": [],
   "source": [
    "#Opening the imdb page on automated browser\n",
    "\n",
    "URL=\"https://www.imdb.com/list/ls095964455/\"\n",
    "driver.get(URL)\n",
    "driver.maximize_window()"
   ]
  },
  {
   "cell_type": "code",
   "execution_count": 47,
   "id": "0688098f",
   "metadata": {},
   "outputs": [],
   "source": [
    "# Creating Empty List\n",
    "Name =[]\n",
    "Year_Span=[]\n",
    "Genre =[]\n",
    "Run_Time =[]\n",
    "Ratings =[]\n",
    "Votes =[]"
   ]
  },
  {
   "cell_type": "code",
   "execution_count": 41,
   "id": "8789d6f2",
   "metadata": {},
   "outputs": [],
   "source": [
    "# Scraping Name via Xpath\n",
    "try:\n",
    "    name=driver.find_elements(By.XPATH,\"//h3[@class='lister-item-header']/a\")\n",
    "    for i in name:\n",
    "        Name.append(i.text)\n",
    "except NoSuchElementException:\n",
    "    Name.append('NA')\n",
    "\n",
    "# Scraping Year span via Xpath\n",
    "try:\n",
    "    year=driver.find_elements(By.XPATH,\"//h3[@class='lister-item-header']/span[2]\")\n",
    "    for i in year:\n",
    "        Year_Span.append(i.text)\n",
    "except NoSuchElementException:\n",
    "    Year_Span.append('NA')\n",
    "    \n",
    "# Scraping Genre via Xpath\n",
    "try:\n",
    "    genre=driver.find_elements(By.XPATH,\"//span[@class='genre']\")\n",
    "    for i in genre:\n",
    "        Genre.append(i.text)\n",
    "except NoSuchElementException:\n",
    "    Genre.append('NA')\n",
    "    \n",
    "# Scraping RunTime via Xpath\n",
    "try:\n",
    "    runtime=driver.find_elements(By.XPATH,\"//span[@class='runtime']\")\n",
    "    for i in runtime:\n",
    "        Run_Time.append(i.text)\n",
    "except NoSuchElementException:\n",
    "    Run_Time.append('NA')\n",
    "\n",
    "# Scraping Ratings via Xpath\n",
    "try:\n",
    "    ratings=driver.find_elements(By.XPATH,\"//div[@class='ipl-rating-star small']/span[2]\")\n",
    "    for i in ratings:\n",
    "        Ratings.append(i.text)\n",
    "except NoSuchElementException:\n",
    "    Ratings.append('NA')\n",
    "\n",
    "# Scraping Votes via Xpath\n",
    "try:\n",
    "    votes=driver.find_elements(By.XPATH,\"//span[@name='nv']\")\n",
    "    for i in votes:\n",
    "        Votes.append(i.text)\n",
    "except NoSuchElementException:\n",
    "    Votes.append('NA')"
   ]
  },
  {
   "cell_type": "code",
   "execution_count": 42,
   "id": "32134adc",
   "metadata": {},
   "outputs": [
    {
     "name": "stdout",
     "output_type": "stream",
     "text": [
      "\u001b[1mTop 100 most watched tv shows of all time IMDB :\u001b[0m\n"
     ]
    },
    {
     "data": {
      "text/html": [
       "<div>\n",
       "<style scoped>\n",
       "    .dataframe tbody tr th:only-of-type {\n",
       "        vertical-align: middle;\n",
       "    }\n",
       "\n",
       "    .dataframe tbody tr th {\n",
       "        vertical-align: top;\n",
       "    }\n",
       "\n",
       "    .dataframe thead th {\n",
       "        text-align: right;\n",
       "    }\n",
       "</style>\n",
       "<table border=\"1\" class=\"dataframe\">\n",
       "  <thead>\n",
       "    <tr style=\"text-align: right;\">\n",
       "      <th></th>\n",
       "      <th>Name</th>\n",
       "      <th>Year Span</th>\n",
       "      <th>Genre</th>\n",
       "      <th>Run Time</th>\n",
       "      <th>Ratings</th>\n",
       "      <th>Votes</th>\n",
       "    </tr>\n",
       "  </thead>\n",
       "  <tbody>\n",
       "    <tr>\n",
       "      <th>0</th>\n",
       "      <td>Game of Thrones</td>\n",
       "      <td>(2011–2019)</td>\n",
       "      <td>Action, Adventure, Drama</td>\n",
       "      <td>4,189 min</td>\n",
       "      <td>9.2</td>\n",
       "      <td>2,226,162</td>\n",
       "    </tr>\n",
       "    <tr>\n",
       "      <th>1</th>\n",
       "      <td>Stranger Things</td>\n",
       "      <td>(2016–2025)</td>\n",
       "      <td>Drama, Fantasy, Horror</td>\n",
       "      <td>51 min</td>\n",
       "      <td>8.7</td>\n",
       "      <td>1,293,229</td>\n",
       "    </tr>\n",
       "    <tr>\n",
       "      <th>2</th>\n",
       "      <td>The Walking Dead</td>\n",
       "      <td>(2010–2022)</td>\n",
       "      <td>Drama, Horror, Thriller</td>\n",
       "      <td>44 min</td>\n",
       "      <td>8.1</td>\n",
       "      <td>1,056,079</td>\n",
       "    </tr>\n",
       "    <tr>\n",
       "      <th>3</th>\n",
       "      <td>13 Reasons Why</td>\n",
       "      <td>(2017–2020)</td>\n",
       "      <td>Drama, Mystery, Thriller</td>\n",
       "      <td>60 min</td>\n",
       "      <td>7.5</td>\n",
       "      <td>310,082</td>\n",
       "    </tr>\n",
       "    <tr>\n",
       "      <th>4</th>\n",
       "      <td>The 100</td>\n",
       "      <td>(2014–2020)</td>\n",
       "      <td>Drama, Mystery, Sci-Fi</td>\n",
       "      <td>43 min</td>\n",
       "      <td>7.6</td>\n",
       "      <td>269,197</td>\n",
       "    </tr>\n",
       "    <tr>\n",
       "      <th>...</th>\n",
       "      <td>...</td>\n",
       "      <td>...</td>\n",
       "      <td>...</td>\n",
       "      <td>...</td>\n",
       "      <td>...</td>\n",
       "      <td>...</td>\n",
       "    </tr>\n",
       "    <tr>\n",
       "      <th>95</th>\n",
       "      <td>Reign</td>\n",
       "      <td>(2013–2017)</td>\n",
       "      <td>Drama</td>\n",
       "      <td>42 min</td>\n",
       "      <td>7.5</td>\n",
       "      <td>53,263</td>\n",
       "    </tr>\n",
       "    <tr>\n",
       "      <th>96</th>\n",
       "      <td>A Series of Unfortunate Events</td>\n",
       "      <td>(2017–2019)</td>\n",
       "      <td>Adventure, Comedy, Drama</td>\n",
       "      <td>50 min</td>\n",
       "      <td>7.8</td>\n",
       "      <td>65,354</td>\n",
       "    </tr>\n",
       "    <tr>\n",
       "      <th>97</th>\n",
       "      <td>Criminal Minds</td>\n",
       "      <td>(2005– )</td>\n",
       "      <td>Crime, Drama, Mystery</td>\n",
       "      <td>42 min</td>\n",
       "      <td>8.1</td>\n",
       "      <td>213,132</td>\n",
       "    </tr>\n",
       "    <tr>\n",
       "      <th>98</th>\n",
       "      <td>Scream: The TV Series</td>\n",
       "      <td>(2015–2019)</td>\n",
       "      <td>Comedy, Crime, Drama</td>\n",
       "      <td>45 min</td>\n",
       "      <td>7</td>\n",
       "      <td>44,368</td>\n",
       "    </tr>\n",
       "    <tr>\n",
       "      <th>99</th>\n",
       "      <td>The Haunting of Hill House</td>\n",
       "      <td>(2018)</td>\n",
       "      <td>Drama, Horror, Mystery</td>\n",
       "      <td>572 min</td>\n",
       "      <td>8.6</td>\n",
       "      <td>277,921</td>\n",
       "    </tr>\n",
       "  </tbody>\n",
       "</table>\n",
       "<p>100 rows × 6 columns</p>\n",
       "</div>"
      ],
      "text/plain": [
       "                              Name    Year Span                     Genre  \\\n",
       "0                  Game of Thrones  (2011–2019)  Action, Adventure, Drama   \n",
       "1                  Stranger Things  (2016–2025)    Drama, Fantasy, Horror   \n",
       "2                 The Walking Dead  (2010–2022)   Drama, Horror, Thriller   \n",
       "3                   13 Reasons Why  (2017–2020)  Drama, Mystery, Thriller   \n",
       "4                          The 100  (2014–2020)    Drama, Mystery, Sci-Fi   \n",
       "..                             ...          ...                       ...   \n",
       "95                           Reign  (2013–2017)                     Drama   \n",
       "96  A Series of Unfortunate Events  (2017–2019)  Adventure, Comedy, Drama   \n",
       "97                  Criminal Minds     (2005– )     Crime, Drama, Mystery   \n",
       "98           Scream: The TV Series  (2015–2019)      Comedy, Crime, Drama   \n",
       "99      The Haunting of Hill House       (2018)    Drama, Horror, Mystery   \n",
       "\n",
       "     Run Time Ratings      Votes  \n",
       "0   4,189 min     9.2  2,226,162  \n",
       "1      51 min     8.7  1,293,229  \n",
       "2      44 min     8.1  1,056,079  \n",
       "3      60 min     7.5    310,082  \n",
       "4      43 min     7.6    269,197  \n",
       "..        ...     ...        ...  \n",
       "95     42 min     7.5     53,263  \n",
       "96     50 min     7.8     65,354  \n",
       "97     42 min     8.1    213,132  \n",
       "98     45 min       7     44,368  \n",
       "99    572 min     8.6    277,921  \n",
       "\n",
       "[100 rows x 6 columns]"
      ]
     },
     "execution_count": 42,
     "metadata": {},
     "output_type": "execute_result"
    }
   ],
   "source": [
    "#creating dataframe\n",
    "IMDB_TV=pd.DataFrame({\"Name\":Name,\n",
    "                \"Year Span\":Year_Span,\n",
    "                \"Genre\":Genre,\n",
    "                \"Run Time\":Run_Time,\n",
    "                \"Ratings\":Ratings,\n",
    "                \"Votes\":Votes})\n",
    "print('\\033[1m'+'Top 100 most watched tv shows of all time IMDB :'+'\\033[0m')\n",
    "IMDB_TV"
   ]
  },
  {
   "cell_type": "markdown",
   "id": "6161da10",
   "metadata": {},
   "source": [
    "# 8. Details of Datasets from UCI machine learning repositories.\n",
    "Url = https://archive.ics.uci.edu/ You have to find the following details:\n",
    "A) Dataset name\n",
    "B) Data type\n",
    "C) Task\n",
    "D) Attribute type\n",
    "E) No of instances\n",
    "F) No of attribute G) Year\n",
    "Note: - from the home page you have to go to the Show All Dataset page through code.\n",
    "ASSIGNMENT"
   ]
  },
  {
   "cell_type": "code",
   "execution_count": 173,
   "id": "186cdcbd",
   "metadata": {},
   "outputs": [],
   "source": [
    "import selenium\n",
    "import pandas as pd\n",
    "from selenium import webdriver\n",
    "from selenium.common.exceptions import StaleElementReferenceException,NoSuchElementException,ElementNotVisibleException,ElementClickInterceptedException\n",
    "from selenium.webdriver.common.by import By\n",
    "from selenium.webdriver.support.select import Select\n",
    "from selenium.webdriver.common.keys import Keys\n",
    "from selenium.webdriver.support.ui import WebDriverWait\n",
    "from selenium.webdriver.support import expected_conditions as EC\n",
    "from selenium.webdriver.common.keys import Keys\n",
    "from selenium.webdriver.common.action_chains import ActionChains\n",
    "from selenium.webdriver.chrome.options import Options\n",
    "import re\n",
    "import time\n",
    "import warnings\n",
    "import requests\n",
    "\n",
    "warnings.filterwarnings(\"ignore\")"
   ]
  },
  {
   "cell_type": "code",
   "execution_count": 174,
   "id": "6e511889",
   "metadata": {},
   "outputs": [],
   "source": [
    "#connecting to the webdriver\n",
    "\n",
    "driver = webdriver.Chrome()"
   ]
  },
  {
   "cell_type": "code",
   "execution_count": 175,
   "id": "31fb6131",
   "metadata": {},
   "outputs": [],
   "source": [
    "time.sleep(2)"
   ]
  },
  {
   "cell_type": "code",
   "execution_count": 176,
   "id": "1b66c558",
   "metadata": {},
   "outputs": [],
   "source": [
    "#Opening the archive page on automated browser\n",
    "\n",
    "URL=\"https://archive.ics.uci.edu/\"\n",
    "driver.get(URL)\n",
    "driver.maximize_window()"
   ]
  },
  {
   "cell_type": "code",
   "execution_count": 177,
   "id": "ec3e4bdb",
   "metadata": {},
   "outputs": [],
   "source": [
    "Dataset_button=driver.find_element(By.XPATH,'/html/body/div/div[1]/div[1]/header/nav/ul/li[1]/a')\n",
    "Dataset_button.click()"
   ]
  },
  {
   "cell_type": "code",
   "execution_count": 178,
   "id": "e1e0878a",
   "metadata": {},
   "outputs": [],
   "source": [
    "Expand_all=driver.find_element(By.XPATH,'/html/body/div/div[1]/div[1]/main/div/div[2]/div[1]/div/label[2]/div[2]/span[2]')\n",
    "Expand_all.click()"
   ]
  },
  {
   "cell_type": "code",
   "execution_count": 179,
   "id": "c68e432d",
   "metadata": {},
   "outputs": [],
   "source": [
    "# Creating empty lists\n",
    "Dataset =[]\n",
    "Data_Type =[]\n",
    "Task =[]\n",
    "Attribute_Type =[]\n",
    "No_of_Instances =[]\n",
    "No_of_Attribute =[]\n",
    "Year =[]"
   ]
  },
  {
   "cell_type": "code",
   "execution_count": 180,
   "id": "74ca75ea",
   "metadata": {},
   "outputs": [],
   "source": [
    "# Scraping DataSet Name via Xpath\n",
    "\n",
    "dataset_tag=driver.find_elements(By.XPATH,'//a[@class=\"link-hover link text-xl font-semibold\"]')\n",
    "for i in dataset_tag:   \n",
    "    Dataset.append(i.text)\n"
   ]
  },
  {
   "cell_type": "code",
   "execution_count": 181,
   "id": "bf6b34dd",
   "metadata": {},
   "outputs": [
    {
     "name": "stdout",
     "output_type": "stream",
     "text": [
      "10\n"
     ]
    }
   ],
   "source": [
    "print(len(Dataset))"
   ]
  },
  {
   "cell_type": "code",
   "execution_count": 182,
   "id": "8410489a",
   "metadata": {},
   "outputs": [
    {
     "name": "stdout",
     "output_type": "stream",
     "text": [
      "['Iris', 'Heart Disease', 'Adult', 'Wine', 'Breast Cancer Wisconsin (Diagnostic)', 'Diabetes', 'Dry Bean Dataset', 'Car Evaluation', 'Wine Quality', 'Bank Marketing']\n"
     ]
    }
   ],
   "source": [
    "print(Dataset)"
   ]
  },
  {
   "cell_type": "code",
   "execution_count": 183,
   "id": "649153f2",
   "metadata": {},
   "outputs": [],
   "source": [
    "# Scraping Dataset detail via Xpath\n",
    "Data_det=[]\n",
    "datadet_tag=driver.find_elements(By.XPATH,'//div[@class=\"relative col-span-8 sm:col-span-7\"]')\n",
    "for i in datadet_tag:  \n",
    "    Data_det.append(i.text)\n"
   ]
  },
  {
   "cell_type": "code",
   "execution_count": 184,
   "id": "878f0acf",
   "metadata": {},
   "outputs": [
    {
     "name": "stdout",
     "output_type": "stream",
     "text": [
      "10\n"
     ]
    }
   ],
   "source": [
    "print(len(Data_det))"
   ]
  },
  {
   "cell_type": "code",
   "execution_count": 158,
   "id": "2df70ad5",
   "metadata": {},
   "outputs": [
    {
     "name": "stdout",
     "output_type": "stream",
     "text": [
      "['Classification', 'Tabular', '150 Instances', '4 Features', 'Subject Area', 'Feature Type', 'Date Donated', 'Views', 'Classification', 'Multivariate', '303 Instances', '13 Features', 'Subject Area', 'Feature Type', 'Date Donated', 'Views', 'Classification', 'Multivariate', '48.84K Instances', '14 Features', 'Subject Area', 'Feature Type', 'Date Donated', 'Views', 'Classification', 'Tabular', '178 Instances', '13 Features', 'Subject Area', 'Feature Type', 'Date Donated', 'Views', 'Classification', 'Multivariate', '569 Instances', '30 Features', 'Subject Area', 'Feature Type', 'Date Donated', 'Views', 'Classification', 'Multivariate, Time-Series', '1 Instances', '20 Features', 'Subject Area', 'Feature Type', 'Date Donated', 'Views', 'Classification', 'Multivariate', '13.61K Instances', '16 Features', 'Subject Area', 'Feature Type', 'Date Donated', 'Views', 'Classification', 'Multivariate', '1.73K Instances', '6 Features', 'Subject Area', 'Feature Type', 'Date Donated', 'Views', 'Classification, Regression', 'Multivariate', '4.9K Instances', '12 Features', 'Subject Area', 'Feature Type', 'Date Donated', 'Views', 'Classification', 'Multivariate', '45.21K Instances', '17 Features', 'Subject Area', 'Feature Type', 'Date Donated', 'Views']\n"
     ]
    }
   ],
   "source": [
    "print(Data_det)"
   ]
  },
  {
   "cell_type": "code",
   "execution_count": 203,
   "id": "536c7487",
   "metadata": {},
   "outputs": [],
   "source": [
    "#for removing ''\n",
    "for i in Data_det:\n",
    "    if i=='':\n",
    "        Data_det.remove(i)\n",
    "        \n",
    "#slicing dataset\n",
    "Task=Data_det[4:1:7]\n",
    "Data_type=Data_det[4:2:7]\n",
    "No_of_Instances=Data_det[4:3:7]\n",
    "No_of_Attribute=Data_det[4:4:7]"
   ]
  },
  {
   "cell_type": "code",
   "execution_count": 205,
   "id": "6d9c21bd",
   "metadata": {},
   "outputs": [
    {
     "data": {
      "text/html": [
       "<div>\n",
       "<style scoped>\n",
       "    .dataframe tbody tr th:only-of-type {\n",
       "        vertical-align: middle;\n",
       "    }\n",
       "\n",
       "    .dataframe tbody tr th {\n",
       "        vertical-align: top;\n",
       "    }\n",
       "\n",
       "    .dataframe thead th {\n",
       "        text-align: right;\n",
       "    }\n",
       "</style>\n",
       "<table border=\"1\" class=\"dataframe\">\n",
       "  <thead>\n",
       "    <tr style=\"text-align: right;\">\n",
       "      <th></th>\n",
       "      <th>Dataset name</th>\n",
       "      <th>Data type</th>\n",
       "      <th>Task</th>\n",
       "      <th>Instances</th>\n",
       "      <th>Attribute</th>\n",
       "    </tr>\n",
       "  </thead>\n",
       "  <tbody>\n",
       "  </tbody>\n",
       "</table>\n",
       "</div>"
      ],
      "text/plain": [
       "Empty DataFrame\n",
       "Columns: [Dataset name, Data type, Task, Instances, Attribute]\n",
       "Index: []"
      ]
     },
     "execution_count": 205,
     "metadata": {},
     "output_type": "execute_result"
    }
   ],
   "source": [
    "#creating Dataframe\n",
    "Datasets= pd.DataFrame({\"Dataset name\":Dataset_name,\"Data type\":Data_type,\"Task\":Task,\"Instances\":No_of_Instances,\"Attribute\":No_of_Attribute})\n",
    "Datasets"
   ]
  },
  {
   "cell_type": "code",
   "execution_count": null,
   "id": "c5d8d59e",
   "metadata": {},
   "outputs": [],
   "source": []
  },
  {
   "cell_type": "code",
   "execution_count": null,
   "id": "56c719af",
   "metadata": {},
   "outputs": [],
   "source": []
  },
  {
   "cell_type": "code",
   "execution_count": null,
   "id": "4e1313f5",
   "metadata": {},
   "outputs": [],
   "source": []
  },
  {
   "cell_type": "code",
   "execution_count": null,
   "id": "bc3a1e6f",
   "metadata": {},
   "outputs": [],
   "source": []
  },
  {
   "cell_type": "code",
   "execution_count": null,
   "id": "a8ddd227",
   "metadata": {},
   "outputs": [],
   "source": []
  },
  {
   "cell_type": "code",
   "execution_count": null,
   "id": "240a896f",
   "metadata": {},
   "outputs": [],
   "source": []
  }
 ],
 "metadata": {
  "kernelspec": {
   "display_name": "Python 3 (ipykernel)",
   "language": "python",
   "name": "python3"
  },
  "language_info": {
   "codemirror_mode": {
    "name": "ipython",
    "version": 3
   },
   "file_extension": ".py",
   "mimetype": "text/x-python",
   "name": "python",
   "nbconvert_exporter": "python",
   "pygments_lexer": "ipython3",
   "version": "3.9.7"
  }
 },
 "nbformat": 4,
 "nbformat_minor": 5
}
