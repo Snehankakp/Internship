{
 "cells": [
  {
   "cell_type": "markdown",
   "id": "a04b64a4",
   "metadata": {},
   "source": [
    "WEB SCRAPING ASSIGNMENT -2"
   ]
  },
  {
   "cell_type": "markdown",
   "id": "061ab690",
   "metadata": {},
   "source": [
    "Q1: Write a python program to scrape data for “Data Analyst” Job position in “Bangalore” location. You\n",
    "have to scrape the job-title, job-location, company_name, experience_required. You have to scrape first 10\n",
    "jobs data.\n",
    "This task will be done in following steps:\n",
    "1. First get the webpage https://www.shine.com/\n",
    "2. Enter “Data Analyst” in “Job title, Skills” field and enter “Bangalore” in “enter the location” field.\n",
    "3. Then click the searchbutton.\n",
    "4. Then scrape the data for the first 10 jobs results you get.\n",
    "5. Finally create a dataframe of the scraped data.\n",
    "Note- All of the above steps have to be done in code. No step is to be done manually."
   ]
  },
  {
   "cell_type": "code",
   "execution_count": 224,
   "id": "d384e01a",
   "metadata": {},
   "outputs": [],
   "source": [
    "import selenium                                      #library that is used to work with selenium\n",
    "from selenium import webdriver                       #importing webdriver module from selenium to open automated crome window\n",
    "import pandas as pd                                  #To create Dataframe\n",
    "from selenium.webdriver.common.by import By          # importing inbuilt class By         \n",
    "import warnings                                      # To ignore any sorts of warnings\n",
    "warnings.filterwarnings(\"ignore\")\n",
    "import time                                           # Used to stop search engine for few seconds\n",
    "from selenium.common.exceptions import StaleElementReferenceException, NoSuchElementException # Exceptions handling\n",
    "from selenium.webdriver.common.by import By\n",
    "from selenium.webdriver.support.select import Select\n",
    "from selenium.webdriver.common.keys import Keys"
   ]
  },
  {
   "cell_type": "code",
   "execution_count": 225,
   "id": "f44f5f6f",
   "metadata": {},
   "outputs": [],
   "source": [
    "# connecting Webdriver\n",
    "driver = webdriver.Chrome()"
   ]
  },
  {
   "cell_type": "code",
   "execution_count": 226,
   "id": "a998e7ea",
   "metadata": {},
   "outputs": [],
   "source": [
    "#Opening the shine page on automated browser\n",
    "driver.get(\"https://www.shine.com/\")"
   ]
  },
  {
   "cell_type": "code",
   "execution_count": 227,
   "id": "846979dc",
   "metadata": {},
   "outputs": [],
   "source": [
    "#entering designation and location as required\n",
    "designation=driver.find_element(By.CLASS_NAME,\"form-control\")\n",
    "#designation=driver.find_element(By.CLASS_NAME,\"searchForm_search_item__hr6Du form-group\") \n",
    "designation.send_keys('Data Analyst')"
   ]
  },
  {
   "cell_type": "code",
   "execution_count": 228,
   "id": "0f89a3e2",
   "metadata": {},
   "outputs": [],
   "source": [
    "location=driver.find_element(By.XPATH,\"/html/body/div/div[4]/div/div[2]/div[2]/div/form/div/div[1]/ul/li[2]/div/input\")\n",
    "location.send_keys(\"Banglore\")"
   ]
  },
  {
   "cell_type": "code",
   "execution_count": 229,
   "id": "f9e3cb4c",
   "metadata": {},
   "outputs": [],
   "source": [
    "search=driver.find_element(By.XPATH,\"/html/body/div/div[4]/div/div[2]/div[2]/div/form/div/div[2]/div/button\")\n",
    " #but=driver.find_element(By.XPATH,\"/html/body/div/div[4]/div/div[2]/div[2]/div/form/div/div[2]/div\")\n",
    "search.click()"
   ]
  },
  {
   "cell_type": "code",
   "execution_count": 230,
   "id": "958a70f7",
   "metadata": {},
   "outputs": [],
   "source": [
    "job_title=[]\n",
    "job_location=[]\n",
    "company_name=[]\n",
    "experience_required=[]"
   ]
  },
  {
   "cell_type": "code",
   "execution_count": 231,
   "id": "763cea3d",
   "metadata": {},
   "outputs": [],
   "source": [
    "time.sleep(3)"
   ]
  },
  {
   "cell_type": "code",
   "execution_count": 233,
   "id": "55ccb781",
   "metadata": {},
   "outputs": [],
   "source": [
    "#Scraping Job Title from the given page\n",
    "title=driver.find_elements(By.XPATH,\"//div[@class=jobCard_jobCard_features__wJid6]\")\n",
    "#title_tags=driver.find_elements(By.XPATH,\"\")\n",
    "for i in title_tags:\n",
    "    title=i.text\n",
    "    job_title.append(title)\n"
   ]
  },
  {
   "cell_type": "code",
   "execution_count": 236,
   "id": "603e2347",
   "metadata": {},
   "outputs": [],
   "source": [
    "#Scraping Job Location from the given page\n",
    "#location_tags=driver.find_elements(By.XPATH,\"//div[@class=jobCard_jobCard_lists__fdnsc]\")\n",
    "location=driver.find_elements(By.XPATH,'//*[@id=\"1\"]/div[2]/div[1]/div[1]/div[3]/div[2]')\n",
    "for j in location:\n",
    "    location= j.text\n",
    "    job_location.append(location)"
   ]
  },
  {
   "cell_type": "code",
   "execution_count": 240,
   "id": "c6428434",
   "metadata": {},
   "outputs": [],
   "source": [
    "#Scraping Comapny Name from the given page\n",
    "company=driver.find_elements(By.XPATH,\"//*[@id='1']/div[1]/div[1]/div[1]/div[2]\")\n",
    "for k in company:\n",
    "    company=k.text\n",
    "    company_name.append(company)"
   ]
  },
  {
   "cell_type": "code",
   "execution_count": 243,
   "id": "d58854cf",
   "metadata": {},
   "outputs": [],
   "source": [
    "#Scraping Job Experience Required from the given page\n",
    "experience=driver.find_elements(By.XPATH,\"//div[@class=jobCard_jobCard_lists__fdnsc]\")\n",
    "for i in experience:\n",
    "    experience=i.text\n",
    "    experience_required.append(experience)"
   ]
  },
  {
   "cell_type": "code",
   "execution_count": 255,
   "id": "cb1c9575",
   "metadata": {},
   "outputs": [
    {
     "name": "stdout",
     "output_type": "stream",
     "text": [
      "0 1 1 0\n"
     ]
    }
   ],
   "source": [
    "print(len(job_title),len(job_location),len(company_name), len(experience_required))"
   ]
  },
  {
   "cell_type": "code",
   "execution_count": null,
   "id": "e1ce0b54",
   "metadata": {},
   "outputs": [],
   "source": []
  },
  {
   "cell_type": "code",
   "execution_count": 256,
   "id": "dcd5b4c5",
   "metadata": {},
   "outputs": [],
   "source": [
    "import pandas as pd"
   ]
  },
  {
   "cell_type": "code",
   "execution_count": 258,
   "id": "0dffdace",
   "metadata": {},
   "outputs": [],
   "source": [
    "#dataAnalyst=pd.DataFrame({'job-title':job_title,'job-location':job_location,'company_name':company_name,'experience_required':experience_required})\n",
    "#dataAnalyst"
   ]
  },
  {
   "cell_type": "markdown",
   "id": "2ba3aab6",
   "metadata": {},
   "source": [
    "Q2:Write a python program to scrape data for “Data Scientist” Job position in“Bangalore” location. You\n",
    "have to scrape the job-title, job-location, company_name. You have to scrape first 10 jobs data.\n",
    "This task will be done in following steps:\n",
    "1. First get the webpage https://www.shine.com/\n",
    "2. Enter “Data Scientist” in “Job title, Skills” field and enter “Bangalore” in “enter thelocation” field.\n",
    "3. Then click the search button.\n",
    "4. Then scrape the data for the first 10 jobs results you get.\n",
    "5. Finally create a dataframe of the scraped data.\n",
    "Note: All of the above steps have to be done in code. No step is to be done manually."
   ]
  },
  {
   "cell_type": "code",
   "execution_count": 263,
   "id": "ed7323e0",
   "metadata": {},
   "outputs": [],
   "source": [
    "import selenium                                      #library that is used to work with selenium\n",
    "from selenium import webdriver                       #importing webdriver module from selenium to open automated crome window\n",
    "import pandas as pd                                  #To create Dataframe\n",
    "from selenium.webdriver.common.by import By          # importing inbuilt class By         \n",
    "import warnings                                      # To ignore any sorts of warnings\n",
    "warnings.filterwarnings(\"ignore\")\n",
    "import time                                          # Used to stop search engine for few seconds\n",
    "from selenium.common.exceptions import StaleElementReferenceException, NoSuchElementException # Exceptions handling\n",
    "from selenium.webdriver.common.by import By\n",
    "from selenium.webdriver.support.select import Select\n",
    "from selenium.webdriver.common.keys import Keys"
   ]
  },
  {
   "cell_type": "code",
   "execution_count": 264,
   "id": "a27d21d6",
   "metadata": {},
   "outputs": [],
   "source": [
    "# connecting Webdriver\n",
    "driver = webdriver.Chrome()"
   ]
  },
  {
   "cell_type": "code",
   "execution_count": 265,
   "id": "9112df65",
   "metadata": {},
   "outputs": [],
   "source": [
    "#Opening the shine page on automated browser\n",
    "driver.get(\"https://www.shine.com/\")"
   ]
  },
  {
   "cell_type": "code",
   "execution_count": 266,
   "id": "6dc2ac5c",
   "metadata": {},
   "outputs": [],
   "source": [
    "#entering designation and location as required\n",
    "designation=driver.find_element(By.CLASS_NAME,\"form-control\") \n",
    "designation.send_keys('Data Scientist')"
   ]
  },
  {
   "cell_type": "code",
   "execution_count": 267,
   "id": "10fd0767",
   "metadata": {},
   "outputs": [],
   "source": [
    "location=driver.find_element(By.XPATH,\"/html/body/div/div[4]/div/div[2]/div[2]/div/form/div/div[1]/ul/li[2]/div/input\")\n",
    "location.send_keys(\"Banglore\")"
   ]
  },
  {
   "cell_type": "code",
   "execution_count": 268,
   "id": "4e221d2c",
   "metadata": {},
   "outputs": [],
   "source": [
    "#to click on search\n",
    "search=driver.find_element(By.XPATH,\"/html/body/div/div[4]/div/div[2]/div[2]/div/form/div/div[2]/div/button\")\n",
    "search.click()"
   ]
  },
  {
   "cell_type": "code",
   "execution_count": 269,
   "id": "493e0a15",
   "metadata": {},
   "outputs": [],
   "source": [
    "job_title=[]\n",
    "job_location=[]\n",
    "company_name=[]\n",
    "experience_required=[]"
   ]
  },
  {
   "cell_type": "code",
   "execution_count": 270,
   "id": "ea2ced03",
   "metadata": {},
   "outputs": [],
   "source": [
    "#Scraping Job Title from the given page\n",
    "title_tags=driver.find_elements(By.XPATH,\"//div[@class=jobCard_jobCard_features__wJid6]\")\n",
    "for i in title_tags:\n",
    "    title=i.text\n",
    "    job_title.append(title)"
   ]
  },
  {
   "cell_type": "code",
   "execution_count": 275,
   "id": "70e4c027",
   "metadata": {},
   "outputs": [],
   "source": [
    "#Scraping Job Location from the given page\n",
    "location_tags=driver.find_elements(By.XPATH,\"//*[@id='1']/div[1]/div[1]/div[1]/div[3]/div[2]\")\n",
    "for i in location_tags:\n",
    "    location=i.text\n",
    "    job_location.append(location)"
   ]
  },
  {
   "cell_type": "code",
   "execution_count": 276,
   "id": "47016798",
   "metadata": {},
   "outputs": [],
   "source": [
    "#Scraping Comapny Name from the given page\n",
    "company_tags=driver.find_elements(By.XPATH,\"//div[@class=jobCard_jobCard_cName__mYnow]\")\n",
    "for j in company_tags:\n",
    "    company=j.text\n",
    "    company_name.append(company)"
   ]
  },
  {
   "cell_type": "code",
   "execution_count": 278,
   "id": "0dade911",
   "metadata": {},
   "outputs": [],
   "source": [
    "#Scraping Job Experience Required from the given page\n",
    "experience_tags=driver.find_elements(By.XPATH,\"//*[@id='1']/div[1]/div[1]/div[1]/div[3]/div[1]\")\n",
    "for k in experience_tags:\n",
    "    exp=k.text\n",
    "    experience_required.append(exp)"
   ]
  },
  {
   "cell_type": "code",
   "execution_count": 279,
   "id": "b349d155",
   "metadata": {},
   "outputs": [
    {
     "name": "stdout",
     "output_type": "stream",
     "text": [
      "0 1 0 1\n"
     ]
    }
   ],
   "source": [
    "print(len(job_title),len(job_location),len(company_name), len(experience_required))"
   ]
  },
  {
   "cell_type": "code",
   "execution_count": 281,
   "id": "5dc82fa2",
   "metadata": {},
   "outputs": [],
   "source": [
    "driver.close()"
   ]
  },
  {
   "cell_type": "code",
   "execution_count": 280,
   "id": "92c50862",
   "metadata": {},
   "outputs": [],
   "source": [
    "import pandas as pd"
   ]
  },
  {
   "cell_type": "code",
   "execution_count": 282,
   "id": "783f73e2",
   "metadata": {},
   "outputs": [],
   "source": [
    "#dataScientist=pd.DataFrame({'job-title ':job_title,'job-location':job_location,'company_name':company_name,'experience_required':experience_required})\n",
    "#dataScientist"
   ]
  },
  {
   "cell_type": "markdown",
   "id": "7eb8fc63",
   "metadata": {},
   "source": [
    "Q3: In this question you have to scrape data using the filters available on the webpage\n",
    "You have to use the location and salary filter.\n",
    "You have to scrape data for “Data Scientist” designation for first 10 job results.\n",
    "You have to scrape the job-title, job-location, company name, experience required. The location filter to be used is “Delhi/NCR”. The salary filter to be used is “3-6” lakhs\n",
    "The task will be done as shown in the below steps:\n",
    "1. first get the web page https://www.shine.com/\n",
    "2. Enter “Data Scientist” in “Skill, Designations, and Companies” field.\n",
    "3. Then click the search button.\n",
    "4. Then apply the location filter and salary filter by checking the respective boxes\n",
    "5. Then scrape the data for the first 10 jobs results you get.\n",
    "6. Finally create a dataframe of the scraped data.\n",
    "Note: All of the above steps have to be done in code. No step is to be done manually."
   ]
  },
  {
   "cell_type": "code",
   "execution_count": 307,
   "id": "2252504b",
   "metadata": {},
   "outputs": [],
   "source": [
    "import selenium                                      #library that is used to work with selenium\n",
    "from selenium import webdriver                       #importing webdriver module from selenium to open automated crome window\n",
    "import pandas as pd                                  #To create Dataframe\n",
    "from selenium.webdriver.common.by import By          # importing inbuilt class By         \n",
    "import warnings                                      # To ignore any sorts of warnings\n",
    "warnings.filterwarnings(\"ignore\")\n",
    "import time                                           # Used to stop search engine for few seconds\n",
    "from selenium.common.exceptions import StaleElementReferenceException, NoSuchElementException # Exceptions handling\n",
    "from selenium.webdriver.common.by import By\n",
    "from selenium.webdriver.support.select import Select\n",
    "from selenium.webdriver.common.keys import Keys"
   ]
  },
  {
   "cell_type": "code",
   "execution_count": 308,
   "id": "4f3ceb3c",
   "metadata": {},
   "outputs": [],
   "source": [
    "# connecting Webdriver\n",
    "driver = webdriver.Chrome()"
   ]
  },
  {
   "cell_type": "code",
   "execution_count": 309,
   "id": "9816e89a",
   "metadata": {},
   "outputs": [],
   "source": [
    "#Opening the shine page on automated browser\n",
    "driver.get(\"https://www.shine.com/\")"
   ]
  },
  {
   "cell_type": "code",
   "execution_count": 310,
   "id": "3004dd04",
   "metadata": {},
   "outputs": [],
   "source": [
    "#entering designation and location as required\n",
    "designation=driver.find_element(By.CLASS_NAME,\"form-control\")\n",
    "designation.send_keys('Data Scientist')"
   ]
  },
  {
   "cell_type": "code",
   "execution_count": 311,
   "id": "3b3e5b15",
   "metadata": {},
   "outputs": [],
   "source": [
    "location=driver.find_element(By.XPATH,\"/html/body/div/div[4]/div/div[2]/div[2]/div/form/div/div[1]/ul/li[2]/div/input\")\n",
    "location.send_keys('Delhi/NCR')"
   ]
  },
  {
   "cell_type": "code",
   "execution_count": 312,
   "id": "e391c32b",
   "metadata": {},
   "outputs": [],
   "source": [
    "search=driver.find_element(By.XPATH,\"/html/body/div/div[4]/div/div[2]/div[2]/div/form/div/div[2]/div/button\")\n",
    " #but=driver.find_element(By.XPATH,\"/html/body/div/div[4]/div/div[2]/div[2]/div/form/div/div[2]/div\")\n",
    "search.click()"
   ]
  },
  {
   "cell_type": "code",
   "execution_count": 313,
   "id": "91d4e232",
   "metadata": {},
   "outputs": [],
   "source": [
    "salary=driver.find_element(By.XPATH,\"/html/body/div[1]/div[1]/div[3]/div/div[1]/div/div[2]/div/ul/li[3]/button\")\n",
    "\n",
    "salary.click()"
   ]
  },
  {
   "cell_type": "code",
   "execution_count": 314,
   "id": "709bec9b",
   "metadata": {},
   "outputs": [],
   "source": [
    "package=driver.find_element(By.XPATH,\"/html/body/div[1]/div[1]/div[3]/div/div[1]/div/div[2]/div[2]/div/div/div/div[3]/div/div/div/ul/li[3]/span/label\")\n",
    "\n",
    "package.click()"
   ]
  },
  {
   "cell_type": "code",
   "execution_count": 315,
   "id": "b1620208",
   "metadata": {},
   "outputs": [],
   "source": [
    "res=driver.find_element(By.XPATH,\"/html/body/div[1]/div[1]/div[3]/div/div[1]/div/div[2]/div[2]/div/div/div/div[4]/button[2]\")\n",
    "res.click()"
   ]
  },
  {
   "cell_type": "code",
   "execution_count": 316,
   "id": "719a0448",
   "metadata": {},
   "outputs": [],
   "source": [
    "job_title=[]\n",
    "job_location=[]\n",
    "company_name=[]\n",
    "experience_required=[]"
   ]
  },
  {
   "cell_type": "code",
   "execution_count": 318,
   "id": "703535ea",
   "metadata": {},
   "outputs": [],
   "source": [
    "#Scraping Job Title from the given page\n",
    "#title_tags=driver.find_elements(By.XPATH,\"//*[@id='1']/div[1]/div[1]/div[1]/h2/a\")\n",
    "title_tags=driver.find_elements(By.XPATH,\"/html/body/div[1]/div[1]/div[4]/div/div[1]/div[1]/div/div/div[1]/div[1]/div[1]/h2/a\")\n",
    "for i in title_tags:\n",
    "    title=i.text\n",
    "    job_title.append(title)"
   ]
  },
  {
   "cell_type": "code",
   "execution_count": 319,
   "id": "01a6b923",
   "metadata": {},
   "outputs": [],
   "source": [
    "#Scraping Job Location from the given page\n",
    "location_tags=driver.find_elements(By.XPATH,\"//*[@id='1']/div[1]/div[1]/div[1]/div[3]/div[2]\")\n",
    "for i in location_tags:\n",
    "    location=i.text\n",
    "    job_location.append(location)"
   ]
  },
  {
   "cell_type": "code",
   "execution_count": 320,
   "id": "4a543b79",
   "metadata": {},
   "outputs": [],
   "source": [
    "#Scraping Comapny Name from the given page\n",
    "company_tags=driver.find_elements(By.XPATH,\"//*[@id='1']/div[1]/div[1]/div[1]/div[2]/span\")\n",
    "for j in company_tags:\n",
    "    company=j.text\n",
    "    company_name.append(company)"
   ]
  },
  {
   "cell_type": "code",
   "execution_count": 321,
   "id": "b90ecf85",
   "metadata": {},
   "outputs": [],
   "source": [
    "#Scraping Job Experience Required from the given page\n",
    "experience_tags=driver.find_elements(By.XPATH,\"//*[@id='1']/div[1]/div[1]/div[1]/div[3]/div[1]\")\n",
    "for k in experience_tags:\n",
    "    exp=k.text\n",
    "    experience_required.append(exp)"
   ]
  },
  {
   "cell_type": "code",
   "execution_count": 322,
   "id": "71daacdd",
   "metadata": {},
   "outputs": [
    {
     "name": "stdout",
     "output_type": "stream",
     "text": [
      "1 1 1 1\n"
     ]
    }
   ],
   "source": [
    "print(len(job_title),len(job_location),len(company_name), len(experience_required))"
   ]
  },
  {
   "cell_type": "code",
   "execution_count": 299,
   "id": "f385dc66",
   "metadata": {},
   "outputs": [
    {
     "data": {
      "text/html": [
       "<div>\n",
       "<style scoped>\n",
       "    .dataframe tbody tr th:only-of-type {\n",
       "        vertical-align: middle;\n",
       "    }\n",
       "\n",
       "    .dataframe tbody tr th {\n",
       "        vertical-align: top;\n",
       "    }\n",
       "\n",
       "    .dataframe thead th {\n",
       "        text-align: right;\n",
       "    }\n",
       "</style>\n",
       "<table border=\"1\" class=\"dataframe\">\n",
       "  <thead>\n",
       "    <tr style=\"text-align: right;\">\n",
       "      <th></th>\n",
       "      <th>job-title</th>\n",
       "      <th>job-location</th>\n",
       "      <th>company_name</th>\n",
       "      <th>experience_required</th>\n",
       "    </tr>\n",
       "  </thead>\n",
       "  <tbody>\n",
       "    <tr>\n",
       "      <th>0</th>\n",
       "      <td>Data Scientist Vacancy</td>\n",
       "      <td>Oman\\n+14</td>\n",
       "      <td>divya interprises</td>\n",
       "      <td>0 to 4 Yrs</td>\n",
       "    </tr>\n",
       "  </tbody>\n",
       "</table>\n",
       "</div>"
      ],
      "text/plain": [
       "                job-title job-location       company_name experience_required\n",
       "0  Data Scientist Vacancy    Oman\\n+14  divya interprises          0 to 4 Yrs"
      ]
     },
     "execution_count": 299,
     "metadata": {},
     "output_type": "execute_result"
    }
   ],
   "source": [
    "dataAnalyst=pd.DataFrame({'job-title':job_title,'job-location':job_location,'company_name':company_name,'experience_required':experience_required})\n",
    "dataAnalyst"
   ]
  },
  {
   "cell_type": "markdown",
   "id": "807b1cc4",
   "metadata": {},
   "source": [
    "Q4: Scrape data of first 100 sunglasses listings on flipkart.com. You have to scrape four attributes:\n",
    "6. Brand\n",
    "7. Product Description\n",
    "8. Price\n",
    "The attributes which you have to scrape is ticked marked in the below image.\n",
    "To scrape the data you have to go through following steps:\n",
    "1. Go to Flipkart webpage by url : https://www.flipkart.com/\n",
    "2. Enter “sunglasses” in the search field where “search for products, brands and more” is written and click the search icon\n",
    "3. After that you will reach to the page having a lot of sunglasses. From this page you can scrap the required data as usual.\n",
    "4. After scraping data from the first page, go to the “Next” Button at the bottom other page , then\n",
    "click on it.\n",
    "5. Now scrape data from this page as usual\n",
    "6. Repeat this until you get data for 100sunglasses.\n",
    "Note: That all of the above steps have to be done by coding only and not manually."
   ]
  },
  {
   "cell_type": "code",
   "execution_count": 68,
   "id": "9a78f0c4",
   "metadata": {},
   "outputs": [],
   "source": [
    "import selenium                                      #library that is used to work with selenium\n",
    "from selenium import webdriver                       #importing webdriver module from selenium to open automated crome window\n",
    "import pandas as pd                                  #To create Dataframe\n",
    "from selenium.webdriver.common.by import By          # importing inbuilt class By         \n",
    "import warnings                                      # To ignore any sorts of warnings\n",
    "warnings.filterwarnings(\"ignore\")\n",
    "import time                                          # Used to stop search engine for few seconds\n",
    "from selenium.common.exceptions import StaleElementReferenceException, NoSuchElementException # Exceptions handling\n",
    "from selenium.webdriver.common.by import By\n",
    "from selenium.webdriver.support.select import Select\n",
    "from selenium.webdriver.common.keys import Keys"
   ]
  },
  {
   "cell_type": "code",
   "execution_count": 69,
   "id": "89713f88",
   "metadata": {},
   "outputs": [],
   "source": [
    "driver = webdriver.Chrome()"
   ]
  },
  {
   "cell_type": "code",
   "execution_count": 70,
   "id": "1012f554",
   "metadata": {},
   "outputs": [],
   "source": [
    "#Opening the shine page on automated browser\n",
    "driver.get(\" https://www.flipkart.com/\")"
   ]
  },
  {
   "cell_type": "code",
   "execution_count": 71,
   "id": "7e242b22",
   "metadata": {},
   "outputs": [],
   "source": [
    "seek=driver.find_element(By.CLASS_NAME,'Pke_EE')\n",
    "seek.send_keys('sunglasses')"
   ]
  },
  {
   "cell_type": "code",
   "execution_count": 72,
   "id": "1edbab51",
   "metadata": {},
   "outputs": [],
   "source": [
    "Tik=driver.find_element(By.CLASS_NAME,'_2iLD__')\n",
    "Tik.click()"
   ]
  },
  {
   "cell_type": "code",
   "execution_count": 77,
   "id": "481fa913",
   "metadata": {},
   "outputs": [],
   "source": [
    "#creating the empty lists\n",
    "Brand_name=[]\n",
    "Price=[]\n",
    "P_desc=[]\n",
    "Discount=[]"
   ]
  },
  {
   "cell_type": "code",
   "execution_count": 78,
   "id": "a202f25c",
   "metadata": {},
   "outputs": [],
   "source": [
    "time.sleep(3)"
   ]
  },
  {
   "cell_type": "code",
   "execution_count": 79,
   "id": "9f6a4b5f",
   "metadata": {},
   "outputs": [],
   "source": [
    "for i in range(3):\n",
    "    brand_name=driver.find_elements(By.XPATH,\"//div[@class='_2WkVRV']\")\n",
    "    p_desc=driver.find_elements(By.XPATH,\"//a[@class='IRpwTa']\")\n",
    "    price =driver.find_elements(By.XPATH,\"//div[@class='_25b18c']\")\n",
    "    discount=driver.find_elements(By.XPATH,\"//div[@class='_3Ay6Sb']\")\n",
    "    \n",
    "    for j  in b_name:\n",
    "        B_name.append(j.text)\n",
    "    B_name[:100]    \n",
    "    \n",
    "    \n",
    "    \n",
    "    for k in p_desc:\n",
    "        P_desc.append(k.text)\n",
    "    P_desc[:100] \n",
    "    \n",
    "    \n",
    "    for l in price:\n",
    "        Price.append(l.text)\n",
    "    Price[:100] \n",
    "    \n",
    "    \n",
    "    for t in discount:\n",
    "        Discount.append(t.text)\n",
    "    Discount[:100]\n"
   ]
  },
  {
   "cell_type": "code",
   "execution_count": 80,
   "id": "36972100",
   "metadata": {},
   "outputs": [
    {
     "data": {
      "text/plain": [
       "['Fastrack',\n",
       " 'ROYAL SON',\n",
       " 'SRPM',\n",
       " 'GANSTA',\n",
       " 'Elligator',\n",
       " 'ROADWAY',\n",
       " 'ROADWAY',\n",
       " 'ROYAL SON',\n",
       " 'Roadster',\n",
       " 'Elligator',\n",
       " 'VINCENT CHASE',\n",
       " 'VINCENT CHASE',\n",
       " 'Rich Club',\n",
       " 'ROYAL SON',\n",
       " 'ROZZETTA CRAFT',\n",
       " 'Elligator',\n",
       " 'VINCENT CHASE',\n",
       " 'VINCENT CHASE',\n",
       " 'ROADWAY',\n",
       " 'ROADWAY',\n",
       " 'VINCENT CHASE',\n",
       " 'ROYAL SON',\n",
       " 'PIRASO',\n",
       " 'ROYAL SON',\n",
       " 'Roadster',\n",
       " 'METRONAUT',\n",
       " 'ROYAL SON',\n",
       " 'VINCENT CHASE',\n",
       " 'PIRASO',\n",
       " 'PIRASO',\n",
       " 'VINCENT CHASE',\n",
       " 'VINCENT CHASE',\n",
       " 'NuVew',\n",
       " 'Elligator',\n",
       " 'VINCENT CHASE',\n",
       " 'Rich Club',\n",
       " 'Eyewearlabs',\n",
       " 'Nicole Miller',\n",
       " 'Fastrack',\n",
       " 'ROZZETTA CRAFT',\n",
       " 'Fastrack',\n",
       " 'ROYAL SON',\n",
       " 'SRPM',\n",
       " 'GANSTA',\n",
       " 'Elligator',\n",
       " 'ROADWAY',\n",
       " 'ROADWAY',\n",
       " 'ROYAL SON',\n",
       " 'Roadster',\n",
       " 'Elligator',\n",
       " 'VINCENT CHASE',\n",
       " 'VINCENT CHASE',\n",
       " 'Rich Club',\n",
       " 'ROYAL SON',\n",
       " 'ROZZETTA CRAFT',\n",
       " 'Elligator',\n",
       " 'VINCENT CHASE',\n",
       " 'VINCENT CHASE',\n",
       " 'ROADWAY',\n",
       " 'ROADWAY',\n",
       " 'VINCENT CHASE',\n",
       " 'ROYAL SON',\n",
       " 'PIRASO',\n",
       " 'ROYAL SON',\n",
       " 'Roadster',\n",
       " 'METRONAUT',\n",
       " 'ROYAL SON',\n",
       " 'VINCENT CHASE',\n",
       " 'PIRASO',\n",
       " 'PIRASO',\n",
       " 'VINCENT CHASE',\n",
       " 'VINCENT CHASE',\n",
       " 'NuVew',\n",
       " 'Elligator',\n",
       " 'VINCENT CHASE',\n",
       " 'Rich Club',\n",
       " 'Eyewearlabs',\n",
       " 'Nicole Miller',\n",
       " 'Fastrack',\n",
       " 'ROZZETTA CRAFT',\n",
       " 'Fastrack',\n",
       " 'ROYAL SON',\n",
       " 'SRPM',\n",
       " 'GANSTA',\n",
       " 'Elligator',\n",
       " 'ROADWAY',\n",
       " 'ROADWAY',\n",
       " 'ROYAL SON',\n",
       " 'Roadster',\n",
       " 'Elligator',\n",
       " 'VINCENT CHASE',\n",
       " 'VINCENT CHASE',\n",
       " 'Rich Club',\n",
       " 'ROYAL SON',\n",
       " 'ROZZETTA CRAFT',\n",
       " 'Elligator',\n",
       " 'VINCENT CHASE',\n",
       " 'VINCENT CHASE',\n",
       " 'ROADWAY',\n",
       " 'ROADWAY']"
      ]
     },
     "execution_count": 80,
     "metadata": {},
     "output_type": "execute_result"
    }
   ],
   "source": [
    "B_name[:100]"
   ]
  },
  {
   "cell_type": "code",
   "execution_count": 81,
   "id": "10b8bdeb",
   "metadata": {},
   "outputs": [
    {
     "name": "stdout",
     "output_type": "stream",
     "text": [
      "100\n",
      "100\n",
      "100\n",
      "100\n"
     ]
    },
    {
     "data": {
      "text/plain": [
       "(None, None, None, None)"
      ]
     },
     "execution_count": 81,
     "metadata": {},
     "output_type": "execute_result"
    }
   ],
   "source": [
    "print(len(B_name[:100])),print(len(Price[:100])),print(len(P_desc[:100])),print(len(Discount[:100]))"
   ]
  },
  {
   "cell_type": "code",
   "execution_count": 87,
   "id": "97569d6a",
   "metadata": {},
   "outputs": [],
   "source": [
    "#Creating Dataframe to view scraped information\n",
    "sunglass=pd.DataFrame({})\n",
    "sunglass['Brand_name']=B_name[:100]\n",
    "sunglass['Price']=Price[:100]\n",
    "sunglass['Decription']=P_desc[:100]\n",
    "sunglass['Discount_offered']=Discount[:100]"
   ]
  },
  {
   "cell_type": "code",
   "execution_count": 88,
   "id": "34296832",
   "metadata": {},
   "outputs": [
    {
     "data": {
      "text/html": [
       "<div>\n",
       "<style scoped>\n",
       "    .dataframe tbody tr th:only-of-type {\n",
       "        vertical-align: middle;\n",
       "    }\n",
       "\n",
       "    .dataframe tbody tr th {\n",
       "        vertical-align: top;\n",
       "    }\n",
       "\n",
       "    .dataframe thead th {\n",
       "        text-align: right;\n",
       "    }\n",
       "</style>\n",
       "<table border=\"1\" class=\"dataframe\">\n",
       "  <thead>\n",
       "    <tr style=\"text-align: right;\">\n",
       "      <th></th>\n",
       "      <th>Brand_name</th>\n",
       "      <th>Price</th>\n",
       "      <th>Decription</th>\n",
       "      <th>Discount_offered</th>\n",
       "    </tr>\n",
       "  </thead>\n",
       "  <tbody>\n",
       "    <tr>\n",
       "      <th>0</th>\n",
       "      <td>Fastrack</td>\n",
       "      <td>₹449₹89950% off</td>\n",
       "      <td>UV Protection Rectangular Sunglasses (Free Size)</td>\n",
       "      <td>50% off</td>\n",
       "    </tr>\n",
       "    <tr>\n",
       "      <th>1</th>\n",
       "      <td>ROYAL SON</td>\n",
       "      <td>₹339₹1,49977% off</td>\n",
       "      <td>Mirrored Aviator Sunglasses (58)</td>\n",
       "      <td>77% off</td>\n",
       "    </tr>\n",
       "    <tr>\n",
       "      <th>2</th>\n",
       "      <td>SRPM</td>\n",
       "      <td>₹149₹1,29988% off</td>\n",
       "      <td>UV Protection Wayfarer Sunglasses (50)</td>\n",
       "      <td>88% off</td>\n",
       "    </tr>\n",
       "    <tr>\n",
       "      <th>3</th>\n",
       "      <td>GANSTA</td>\n",
       "      <td>₹77₹1,29994% off</td>\n",
       "      <td>Night Vision, Riding Glasses Rectangular Sungl...</td>\n",
       "      <td>94% off</td>\n",
       "    </tr>\n",
       "    <tr>\n",
       "      <th>4</th>\n",
       "      <td>Elligator</td>\n",
       "      <td>₹149₹59975% off</td>\n",
       "      <td>UV Protection Cat-eye, Retro Square, Oval, Rou...</td>\n",
       "      <td>75% off</td>\n",
       "    </tr>\n",
       "    <tr>\n",
       "      <th>...</th>\n",
       "      <td>...</td>\n",
       "      <td>...</td>\n",
       "      <td>...</td>\n",
       "      <td>...</td>\n",
       "    </tr>\n",
       "    <tr>\n",
       "      <th>95</th>\n",
       "      <td>Elligator</td>\n",
       "      <td>₹239₹99976% off</td>\n",
       "      <td>UV Protection, Mirrored Wayfarer Sunglasses (54)</td>\n",
       "      <td>81% off</td>\n",
       "    </tr>\n",
       "    <tr>\n",
       "      <th>96</th>\n",
       "      <td>VINCENT CHASE</td>\n",
       "      <td>₹218₹1,29983% off</td>\n",
       "      <td>Polarized, UV Protection Round Sunglasses (51)</td>\n",
       "      <td>80% off</td>\n",
       "    </tr>\n",
       "    <tr>\n",
       "      <th>97</th>\n",
       "      <td>VINCENT CHASE</td>\n",
       "      <td>₹424₹1,49971% off</td>\n",
       "      <td>Polarized, UV Protection Sports Sunglasses (69)</td>\n",
       "      <td>75% off</td>\n",
       "    </tr>\n",
       "    <tr>\n",
       "      <th>98</th>\n",
       "      <td>ROADWAY</td>\n",
       "      <td>₹199₹94979% off</td>\n",
       "      <td>UV Protection Wayfarer, Sports, Spectacle , Re...</td>\n",
       "      <td>71% off</td>\n",
       "    </tr>\n",
       "    <tr>\n",
       "      <th>99</th>\n",
       "      <td>ROADWAY</td>\n",
       "      <td>₹159₹1,29987% off</td>\n",
       "      <td>UV Protection Retro Square, Wayfarer, Sports S...</td>\n",
       "      <td>86% off</td>\n",
       "    </tr>\n",
       "  </tbody>\n",
       "</table>\n",
       "<p>100 rows × 4 columns</p>\n",
       "</div>"
      ],
      "text/plain": [
       "       Brand_name              Price  \\\n",
       "0        Fastrack    ₹449₹89950% off   \n",
       "1       ROYAL SON  ₹339₹1,49977% off   \n",
       "2            SRPM  ₹149₹1,29988% off   \n",
       "3          GANSTA   ₹77₹1,29994% off   \n",
       "4       Elligator    ₹149₹59975% off   \n",
       "..            ...                ...   \n",
       "95      Elligator    ₹239₹99976% off   \n",
       "96  VINCENT CHASE  ₹218₹1,29983% off   \n",
       "97  VINCENT CHASE  ₹424₹1,49971% off   \n",
       "98        ROADWAY    ₹199₹94979% off   \n",
       "99        ROADWAY  ₹159₹1,29987% off   \n",
       "\n",
       "                                           Decription Discount_offered  \n",
       "0    UV Protection Rectangular Sunglasses (Free Size)          50% off  \n",
       "1                    Mirrored Aviator Sunglasses (58)          77% off  \n",
       "2              UV Protection Wayfarer Sunglasses (50)          88% off  \n",
       "3   Night Vision, Riding Glasses Rectangular Sungl...          94% off  \n",
       "4   UV Protection Cat-eye, Retro Square, Oval, Rou...          75% off  \n",
       "..                                                ...              ...  \n",
       "95   UV Protection, Mirrored Wayfarer Sunglasses (54)          81% off  \n",
       "96     Polarized, UV Protection Round Sunglasses (51)          80% off  \n",
       "97    Polarized, UV Protection Sports Sunglasses (69)          75% off  \n",
       "98  UV Protection Wayfarer, Sports, Spectacle , Re...          71% off  \n",
       "99  UV Protection Retro Square, Wayfarer, Sports S...          86% off  \n",
       "\n",
       "[100 rows x 4 columns]"
      ]
     },
     "execution_count": 88,
     "metadata": {},
     "output_type": "execute_result"
    }
   ],
   "source": [
    "sunglass"
   ]
  },
  {
   "cell_type": "markdown",
   "id": "784d0196",
   "metadata": {},
   "source": [
    "5.Scrape 100 reviews data from flipkart.com for iphone11 phone. You have to go the link: \t\n",
    "\n",
    "kindly use below link\n",
    "\n",
    "https://www.flipkart.com/apple-iphone-11-black-64-gb/p/itm4e5041ba101fd?pid=MOBFWQ6BXGJCEYNY&lid=LSTMOBFWQ6BXGJCEYNYZE3ENS&marketplace=FLIPKART&q=iphone+11&store=tyy/4io&srno=s_1_1&otracker=AS_Query_HistoryAutoSuggest_6_0_na_na_na&otracker1=AS_Query_HistoryAutoSuggest_6_0_na_na_na&fm=organic&iid=e30aaa70-fe6e-466c-81d4-993e630ea913.MOBFWQ6BXGJCEYNY.SEARCH&ppt=hp&ppn=homepage&ssid=nseg9l47e80000001699187524593&qH=f6cdfdaa9f3c23f3\n",
    "\n",
    "\n",
    "As shown in the above page you have to scrape the tick marked attributes. These are:\n",
    "1. Rating\n",
    "2. Review summary\n",
    "3. Full review\n",
    "4. You have to scrape this data for first 100reviews.\n",
    "Note: All the steps required during scraping should be done through code only and not manually."
   ]
  },
  {
   "cell_type": "code",
   "execution_count": 323,
   "id": "21dec954",
   "metadata": {},
   "outputs": [],
   "source": [
    "import selenium                                      #library that is used to work with selenium\n",
    "from selenium import webdriver                       #importing webdriver module from selenium to open automated crome window\n",
    "import pandas as pd                                  #To create Dataframe\n",
    "from selenium.webdriver.common.by import By          # importing inbuilt class By         \n",
    "import warnings                                      # To ignore any sorts of warnings\n",
    "warnings.filterwarnings(\"ignore\")\n",
    "import time                                          # Used to stop search engine for few seconds\n",
    "from selenium.common.exceptions import StaleElementReferenceException, NoSuchElementException # Exceptions handling\n",
    "from selenium.webdriver.common.by import By\n",
    "from selenium.webdriver.support.select import Select\n",
    "from selenium.webdriver.common.keys import Keys"
   ]
  },
  {
   "cell_type": "code",
   "execution_count": 324,
   "id": "5c263e04",
   "metadata": {},
   "outputs": [],
   "source": [
    "driver = webdriver.Chrome()"
   ]
  },
  {
   "cell_type": "code",
   "execution_count": 340,
   "id": "b75d4b8d",
   "metadata": {},
   "outputs": [],
   "source": [
    "#Opening the flipcart page on automated browser\n",
    "driver.get(\"https://www.flipkart.com/apple-iphone-11-black-64-gb/p/itm4e5041ba101fd?pid=MOBFWQ6BXGJCEYNY&lid=LSTMOBFWQ6BXGJCEYNYZE3ENS&marketplace=FLIPKART&q=iphone+11&store=tyy/4io&srno=s_1_1&otracker=AS_Query_HistoryAutoSuggest_6_0_na_na_na&otracker1=AS_Query_HistoryAutoSuggest_6_0_na_na_na&fm=organic&iid=e30aaa70-fe6e-466c-81d4-993e630ea913.MOBFWQ6BXGJCEYNY.SEARCH&ppt=hp&ppn=homepage&ssid=nseg9l47e80000001699187524593&qH=f6cdfdaa9f3c23f3\")"
   ]
  },
  {
   "cell_type": "code",
   "execution_count": 346,
   "id": "833dc208",
   "metadata": {},
   "outputs": [],
   "source": [
    "#Clicking to view all reviews\n",
    "all_review=driver.find_element(By.XPATH,'/html/body/div[1]/div/div[3]/div[1]/div[2]/div[8]/div/div/div[6]/div/a/div/span')\n",
    "all_review.click()"
   ]
  },
  {
   "cell_type": "code",
   "execution_count": 341,
   "id": "d62bacc2",
   "metadata": {},
   "outputs": [],
   "source": [
    "Rating=[]\n",
    "Review=[]\n",
    "Full_review=[]"
   ]
  },
  {
   "cell_type": "code",
   "execution_count": 342,
   "id": "11863c4d",
   "metadata": {},
   "outputs": [],
   "source": [
    "time.sleep(3)"
   ]
  },
  {
   "cell_type": "code",
   "execution_count": 348,
   "id": "ef9c4994",
   "metadata": {},
   "outputs": [],
   "source": [
    "#To scrap rating deatils \n",
    "for i in range(3):\n",
    "    rating_tag=driver.find_elements(By.XPATH,\"//div[@class='_3LWZlK _1BLPMq']\")\n",
    "    review_tag=driver.find_elements(By.XPATH,\"//p[@class='_2-N8zT']\")\n",
    "    freview_tag =driver.find_elements(By.XPATH,\"//div[@class='t-ZTKy']\")\n",
    "    \n",
    "    for j  in rating_tag:\n",
    "        Rating.append(j.text)\n",
    "    Rating[:100]    \n",
    "    \n",
    "    \n",
    "    \n",
    "    for k in review_tag:\n",
    "        Review.append(k.text)\n",
    "    Review[:100] \n",
    "    \n",
    "    \n",
    "    for l in freview_tag:\n",
    "        Full_review.append(l.text)\n",
    "    Full_review[:100] \n"
   ]
  },
  {
   "cell_type": "code",
   "execution_count": 349,
   "id": "e627e2ae",
   "metadata": {},
   "outputs": [
    {
     "name": "stdout",
     "output_type": "stream",
     "text": [
      "['5', '5', '5', '5', '5', '5', '5', '5', '5', '4', '5', '5', '5', '5', '5', '5', '5', '5', '5', '4', '5', '5', '5', '5', '5', '5', '5', '5', '5', '4']\n"
     ]
    }
   ],
   "source": [
    "print(Rating)"
   ]
  },
  {
   "cell_type": "code",
   "execution_count": 350,
   "id": "ca8aeb35",
   "metadata": {},
   "outputs": [],
   "source": [
    "#Create dataframe to view scrap data\n",
    "ratingdf=pd.DataFrame({})\n",
    "ratingdf['Ratings']=Rating[0:100]\n",
    "ratingdf['Rewiew_Summery']=Review[0:100]\n",
    "ratingdf['Full_Review']=Full_review[0:100]"
   ]
  },
  {
   "cell_type": "code",
   "execution_count": 351,
   "id": "b9ede747",
   "metadata": {},
   "outputs": [
    {
     "data": {
      "text/html": [
       "<div>\n",
       "<style scoped>\n",
       "    .dataframe tbody tr th:only-of-type {\n",
       "        vertical-align: middle;\n",
       "    }\n",
       "\n",
       "    .dataframe tbody tr th {\n",
       "        vertical-align: top;\n",
       "    }\n",
       "\n",
       "    .dataframe thead th {\n",
       "        text-align: right;\n",
       "    }\n",
       "</style>\n",
       "<table border=\"1\" class=\"dataframe\">\n",
       "  <thead>\n",
       "    <tr style=\"text-align: right;\">\n",
       "      <th></th>\n",
       "      <th>Ratings</th>\n",
       "      <th>Rewiew_Summery</th>\n",
       "      <th>Full_Review</th>\n",
       "    </tr>\n",
       "  </thead>\n",
       "  <tbody>\n",
       "    <tr>\n",
       "      <th>0</th>\n",
       "      <td>5</td>\n",
       "      <td>Wonderful</td>\n",
       "      <td>This is amazing at all</td>\n",
       "    </tr>\n",
       "    <tr>\n",
       "      <th>1</th>\n",
       "      <td>5</td>\n",
       "      <td>Terrific</td>\n",
       "      <td>Very very good</td>\n",
       "    </tr>\n",
       "    <tr>\n",
       "      <th>2</th>\n",
       "      <td>5</td>\n",
       "      <td>Best in the market!</td>\n",
       "      <td>Good Camera</td>\n",
       "    </tr>\n",
       "    <tr>\n",
       "      <th>3</th>\n",
       "      <td>5</td>\n",
       "      <td>Classy product</td>\n",
       "      <td>Camera is awesome\\nBest battery backup\\nA perf...</td>\n",
       "    </tr>\n",
       "    <tr>\n",
       "      <th>4</th>\n",
       "      <td>5</td>\n",
       "      <td>Worth every penny</td>\n",
       "      <td>Feeling awesome after getting the delivery of ...</td>\n",
       "    </tr>\n",
       "    <tr>\n",
       "      <th>5</th>\n",
       "      <td>5</td>\n",
       "      <td>Terrific purchase</td>\n",
       "      <td>Value for money 😍</td>\n",
       "    </tr>\n",
       "    <tr>\n",
       "      <th>6</th>\n",
       "      <td>5</td>\n",
       "      <td>Must buy!</td>\n",
       "      <td>Go for iPhone 11 , if confused between iPhone ...</td>\n",
       "    </tr>\n",
       "    <tr>\n",
       "      <th>7</th>\n",
       "      <td>5</td>\n",
       "      <td>Perfect product!</td>\n",
       "      <td>Photos super</td>\n",
       "    </tr>\n",
       "    <tr>\n",
       "      <th>8</th>\n",
       "      <td>5</td>\n",
       "      <td>Fabulous!</td>\n",
       "      <td>Super🔥 and good performance 👌❤️</td>\n",
       "    </tr>\n",
       "    <tr>\n",
       "      <th>9</th>\n",
       "      <td>4</td>\n",
       "      <td>Good quality product</td>\n",
       "      <td>Awesome</td>\n",
       "    </tr>\n",
       "    <tr>\n",
       "      <th>10</th>\n",
       "      <td>5</td>\n",
       "      <td>Wonderful</td>\n",
       "      <td>This is amazing at all</td>\n",
       "    </tr>\n",
       "    <tr>\n",
       "      <th>11</th>\n",
       "      <td>5</td>\n",
       "      <td>Terrific</td>\n",
       "      <td>Very very good</td>\n",
       "    </tr>\n",
       "    <tr>\n",
       "      <th>12</th>\n",
       "      <td>5</td>\n",
       "      <td>Best in the market!</td>\n",
       "      <td>Good Camera</td>\n",
       "    </tr>\n",
       "    <tr>\n",
       "      <th>13</th>\n",
       "      <td>5</td>\n",
       "      <td>Classy product</td>\n",
       "      <td>Camera is awesome\\nBest battery backup\\nA perf...</td>\n",
       "    </tr>\n",
       "    <tr>\n",
       "      <th>14</th>\n",
       "      <td>5</td>\n",
       "      <td>Worth every penny</td>\n",
       "      <td>Feeling awesome after getting the delivery of ...</td>\n",
       "    </tr>\n",
       "    <tr>\n",
       "      <th>15</th>\n",
       "      <td>5</td>\n",
       "      <td>Terrific purchase</td>\n",
       "      <td>Value for money 😍</td>\n",
       "    </tr>\n",
       "    <tr>\n",
       "      <th>16</th>\n",
       "      <td>5</td>\n",
       "      <td>Must buy!</td>\n",
       "      <td>Go for iPhone 11 , if confused between iPhone ...</td>\n",
       "    </tr>\n",
       "    <tr>\n",
       "      <th>17</th>\n",
       "      <td>5</td>\n",
       "      <td>Perfect product!</td>\n",
       "      <td>Photos super</td>\n",
       "    </tr>\n",
       "    <tr>\n",
       "      <th>18</th>\n",
       "      <td>5</td>\n",
       "      <td>Fabulous!</td>\n",
       "      <td>Super🔥 and good performance 👌❤️</td>\n",
       "    </tr>\n",
       "    <tr>\n",
       "      <th>19</th>\n",
       "      <td>4</td>\n",
       "      <td>Good quality product</td>\n",
       "      <td>Awesome</td>\n",
       "    </tr>\n",
       "    <tr>\n",
       "      <th>20</th>\n",
       "      <td>5</td>\n",
       "      <td>Wonderful</td>\n",
       "      <td>This is amazing at all</td>\n",
       "    </tr>\n",
       "    <tr>\n",
       "      <th>21</th>\n",
       "      <td>5</td>\n",
       "      <td>Terrific</td>\n",
       "      <td>Very very good</td>\n",
       "    </tr>\n",
       "    <tr>\n",
       "      <th>22</th>\n",
       "      <td>5</td>\n",
       "      <td>Best in the market!</td>\n",
       "      <td>Good Camera</td>\n",
       "    </tr>\n",
       "    <tr>\n",
       "      <th>23</th>\n",
       "      <td>5</td>\n",
       "      <td>Classy product</td>\n",
       "      <td>Camera is awesome\\nBest battery backup\\nA perf...</td>\n",
       "    </tr>\n",
       "    <tr>\n",
       "      <th>24</th>\n",
       "      <td>5</td>\n",
       "      <td>Worth every penny</td>\n",
       "      <td>Feeling awesome after getting the delivery of ...</td>\n",
       "    </tr>\n",
       "    <tr>\n",
       "      <th>25</th>\n",
       "      <td>5</td>\n",
       "      <td>Terrific purchase</td>\n",
       "      <td>Value for money 😍</td>\n",
       "    </tr>\n",
       "    <tr>\n",
       "      <th>26</th>\n",
       "      <td>5</td>\n",
       "      <td>Must buy!</td>\n",
       "      <td>Go for iPhone 11 , if confused between iPhone ...</td>\n",
       "    </tr>\n",
       "    <tr>\n",
       "      <th>27</th>\n",
       "      <td>5</td>\n",
       "      <td>Perfect product!</td>\n",
       "      <td>Photos super</td>\n",
       "    </tr>\n",
       "    <tr>\n",
       "      <th>28</th>\n",
       "      <td>5</td>\n",
       "      <td>Fabulous!</td>\n",
       "      <td>Super🔥 and good performance 👌❤️</td>\n",
       "    </tr>\n",
       "    <tr>\n",
       "      <th>29</th>\n",
       "      <td>4</td>\n",
       "      <td>Good quality product</td>\n",
       "      <td>Awesome</td>\n",
       "    </tr>\n",
       "  </tbody>\n",
       "</table>\n",
       "</div>"
      ],
      "text/plain": [
       "   Ratings        Rewiew_Summery  \\\n",
       "0        5             Wonderful   \n",
       "1        5              Terrific   \n",
       "2        5   Best in the market!   \n",
       "3        5        Classy product   \n",
       "4        5     Worth every penny   \n",
       "5        5     Terrific purchase   \n",
       "6        5             Must buy!   \n",
       "7        5      Perfect product!   \n",
       "8        5             Fabulous!   \n",
       "9        4  Good quality product   \n",
       "10       5             Wonderful   \n",
       "11       5              Terrific   \n",
       "12       5   Best in the market!   \n",
       "13       5        Classy product   \n",
       "14       5     Worth every penny   \n",
       "15       5     Terrific purchase   \n",
       "16       5             Must buy!   \n",
       "17       5      Perfect product!   \n",
       "18       5             Fabulous!   \n",
       "19       4  Good quality product   \n",
       "20       5             Wonderful   \n",
       "21       5              Terrific   \n",
       "22       5   Best in the market!   \n",
       "23       5        Classy product   \n",
       "24       5     Worth every penny   \n",
       "25       5     Terrific purchase   \n",
       "26       5             Must buy!   \n",
       "27       5      Perfect product!   \n",
       "28       5             Fabulous!   \n",
       "29       4  Good quality product   \n",
       "\n",
       "                                          Full_Review  \n",
       "0                              This is amazing at all  \n",
       "1                                      Very very good  \n",
       "2                                         Good Camera  \n",
       "3   Camera is awesome\\nBest battery backup\\nA perf...  \n",
       "4   Feeling awesome after getting the delivery of ...  \n",
       "5                                   Value for money 😍  \n",
       "6   Go for iPhone 11 , if confused between iPhone ...  \n",
       "7                                        Photos super  \n",
       "8                     Super🔥 and good performance 👌❤️  \n",
       "9                                             Awesome  \n",
       "10                             This is amazing at all  \n",
       "11                                     Very very good  \n",
       "12                                        Good Camera  \n",
       "13  Camera is awesome\\nBest battery backup\\nA perf...  \n",
       "14  Feeling awesome after getting the delivery of ...  \n",
       "15                                  Value for money 😍  \n",
       "16  Go for iPhone 11 , if confused between iPhone ...  \n",
       "17                                       Photos super  \n",
       "18                    Super🔥 and good performance 👌❤️  \n",
       "19                                            Awesome  \n",
       "20                             This is amazing at all  \n",
       "21                                     Very very good  \n",
       "22                                        Good Camera  \n",
       "23  Camera is awesome\\nBest battery backup\\nA perf...  \n",
       "24  Feeling awesome after getting the delivery of ...  \n",
       "25                                  Value for money 😍  \n",
       "26  Go for iPhone 11 , if confused between iPhone ...  \n",
       "27                                       Photos super  \n",
       "28                    Super🔥 and good performance 👌❤️  \n",
       "29                                            Awesome  "
      ]
     },
     "execution_count": 351,
     "metadata": {},
     "output_type": "execute_result"
    }
   ],
   "source": [
    "ratingdf"
   ]
  },
  {
   "cell_type": "markdown",
   "id": "e4a31696",
   "metadata": {},
   "source": [
    "Q6: Scrape data for first 100 sneakers you find when you visit flipkart.com and search for “sneakers” in the search field.\n",
    "You have to scrape 3 attributes of each sneaker:\n",
    "1. Brand\n",
    "2. Product Description\n",
    "3. Price\n",
    "As shown in the below image, you have to scrape the above attributes.\n"
   ]
  },
  {
   "cell_type": "code",
   "execution_count": 330,
   "id": "876b8666",
   "metadata": {},
   "outputs": [],
   "source": [
    "import selenium                                      #library that is used to work with selenium\n",
    "from selenium import webdriver                       #importing webdriver module from selenium to open automated crome window\n",
    "import pandas as pd                                  #To create Dataframe\n",
    "from selenium.webdriver.common.by import By          # importing inbuilt class By         \n",
    "import warnings                                      # To ignore any sorts of warnings\n",
    "warnings.filterwarnings(\"ignore\")\n",
    "import time                                          # Used to stop search engine for few seconds\n",
    "from selenium.common.exceptions import StaleElementReferenceException, NoSuchElementException # Exceptions handling\n",
    "from selenium.webdriver.common.by import By\n",
    "from selenium.webdriver.support.select import Select\n",
    "from selenium.webdriver.common.keys import Keys"
   ]
  },
  {
   "cell_type": "code",
   "execution_count": 89,
   "id": "a9caa39f",
   "metadata": {},
   "outputs": [],
   "source": [
    "driver = webdriver.Chrome()"
   ]
  },
  {
   "cell_type": "code",
   "execution_count": 90,
   "id": "38d32a03",
   "metadata": {},
   "outputs": [],
   "source": [
    "#Opening the shine page on automated browser\n",
    "driver.get(\" https://www.flipkart.com/\")"
   ]
  },
  {
   "cell_type": "code",
   "execution_count": 91,
   "id": "1417b55e",
   "metadata": {},
   "outputs": [],
   "source": [
    "seek=driver.find_element(By.CLASS_NAME,'Pke_EE')\n",
    "seek.send_keys('sneakers')"
   ]
  },
  {
   "cell_type": "code",
   "execution_count": 92,
   "id": "c83fa911",
   "metadata": {},
   "outputs": [],
   "source": [
    "Tik=driver.find_element(By.CLASS_NAME,'_2iLD__')\n",
    "Tik.click()"
   ]
  },
  {
   "cell_type": "code",
   "execution_count": 93,
   "id": "3ce4bb00",
   "metadata": {},
   "outputs": [],
   "source": [
    "#creating the empty lists\n",
    "brand_name=[]\n",
    "product_desc=[]\n",
    "p_price=[]\n",
    "discount_offered=[]"
   ]
  },
  {
   "cell_type": "code",
   "execution_count": 94,
   "id": "55b0a04b",
   "metadata": {},
   "outputs": [],
   "source": [
    "time.sleep(3)"
   ]
  },
  {
   "cell_type": "code",
   "execution_count": 95,
   "id": "a4e31143",
   "metadata": {},
   "outputs": [],
   "source": [
    "for i in range(3):\n",
    "    b_name=driver.find_elements(By.XPATH,\"//div[@class='_2WkVRV']\")\n",
    "    p_desc=driver.find_elements(By.XPATH,\"//a[@class='IRpwTa']\")\n",
    "    price =driver.find_elements(By.XPATH,\"//div[@class='_25b18c']\")\n",
    "    discount=driver.find_elements(By.XPATH,\"//div[@class='_3Ay6Sb']\")\n",
    "    \n",
    "    for j  in b_name:\n",
    "        brand_name.append(j.text)\n",
    "    brand_name[:100]    \n",
    "    \n",
    "    \n",
    "    \n",
    "    for k in p_desc:\n",
    "        product_desc.append(k.text)\n",
    "    product_desc[:100] \n",
    "    \n",
    "    \n",
    "    for l in price:\n",
    "        p_price.append(l.text)\n",
    "    p_price[:100] \n",
    "    \n",
    "    \n",
    "    for t in discount:\n",
    "        discount_offered.append(t.text)\n",
    "    discount_offered[:100]"
   ]
  },
  {
   "cell_type": "code",
   "execution_count": 96,
   "id": "a2e9b114",
   "metadata": {},
   "outputs": [
    {
     "name": "stdout",
     "output_type": "stream",
     "text": [
      "120 117 135 120\n"
     ]
    }
   ],
   "source": [
    "print(len(brand_name), len(product_desc), len(p_price),len( discount_offered))"
   ]
  },
  {
   "cell_type": "code",
   "execution_count": 97,
   "id": "f12c00ba",
   "metadata": {},
   "outputs": [
    {
     "data": {
      "text/html": [
       "<div>\n",
       "<style scoped>\n",
       "    .dataframe tbody tr th:only-of-type {\n",
       "        vertical-align: middle;\n",
       "    }\n",
       "\n",
       "    .dataframe tbody tr th {\n",
       "        vertical-align: top;\n",
       "    }\n",
       "\n",
       "    .dataframe thead th {\n",
       "        text-align: right;\n",
       "    }\n",
       "</style>\n",
       "<table border=\"1\" class=\"dataframe\">\n",
       "  <thead>\n",
       "    <tr style=\"text-align: right;\">\n",
       "      <th></th>\n",
       "      <th>Brand</th>\n",
       "      <th>Product Description</th>\n",
       "      <th>Price</th>\n",
       "      <th>Discount</th>\n",
       "    </tr>\n",
       "  </thead>\n",
       "  <tbody>\n",
       "    <tr>\n",
       "      <th>0</th>\n",
       "      <td>BRUTON</td>\n",
       "      <td>Combo Pack Of 2 Casual Shoes Sneakers For Men</td>\n",
       "      <td>₹497₹2,49980% off</td>\n",
       "      <td>80% off</td>\n",
       "    </tr>\n",
       "    <tr>\n",
       "      <th>1</th>\n",
       "      <td>BRUTON</td>\n",
       "      <td>Combo_Pack_Of 2 Casual Shoes Sneakers For Men</td>\n",
       "      <td>₹497₹2,49980% off</td>\n",
       "      <td>80% off</td>\n",
       "    </tr>\n",
       "    <tr>\n",
       "      <th>2</th>\n",
       "      <td>aadi</td>\n",
       "      <td>Synthetic Leather |Lightweight|Comfort|Summer|...</td>\n",
       "      <td>₹289₹1,99985% off</td>\n",
       "      <td>85% off</td>\n",
       "    </tr>\n",
       "    <tr>\n",
       "      <th>3</th>\n",
       "      <td>Layasa</td>\n",
       "      <td>Sneakers For Men</td>\n",
       "      <td>₹295₹99970% off</td>\n",
       "      <td>70% off</td>\n",
       "    </tr>\n",
       "    <tr>\n",
       "      <th>4</th>\n",
       "      <td>BRUTON</td>\n",
       "      <td>Modern Trendy Shoes Sneakers For Men</td>\n",
       "      <td>₹285₹1,29978% off</td>\n",
       "      <td>78% off</td>\n",
       "    </tr>\n",
       "    <tr>\n",
       "      <th>...</th>\n",
       "      <td>...</td>\n",
       "      <td>...</td>\n",
       "      <td>...</td>\n",
       "      <td>...</td>\n",
       "    </tr>\n",
       "    <tr>\n",
       "      <th>95</th>\n",
       "      <td>RED TAPE</td>\n",
       "      <td>2 Combo Sneaker Shoes Sneakers For Men</td>\n",
       "      <td>₹499₹1,24960% off</td>\n",
       "      <td>78% off</td>\n",
       "    </tr>\n",
       "    <tr>\n",
       "      <th>96</th>\n",
       "      <td>BRUTON</td>\n",
       "      <td>Sneakers For Men</td>\n",
       "      <td>₹299₹99970% off</td>\n",
       "      <td>80% off</td>\n",
       "    </tr>\n",
       "    <tr>\n",
       "      <th>97</th>\n",
       "      <td>BRUTON</td>\n",
       "      <td>Sneaker Casual Shoes For Men | Soft Cushion In...</td>\n",
       "      <td>₹497₹2,49980% off</td>\n",
       "      <td>80% off</td>\n",
       "    </tr>\n",
       "    <tr>\n",
       "      <th>98</th>\n",
       "      <td>Ego by NS</td>\n",
       "      <td>Casual Premium Ankle Length Black Denim Boots ...</td>\n",
       "      <td>₹343₹1,99982% off</td>\n",
       "      <td>65% off</td>\n",
       "    </tr>\n",
       "    <tr>\n",
       "      <th>99</th>\n",
       "      <td>RED TAPE</td>\n",
       "      <td>Casual Sneakers ColourFul Block Shoes For Boys...</td>\n",
       "      <td>₹299₹99970% off</td>\n",
       "      <td>78% off</td>\n",
       "    </tr>\n",
       "  </tbody>\n",
       "</table>\n",
       "<p>100 rows × 4 columns</p>\n",
       "</div>"
      ],
      "text/plain": [
       "        Brand                                Product Description  \\\n",
       "0      BRUTON      Combo Pack Of 2 Casual Shoes Sneakers For Men   \n",
       "1      BRUTON      Combo_Pack_Of 2 Casual Shoes Sneakers For Men   \n",
       "2        aadi  Synthetic Leather |Lightweight|Comfort|Summer|...   \n",
       "3      Layasa                                   Sneakers For Men   \n",
       "4      BRUTON               Modern Trendy Shoes Sneakers For Men   \n",
       "..        ...                                                ...   \n",
       "95   RED TAPE             2 Combo Sneaker Shoes Sneakers For Men   \n",
       "96     BRUTON                                   Sneakers For Men   \n",
       "97     BRUTON  Sneaker Casual Shoes For Men | Soft Cushion In...   \n",
       "98  Ego by NS  Casual Premium Ankle Length Black Denim Boots ...   \n",
       "99   RED TAPE  Casual Sneakers ColourFul Block Shoes For Boys...   \n",
       "\n",
       "                Price Discount  \n",
       "0   ₹497₹2,49980% off  80% off  \n",
       "1   ₹497₹2,49980% off  80% off  \n",
       "2   ₹289₹1,99985% off  85% off  \n",
       "3     ₹295₹99970% off  70% off  \n",
       "4   ₹285₹1,29978% off  78% off  \n",
       "..                ...      ...  \n",
       "95  ₹499₹1,24960% off  78% off  \n",
       "96    ₹299₹99970% off  80% off  \n",
       "97  ₹497₹2,49980% off  80% off  \n",
       "98  ₹343₹1,99982% off  65% off  \n",
       "99    ₹299₹99970% off  78% off  \n",
       "\n",
       "[100 rows x 4 columns]"
      ]
     },
     "execution_count": 97,
     "metadata": {},
     "output_type": "execute_result"
    }
   ],
   "source": [
    "sneaker_df=pd.DataFrame({'Brand':brand_name[0:100],'Product Description':product_desc[0:100],'Price':p_price[0:100],'Discount': discount_offered[0:100]})\n",
    "sneaker_df"
   ]
  },
  {
   "cell_type": "markdown",
   "id": "2d5a737e",
   "metadata": {},
   "source": [
    "Q7: Go to webpage https://www.amazon.in/ Enter “Laptop” in the search field and then click the search icon. Then set CPU Type filter to “Intel Core i7” as shown in the below image:"
   ]
  },
  {
   "cell_type": "code",
   "execution_count": 49,
   "id": "5b7cd093",
   "metadata": {},
   "outputs": [],
   "source": [
    "import selenium                                      #library that is used to work with selenium\n",
    "from selenium import webdriver                       #importing webdriver module from selenium to open automated crome window\n",
    "import pandas as pd                                  #To create Dataframe\n",
    "from selenium.webdriver.common.by import By          # importing inbuilt class By         \n",
    "import warnings                                      # To ignore any sorts of warnings\n",
    "warnings.filterwarnings(\"ignore\")\n",
    "import time                                          # Used to stop search engine for few seconds\n",
    "from selenium.common.exceptions import StaleElementReferenceException, NoSuchElementException # Exceptions handling\n",
    "from selenium.webdriver.common.by import By\n",
    "from selenium.webdriver.support.select import Select\n",
    "from selenium.webdriver.common.keys import Keys"
   ]
  },
  {
   "cell_type": "code",
   "execution_count": 50,
   "id": "4ee073f4",
   "metadata": {},
   "outputs": [],
   "source": [
    "driver = webdriver.Chrome()"
   ]
  },
  {
   "cell_type": "code",
   "execution_count": 51,
   "id": "c1ca4b6f",
   "metadata": {},
   "outputs": [],
   "source": [
    "#Opening the shine page on automated browser\n",
    "driver.get(\"  https://www.amazon.in/\")"
   ]
  },
  {
   "cell_type": "code",
   "execution_count": 52,
   "id": "ef76551b",
   "metadata": {},
   "outputs": [],
   "source": [
    "seek=driver.find_element(By.XPATH,'//*[@id=\"twotabsearchtextbox\"] ')\n",
    "seek.send_keys('Laptop')"
   ]
  },
  {
   "cell_type": "code",
   "execution_count": 53,
   "id": "e8b7782f",
   "metadata": {},
   "outputs": [],
   "source": [
    "Tik=driver.find_element(By.XPATH,'//*[@id=\"nav-search-submit-text\"]')\n",
    "Tik.click()"
   ]
  },
  {
   "cell_type": "code",
   "execution_count": 56,
   "id": "9ff19767",
   "metadata": {},
   "outputs": [],
   "source": [
    "cpu_type=driver.find_element(By.ID,'nav-search-submit-button')\n",
    "cpu_type.click()"
   ]
  },
  {
   "cell_type": "code",
   "execution_count": 61,
   "id": "e6f8abdb",
   "metadata": {},
   "outputs": [],
   "source": [
    "Title=[]\n",
    "Price=[]\n",
    "Rating=[]"
   ]
  },
  {
   "cell_type": "code",
   "execution_count": 62,
   "id": "04492217",
   "metadata": {},
   "outputs": [],
   "source": [
    "time.sleep(3)"
   ]
  },
  {
   "cell_type": "code",
   "execution_count": 64,
   "id": "6881aeae",
   "metadata": {},
   "outputs": [],
   "source": [
    "for i in range(3):\n",
    "    b_name=driver.find_elements(By.XPATH,\"//div[@class='_2WkVRV']\")\n",
    "    p_desc=driver.find_elements(By.XPATH,\"//a[@class='IRpwTa']\")\n",
    "    price =driver.find_elements(By.XPATH,\"//div[@class='_25b18c']\")\n",
    "    \n",
    "    \n",
    "    for j  in b_name:\n",
    "        Title.append(j.text)\n",
    "    Title[:100]    \n",
    "    \n",
    "    \n",
    "    \n",
    "    for k in p_desc:\n",
    "        p_desc.append(k.text)\n",
    "    p_desc[:100] \n",
    "    \n",
    "    \n",
    "    for l in price:\n",
    "        price.append(l.text)\n",
    "    price[:100] \n",
    "    "
   ]
  },
  {
   "cell_type": "code",
   "execution_count": 65,
   "id": "997e43d1",
   "metadata": {},
   "outputs": [
    {
     "name": "stdout",
     "output_type": "stream",
     "text": [
      "0 0 0\n"
     ]
    }
   ],
   "source": [
    "print(len(Title), len(Price), len(Rating))"
   ]
  },
  {
   "cell_type": "code",
   "execution_count": 67,
   "id": "fb3d09e2",
   "metadata": {},
   "outputs": [
    {
     "data": {
      "text/html": [
       "<div>\n",
       "<style scoped>\n",
       "    .dataframe tbody tr th:only-of-type {\n",
       "        vertical-align: middle;\n",
       "    }\n",
       "\n",
       "    .dataframe tbody tr th {\n",
       "        vertical-align: top;\n",
       "    }\n",
       "\n",
       "    .dataframe thead th {\n",
       "        text-align: right;\n",
       "    }\n",
       "</style>\n",
       "<table border=\"1\" class=\"dataframe\">\n",
       "  <thead>\n",
       "    <tr style=\"text-align: right;\">\n",
       "      <th></th>\n",
       "      <th>Laptop</th>\n",
       "      <th>Price</th>\n",
       "      <th>Ratings</th>\n",
       "    </tr>\n",
       "  </thead>\n",
       "  <tbody>\n",
       "  </tbody>\n",
       "</table>\n",
       "</div>"
      ],
      "text/plain": [
       "Empty DataFrame\n",
       "Columns: [Laptop, Price, Ratings]\n",
       "Index: []"
      ]
     },
     "execution_count": 67,
     "metadata": {},
     "output_type": "execute_result"
    }
   ],
   "source": [
    "sneaker_df=pd.DataFrame({'Laptop':Title[0:10],'Price':Price[0:10],'Ratings':Rating[0:10]})\n",
    "sneaker_df"
   ]
  },
  {
   "cell_type": "markdown",
   "id": "e8ea1352",
   "metadata": {},
   "source": [
    "Q8: Write a python program to scrape data for Top 1000 Quotes of All Time.\n",
    "The above task will be done in following steps:\n",
    "1. First get the webpagehttps://www.azquotes.com/\n",
    "2. Click on Top Quotes\n",
    "3. Than scrap a) Quote b) Author c) Type Of Quotes"
   ]
  },
  {
   "cell_type": "code",
   "execution_count": 98,
   "id": "813c2360",
   "metadata": {},
   "outputs": [],
   "source": [
    "driver = webdriver.Chrome()"
   ]
  },
  {
   "cell_type": "code",
   "execution_count": 99,
   "id": "ca66e239",
   "metadata": {},
   "outputs": [],
   "source": [
    "#Opening the shine page on automated browser\n",
    "driver.get(\"https://www.azquotes.com/\")"
   ]
  },
  {
   "cell_type": "code",
   "execution_count": 101,
   "id": "bd6b02be",
   "metadata": {},
   "outputs": [],
   "source": [
    "seek=driver.find_element(By.XPATH,'/html/body/div[1]/div[1]/div[1]/div/div[3]/ul/li[5]/a')\n",
    "seek.click()"
   ]
  },
  {
   "cell_type": "code",
   "execution_count": 102,
   "id": "8aff6dc1",
   "metadata": {},
   "outputs": [],
   "source": [
    "Quote=[]\n",
    "Author =[]\n",
    "T_Quotes=[]"
   ]
  },
  {
   "cell_type": "code",
   "execution_count": 103,
   "id": "15d4711f",
   "metadata": {},
   "outputs": [],
   "source": [
    "time.sleep(3)"
   ]
  },
  {
   "cell_type": "code",
   "execution_count": 104,
   "id": "996c0658",
   "metadata": {},
   "outputs": [],
   "source": [
    "for i in range(3):\n",
    "    quote_tag=driver.find_elements(By.XPATH,\"//a[@class='title']\")\n",
    "    author_tag=driver.find_elements(By.XPATH,\"//div[@class='author']\")\n",
    "    t_tag=driver.find_elements(By.XPATH,\"//div[@class='tags']\")\n",
    "    \n",
    "    \n",
    "    for j  in quote_tag:\n",
    "        Quote.append(j.text)\n",
    "    Quote[:100]    \n",
    "    \n",
    "    \n",
    "    \n",
    "    for k in author_tag:\n",
    "        Author.append(k.text)\n",
    "    Author[:100] \n",
    "    \n",
    "    \n",
    "    for l in t_tag:\n",
    "        T_Quotes.append(l.text)\n",
    "    T_Quotes[:100] "
   ]
  },
  {
   "cell_type": "code",
   "execution_count": 105,
   "id": "162e0752",
   "metadata": {},
   "outputs": [
    {
     "name": "stdout",
     "output_type": "stream",
     "text": [
      "300 300 300\n"
     ]
    }
   ],
   "source": [
    "print(len(Quote),len(Author),len(T_Quotes))\n"
   ]
  },
  {
   "cell_type": "code",
   "execution_count": 106,
   "id": "35c32c0c",
   "metadata": {},
   "outputs": [
    {
     "data": {
      "text/html": [
       "<div>\n",
       "<style scoped>\n",
       "    .dataframe tbody tr th:only-of-type {\n",
       "        vertical-align: middle;\n",
       "    }\n",
       "\n",
       "    .dataframe tbody tr th {\n",
       "        vertical-align: top;\n",
       "    }\n",
       "\n",
       "    .dataframe thead th {\n",
       "        text-align: right;\n",
       "    }\n",
       "</style>\n",
       "<table border=\"1\" class=\"dataframe\">\n",
       "  <thead>\n",
       "    <tr style=\"text-align: right;\">\n",
       "      <th></th>\n",
       "      <th>Quote</th>\n",
       "      <th>Author</th>\n",
       "      <th>Type of Quotes</th>\n",
       "    </tr>\n",
       "  </thead>\n",
       "  <tbody>\n",
       "    <tr>\n",
       "      <th>0</th>\n",
       "      <td>The essence of strategy is choosing what not t...</td>\n",
       "      <td>Michael Porter</td>\n",
       "      <td>Essence, Deep Thought, Transcendentalism</td>\n",
       "    </tr>\n",
       "    <tr>\n",
       "      <th>1</th>\n",
       "      <td>One cannot and must not try to erase the past ...</td>\n",
       "      <td>Golda Meir</td>\n",
       "      <td>Inspiration, Past, Trying</td>\n",
       "    </tr>\n",
       "    <tr>\n",
       "      <th>2</th>\n",
       "      <td>Patriotism means to stand by the country. It d...</td>\n",
       "      <td>Theodore Roosevelt</td>\n",
       "      <td>Country, Peace, War</td>\n",
       "    </tr>\n",
       "    <tr>\n",
       "      <th>3</th>\n",
       "      <td>Death is something inevitable. When a man has ...</td>\n",
       "      <td>Nelson Mandela</td>\n",
       "      <td>Inspirational, Motivational, Death</td>\n",
       "    </tr>\n",
       "    <tr>\n",
       "      <th>4</th>\n",
       "      <td>You have to love a nation that celebrates its ...</td>\n",
       "      <td>Erma Bombeck</td>\n",
       "      <td>4th Of July, Food, Patriotic</td>\n",
       "    </tr>\n",
       "    <tr>\n",
       "      <th>...</th>\n",
       "      <td>...</td>\n",
       "      <td>...</td>\n",
       "      <td>...</td>\n",
       "    </tr>\n",
       "    <tr>\n",
       "      <th>95</th>\n",
       "      <td>When the going gets weird, the weird turn pro.</td>\n",
       "      <td>Hunter S. Thompson</td>\n",
       "      <td>Music, Sports, Hunting</td>\n",
       "    </tr>\n",
       "    <tr>\n",
       "      <th>96</th>\n",
       "      <td>When a train goes through a tunnel and it gets...</td>\n",
       "      <td>Corrie Ten Boom</td>\n",
       "      <td>Trust, Encouraging, Uplifting</td>\n",
       "    </tr>\n",
       "    <tr>\n",
       "      <th>97</th>\n",
       "      <td>If you think you are too small to make a diffe...</td>\n",
       "      <td>Dalai Lama</td>\n",
       "      <td>Inspirational, Funny, Change</td>\n",
       "    </tr>\n",
       "    <tr>\n",
       "      <th>98</th>\n",
       "      <td>God doesn't require us to succeed, he only req...</td>\n",
       "      <td>Mother Teresa</td>\n",
       "      <td>Success, God, Mother</td>\n",
       "    </tr>\n",
       "    <tr>\n",
       "      <th>99</th>\n",
       "      <td>Change your thoughts and you change your world.</td>\n",
       "      <td>Norman Vincent Peale</td>\n",
       "      <td>Inspirational, Motivational, Change</td>\n",
       "    </tr>\n",
       "  </tbody>\n",
       "</table>\n",
       "<p>100 rows × 3 columns</p>\n",
       "</div>"
      ],
      "text/plain": [
       "                                                Quote                Author  \\\n",
       "0   The essence of strategy is choosing what not t...        Michael Porter   \n",
       "1   One cannot and must not try to erase the past ...            Golda Meir   \n",
       "2   Patriotism means to stand by the country. It d...    Theodore Roosevelt   \n",
       "3   Death is something inevitable. When a man has ...        Nelson Mandela   \n",
       "4   You have to love a nation that celebrates its ...          Erma Bombeck   \n",
       "..                                                ...                   ...   \n",
       "95     When the going gets weird, the weird turn pro.    Hunter S. Thompson   \n",
       "96  When a train goes through a tunnel and it gets...       Corrie Ten Boom   \n",
       "97  If you think you are too small to make a diffe...            Dalai Lama   \n",
       "98  God doesn't require us to succeed, he only req...         Mother Teresa   \n",
       "99    Change your thoughts and you change your world.  Norman Vincent Peale   \n",
       "\n",
       "                              Type of Quotes  \n",
       "0   Essence, Deep Thought, Transcendentalism  \n",
       "1                  Inspiration, Past, Trying  \n",
       "2                        Country, Peace, War  \n",
       "3         Inspirational, Motivational, Death  \n",
       "4               4th Of July, Food, Patriotic  \n",
       "..                                       ...  \n",
       "95                    Music, Sports, Hunting  \n",
       "96             Trust, Encouraging, Uplifting  \n",
       "97              Inspirational, Funny, Change  \n",
       "98                      Success, God, Mother  \n",
       "99       Inspirational, Motivational, Change  \n",
       "\n",
       "[100 rows x 3 columns]"
      ]
     },
     "execution_count": 106,
     "metadata": {},
     "output_type": "execute_result"
    }
   ],
   "source": [
    "Q_author_df=pd.DataFrame({'Quote':Quote[0:100],'Author':Author[0:100],'Type of Quotes':T_Quotes[0:100]})\n",
    "Q_author_df"
   ]
  },
  {
   "cell_type": "markdown",
   "id": "0b24456f",
   "metadata": {},
   "source": [
    "Q9: Write a python program to display list of respected former Prime Ministers of India(i.e. Name, Born-Dead, Term of office, Remarks) from https://www.jagranjosh.com/.\n",
    "This task will be done in following steps:\n",
    "1. First get the webpagehttps://www.jagranjosh.com/\n",
    "2. Then You have to click on the GK option\n",
    "3. Then click on the List of all Prime Ministers of India\n",
    "4. Then scrap the mentioned data and make theDataFrame."
   ]
  },
  {
   "cell_type": "code",
   "execution_count": 123,
   "id": "147abed7",
   "metadata": {},
   "outputs": [],
   "source": [
    "import selenium                                      #library that is used to work with selenium\n",
    "from selenium import webdriver                       #importing webdriver module from selenium to open automated crome window\n",
    "import pandas as pd                                  #To create Dataframe\n",
    "from selenium.webdriver.common.by import By          # importing inbuilt class By         \n",
    "import warnings                                      # To ignore any sorts of warnings\n",
    "warnings.filterwarnings(\"ignore\")\n",
    "import time                                          # Used to stop search engine for few seconds\n",
    "from selenium.common.exceptions import StaleElementReferenceException, NoSuchElementException # Exceptions handling\n",
    "from selenium.webdriver.common.by import By\n",
    "from selenium.webdriver.support.select import Select\n",
    "from selenium.webdriver.common.keys import Keys"
   ]
  },
  {
   "cell_type": "code",
   "execution_count": 132,
   "id": "50e33110",
   "metadata": {},
   "outputs": [],
   "source": [
    "driver = webdriver.Chrome()"
   ]
  },
  {
   "cell_type": "code",
   "execution_count": 133,
   "id": "3c570763",
   "metadata": {},
   "outputs": [],
   "source": [
    "#Opening the shine page on automated browser\n",
    "driver.get(\"https://www.jagranjosh.com/\")"
   ]
  },
  {
   "cell_type": "code",
   "execution_count": 134,
   "id": "9782b0b7",
   "metadata": {},
   "outputs": [],
   "source": [
    "gk=driver.find_element(By.XPATH,'/html/body/div[1]/header/nav/div/div/div[3]/ul/li[6]/a')\n",
    "\n",
    "gk.click()"
   ]
  },
  {
   "cell_type": "code",
   "execution_count": 135,
   "id": "31e57dfb",
   "metadata": {},
   "outputs": [],
   "source": [
    "india_gk=driver.find_element(By.XPATH,'/html/body/div[1]/div[9]/section[5]/div[1]/h2/a')\n",
    "india_gk.click()"
   ]
  },
  {
   "cell_type": "code",
   "execution_count": 136,
   "id": "79186395",
   "metadata": {},
   "outputs": [],
   "source": [
    "pm=driver.find_element(By.XPATH,'/html/body/div[1]/main/div[1]/div[1]/section/div/ul/li[7]/article/h3/a')\n",
    "pm.click()"
   ]
  },
  {
   "cell_type": "code",
   "execution_count": 141,
   "id": "f9764b8d",
   "metadata": {},
   "outputs": [],
   "source": [
    "Pm_Name=[]\n",
    "\n",
    "Born_Dead=[]\n",
    "\n",
    "Term_of_office=[]\n",
    "\n",
    "Remark=[]"
   ]
  },
  {
   "cell_type": "code",
   "execution_count": 142,
   "id": "1bce8879",
   "metadata": {},
   "outputs": [],
   "source": [
    "time.sleep(3)"
   ]
  },
  {
   "cell_type": "code",
   "execution_count": 161,
   "id": "356d6b80",
   "metadata": {},
   "outputs": [],
   "source": [
    "for i in range(3):\n",
    "    Pname_tag=driver.find_elements(By.ID,\"//*[@id='itemdiv']/div[3]/div[9]/p[2]/strong/a\")\n",
    "    life_span=driver.find_elements(By.XPATH,\"//*[@id='itemdiv']/div[3]/div[9]/p[3]\")\n",
    "    duty_duration=driver.find_elements(By.XPATH,\"//*[@id='itemdiv']/div[3]/div[9]/p[5]/span\")\n",
    "    info_tag=driver.find_elements(By.XPATH,\"//*[@id='itemdiv']/div[3]/div[9]/p[6]\")\n",
    "    \n",
    "    for j  in Pname_tag:\n",
    "        Pm_Name.append(j.text)\n",
    "    Pm_Name [:19]  \n",
    "    \n",
    "    \n",
    "    \n",
    "    for k in life_span:\n",
    "        Born_Dead.append(k.text)\n",
    "    Born_Dead[:19]\n",
    "    \n",
    "    \n",
    "    for l in duty_duration:\n",
    "        Term_of_office.append(l.text)\n",
    "    Term_of_office [:19]\n",
    "    \n",
    "    \n",
    "    for l in info_tag:\n",
    "        Remark.append(l.text)\n",
    "    Remark[:19]"
   ]
  },
  {
   "cell_type": "code",
   "execution_count": 162,
   "id": "11d44539",
   "metadata": {},
   "outputs": [
    {
     "name": "stdout",
     "output_type": "stream",
     "text": [
      "12 15 15 15\n"
     ]
    }
   ],
   "source": [
    "print(len(Pm_Name), len(Born_Dead), len(Term_of_office), len( Remark))"
   ]
  },
  {
   "cell_type": "markdown",
   "id": "1a1395e3",
   "metadata": {},
   "source": [
    "Q10: Write a python program to display list of 50 Most expensive cars in the world (i.e. Car name and Price) from https://www.motor1.com/\n",
    "This task will be done in following steps:\n",
    "1. First get the webpage https://www.motor1.com/\n",
    "2. Then You have to type in the search bar ’50 most expensive cars’\n",
    "3. Then click on 50 most expensive cars in the world..\n",
    "4. Then scrap the mentioned data and make the dataframe."
   ]
  },
  {
   "cell_type": "code",
   "execution_count": 352,
   "id": "1377a7aa",
   "metadata": {},
   "outputs": [],
   "source": [
    "import selenium                                      #library that is used to work with selenium\n",
    "from selenium import webdriver                       #importing webdriver module from selenium to open automated crome window\n",
    "import pandas as pd                                  #To create Dataframe\n",
    "from selenium.webdriver.common.by import By          # importing inbuilt class By         \n",
    "import warnings                                      # To ignore any sorts of warnings\n",
    "warnings.filterwarnings(\"ignore\")\n",
    "import time                                          # Used to stop search engine for few seconds\n",
    "from selenium.common.exceptions import StaleElementReferenceException, NoSuchElementException # Exceptions handling\n",
    "from selenium.webdriver.common.by import By\n",
    "from selenium.webdriver.support.select import Select\n",
    "from selenium.webdriver.common.keys import Keys"
   ]
  },
  {
   "cell_type": "code",
   "execution_count": 353,
   "id": "ddd71056",
   "metadata": {},
   "outputs": [],
   "source": [
    "driver = webdriver.Chrome()"
   ]
  },
  {
   "cell_type": "code",
   "execution_count": null,
   "id": "7d894145",
   "metadata": {},
   "outputs": [],
   "source": [
    "#Opening the shine page on automated browser\n",
    "driver.get(\" https://www.motor1.com/\")"
   ]
  },
  {
   "cell_type": "code",
   "execution_count": null,
   "id": "0cd0b096",
   "metadata": {},
   "outputs": [],
   "source": [
    "search_bar=driver.find_element(By.CLASS_NAME,'m1-search-panel-input m1-search-form-text')\n",
    "\n",
    "search_bar.click()"
   ]
  },
  {
   "cell_type": "code",
   "execution_count": null,
   "id": "4baecf65",
   "metadata": {},
   "outputs": [],
   "source": [
    "search_bar=driver.find_element(By.CLASS_NAME,'m1-search-panel-input m1-search-form-text')\n",
    "\n",
    "search_bar.send_keys(\"50 most expensive cars\")"
   ]
  },
  {
   "cell_type": "code",
   "execution_count": null,
   "id": "964ab94f",
   "metadata": {},
   "outputs": [],
   "source": [
    "#entering designation and location as required\n",
    "#exp=driver.find_element(By.CLASS_NAME,\"m1-search-panel\")\n",
    "exp=driver.find_element(By.XPATH,\"/html/body/div[10]/div[2]/div/div/div[3]/div/div/div/form/button[1]\") \n",
    "exp.click()"
   ]
  },
  {
   "cell_type": "code",
   "execution_count": null,
   "id": "595f311a",
   "metadata": {},
   "outputs": [],
   "source": [
    "sear=driver.find_element(By.XPATH,\"/html/body/div[10]/div[6]/form/input[2]\") \n",
    "sear.click()\n"
   ]
  },
  {
   "cell_type": "code",
   "execution_count": null,
   "id": "aa003e20",
   "metadata": {},
   "outputs": [],
   "source": [
    "fif_exp=driver.find_element(By.XPATH,\"/html/body/div[10]/div[9]/div/div[1]/div/div/div[2]/div/div[1]/h3/a\") \n",
    "fif_exp.click()\n"
   ]
  },
  {
   "cell_type": "code",
   "execution_count": null,
   "id": "fbe4a6fa",
   "metadata": {},
   "outputs": [],
   "source": [
    "car_name=[]\n",
    "car_price=[]"
   ]
  },
  {
   "cell_type": "code",
   "execution_count": null,
   "id": "e960de6d",
   "metadata": {},
   "outputs": [],
   "source": [
    "time.sleep(3)"
   ]
  },
  {
   "cell_type": "code",
   "execution_count": null,
   "id": "27623591",
   "metadata": {},
   "outputs": [],
   "source": [
    "    for i in range(3):\n",
    "    carname=driver.find_elements(By.XPATH,'//h3[@class=\"subheader\"]')\n",
    "    carprice=driver.find_elements(By.XPATH,'//*[@id=\"article_box\"]/div[1]/div[2]/div[2]/p[4]/strong')\n",
    "    \n",
    "    for j in carname:\n",
    "        car_name.append(j.text)\n",
    "    car_name [:50] \n",
    "    \n",
    "    \n",
    "    for k in carprice:\n",
    "         car_price.append(k.text)\n",
    "    car_price[:50]"
   ]
  },
  {
   "cell_type": "code",
   "execution_count": 360,
   "id": "92f75fe7",
   "metadata": {},
   "outputs": [
    {
     "name": "stdout",
     "output_type": "stream",
     "text": [
      "0\n"
     ]
    }
   ],
   "source": [
    "print(len(car_name))"
   ]
  },
  {
   "cell_type": "code",
   "execution_count": null,
   "id": "d2ed935d",
   "metadata": {},
   "outputs": [],
   "source": []
  }
 ],
 "metadata": {
  "kernelspec": {
   "display_name": "Python 3 (ipykernel)",
   "language": "python",
   "name": "python3"
  },
  "language_info": {
   "codemirror_mode": {
    "name": "ipython",
    "version": 3
   },
   "file_extension": ".py",
   "mimetype": "text/x-python",
   "name": "python",
   "nbconvert_exporter": "python",
   "pygments_lexer": "ipython3",
   "version": "3.9.7"
  }
 },
 "nbformat": 4,
 "nbformat_minor": 5
}
