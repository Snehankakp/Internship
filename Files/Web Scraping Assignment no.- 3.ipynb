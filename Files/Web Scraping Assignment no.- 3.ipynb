{
 "cells": [
  {
   "cell_type": "markdown",
   "id": "ed61797f",
   "metadata": {},
   "source": [
    "# ASSIGNMENT NO.- 3 WEB SCRAPPING"
   ]
  },
  {
   "cell_type": "code",
   "execution_count": 16,
   "id": "b2a8d603",
   "metadata": {},
   "outputs": [],
   "source": [
    "import selenium\n",
    "import pandas as pd\n",
    "from selenium import webdriver\n",
    "from selenium.common.exceptions import StaleElementReferenceException,NoSuchElementException,ElementNotVisibleException,ElementClickInterceptedException\n",
    "from selenium.webdriver.common.by import By\n",
    "from selenium.webdriver.support.select import Select\n",
    "from selenium.webdriver.common.keys import Keys\n",
    "from selenium.webdriver.support.ui import WebDriverWait\n",
    "from selenium.webdriver.support import expected_conditions as EC\n",
    "from selenium.webdriver.common.keys import Keys\n",
    "from selenium.webdriver.common.action_chains import ActionChains\n",
    "from selenium.webdriver.chrome.options import Options\n",
    "import re\n",
    "import time\n",
    "import warnings\n",
    "import requests\n",
    "\n",
    "import selenium\n",
    "import pandas as pd\n",
    "from selenium import webdriver\n",
    "from selenium.common.exceptions import NoSuchElementException\n",
    "import time\n",
    "\n",
    "warnings.filterwarnings(\"ignore\")"
   ]
  },
  {
   "cell_type": "markdown",
   "id": "b3314106",
   "metadata": {},
   "source": [
    "### 1. Write a python program which searches all the product under a particular product vertical from www.amazon.in. The product verticals to be searched will be taken as input from user. For e.g. If user input is ‘guitar’. Then search for guitars."
   ]
  },
  {
   "cell_type": "code",
   "execution_count": 17,
   "id": "61f7480f",
   "metadata": {},
   "outputs": [],
   "source": [
    "#connecting to the webdriver\n",
    "\n",
    "driver = webdriver.Chrome()"
   ]
  },
  {
   "cell_type": "code",
   "execution_count": 18,
   "id": "5858e65c",
   "metadata": {},
   "outputs": [],
   "source": [
    "#Opening the Amazon page on automated browser\n",
    "\n",
    "URL=\" https://www.amazon.in\"\n",
    "driver.get(URL)"
   ]
  },
  {
   "cell_type": "code",
   "execution_count": 19,
   "id": "ec199f8d",
   "metadata": {},
   "outputs": [],
   "source": [
    "time.sleep(2)"
   ]
  },
  {
   "cell_type": "code",
   "execution_count": 20,
   "id": "8fb949a8",
   "metadata": {},
   "outputs": [
    {
     "name": "stdout",
     "output_type": "stream",
     "text": [
      "Enter the title of Product you are interest in search :guitar\n"
     ]
    }
   ],
   "source": [
    "# Taking input from user about product search\n",
    "\n",
    "User_input=input('Enter the title of Product you are interest in search :')\n"
   ]
  },
  {
   "cell_type": "code",
   "execution_count": 21,
   "id": "fbb0b6d2",
   "metadata": {},
   "outputs": [],
   "source": [
    "# Finding search menu by xpath\n",
    "Search=driver.find_element(By.XPATH,'//input[@id=\"twotabsearchtextbox\"]')\n",
    "# clearing any previous input in search bar\n",
    "Search.clear()\n",
    "# Feeding input specified by user to search menu through send keys\n",
    "Search.send_keys(User_input)\n",
    "# Finding Search button for clicking through xpath\n",
    "Search_button=Search=driver.find_element(By.XPATH,'//input[@id=\"nav-search-submit-button\"]')\n",
    "# Clicking search button\n",
    "Search_button.click()"
   ]
  },
  {
   "cell_type": "markdown",
   "id": "5fd4dd53",
   "metadata": {},
   "source": [
    "Q.2 In the above question, now scrape the following details of each product listed in first 3 pages of your search results and save it in a data frame and csv. In case if any product has less than 3 pages in search results then scrape all the products available under that product name. Details to be scraped are: \"Brand\n",
    "Name\", \"Name of the Product\", \"Price\", \"Return/Exchange\", \"Expected Delivery\", \"Availability\" and\n",
    "“Product URL”. In case, if any of the details are missing for any of the product then replace it by “-“."
   ]
  },
  {
   "cell_type": "code",
   "execution_count": 22,
   "id": "77dacf70",
   "metadata": {},
   "outputs": [
    {
     "data": {
      "text/plain": [
       "62"
      ]
     },
     "execution_count": 22,
     "metadata": {},
     "output_type": "execute_result"
    }
   ],
   "source": [
    "##Q2 Scrapping Data\n",
    "product_url = []\n",
    "start=0\n",
    "end=3\n",
    "for page in range(start,end):\n",
    "    url = driver.find_elements(By.XPATH,\"//a[@class='a-link-normal s-underline-text s-underline-link-text s-link-style a-text-normal']\")\n",
    "\n",
    "    \n",
    "for i in url:\n",
    "    product_urls.append(i.get_attribute('href'))\n",
    "    next_button=driver.find_element(By.CLASS_NAME,\"s-pagination-item s-pagination-next s-pagination-button s-pagination-separator\")\n",
    "    next_button.click()\n",
    "    time.sleep(3)"
   ]
  },
  {
   "cell_type": "code",
   "execution_count": 22,
   "id": "e0cc0ed5",
   "metadata": {},
   "outputs": [],
   "source": [
    "price= []\n",
    "rep = [] \n",
    "brand = []\n",
    "delivery = []\n",
    "availablity = []\n",
    "product_name = []"
   ]
  },
  {
   "cell_type": "code",
   "execution_count": null,
   "id": "fd3b8802",
   "metadata": {},
   "outputs": [],
   "source": [
    "#by using try and except we can scrap all the details by clicking on product url\n",
    "for i in product_url:\n",
    "    driver.get(i)\n",
    "    time.sleep(5)\n",
    "    try:\n",
    "        prices = driver.find_element(By.XPATH,\"/html/body/div[2]/div[2]/div[5]/div[4]/div[1]/div[3]/div/div/div/div/form/div/div/div/div/div[2]/div[1]/div/span/span[2]\")\n",
    "         #prices = driver.find_element(By.CLASS_NAME,\"a-price-whole\")     \n",
    "    price.append(prices.text.replace('\\n00',\"\"))\n",
    "    except NoSuchElementException:\n",
    "        price.append('-')\n",
    "\n",
    "    try:\n",
    "        replacement = driver.find_element(By.XPATH,\"/html/body/div[2]/div[2]/div[5]/div[4]/div[4]/div[22]/div[2]/div/div/div/div/span/div[2]/a\")\n",
    "        rep.append(replacement.text)\n",
    "    except NoSuchElementException:\n",
    "        rep.append('-')\n",
    "\n",
    "    try:\n",
    "        brands = driver.find_element(By.XPATH,\"/html/body/div[2]/div[2]/div[5]/div[4]/div[4]/div[43]/div/table/tbody/tr[3]/td[2]\")\n",
    "        brand.append(brands.text)\n",
    "    except NoSuchElementException:\n",
    "        brand.append('-')\n",
    "        \n",
    "    try:\n",
    "        deli = driver.find_element(By.XPATH,\"/html/body/div[2]/div[2]/div[5]/div[4]/div[1]/div[3]/div/div/div/div/form/div/div/div/div/div[3]/div/div[2]/div[8]/div[1]/div/div/div[1]/b\")\n",
    "        delivery.append(deli.text)\n",
    "    except NoSuchElementException:\n",
    "        delivery.append('Not Present')\n",
    "        \n",
    "    try:\n",
    "        avail = driver.find_element(By.XPATH,\"/html/body/div[2]/div[2]/div[5]/div[4]/div[1]/div[3]/div/div/div/div/form/div/div/div/div/div[3]/div/div[4]/div/div[1]/span\")\n",
    "        availablity.append(avail.text)\n",
    "    except NoSuchElementException:\n",
    "        availablity.append('-')\n",
    "        \n",
    "    try:\n",
    "        name=driver.find_element(By.XPATH,\"/html/body/div[2]/div[2]/div[5]/div[4]/div[4]/div[1]/div/h1/span\")\n",
    "        prod_name=name.text\n",
    "        product_name.append(prod_name)\n",
    "        if(prod_name == 0):\n",
    "            try:\n",
    "                name1=driver.find_element(By.XPATH,'/html/body/div[2]/div[2]/div[6]/div[4]/div[4]/div[1]/div/h1/span')\n",
    "                product_name.append(name1.text)\n",
    "            except NoSuchElementException:\n",
    "                product_name.append(\"-\")\n",
    "    except:\n",
    "        product_name.append(\"-\")\n",
    "        \n",
    "#driver.close()"
   ]
  },
  {
   "cell_type": "code",
   "execution_count": null,
   "id": "b08453cb",
   "metadata": {},
   "outputs": [],
   "source": [
    "#dataframe\n",
    "product = pd.DataFrame({'Product Name':product_name,'Brand':brand,'Price':price,'Availability':availablity,'Delivery':delivery,'Replacement/Exchange':rep,'URL':product_url})\n",
    "product"
   ]
  },
  {
   "cell_type": "markdown",
   "id": "7f13fa2d",
   "metadata": {},
   "source": [
    "# #3. Write a python program to access the search bar and search button on images.google.com and scrape 10 images each for keywords ‘fruits’, ‘cars’ and ‘Machine Learning’, ‘Guitar’, ‘Cakes’."
   ]
  },
  {
   "cell_type": "code",
   "execution_count": 24,
   "id": "db250b8d",
   "metadata": {},
   "outputs": [],
   "source": [
    "#connecting to the webdriver\n",
    "driver = webdriver.Chrome()"
   ]
  },
  {
   "cell_type": "code",
   "execution_count": 25,
   "id": "06eb02f1",
   "metadata": {},
   "outputs": [],
   "source": [
    "#Opening the Amazon page on automated browser\n",
    "imageUrl='https://www.google.co.in/imghp'\n",
    "driver.get(imageUrl)"
   ]
  },
  {
   "cell_type": "code",
   "execution_count": 26,
   "id": "dc114ed0",
   "metadata": {},
   "outputs": [],
   "source": [
    "driver.maximize_window()"
   ]
  },
  {
   "cell_type": "code",
   "execution_count": 61,
   "id": "bc82715e",
   "metadata": {},
   "outputs": [],
   "source": [
    "search_list=['fruits','cars','Machine Learning','Guitar','Cakes']"
   ]
  },
  {
   "cell_type": "code",
   "execution_count": 46,
   "id": "6b09d0e2",
   "metadata": {},
   "outputs": [],
   "source": [
    "# Scrolling window using ScrollBy method from 0 pixel to 25000 pixel\n",
    "driver.execute_script(\"window.scrollBy(0,25000)\",\"\")"
   ]
  },
  {
   "cell_type": "code",
   "execution_count": 64,
   "id": "0cffacff",
   "metadata": {},
   "outputs": [
    {
     "name": "stdout",
     "output_type": "stream",
     "text": [
      "fruits\n",
      "cars\n",
      "Machine Learning\n",
      "Guitar\n",
      "Cakes\n"
     ]
    }
   ],
   "source": [
    "for i in search_list:\n",
    "    name=i\n",
    "    print(name)\n",
    "    counter=i+str(1)\n",
    "    driver.get(imageUrl)\n",
    "    search_image=driver.find_element(By.XPATH,'/html/body/div[1]/div[3]/form/div[1]/div[1]/div[1]/div/div[2]/textarea')\n",
    "    search_image.send_keys(name)\n",
    "    time.sleep(2)\n",
    "    search_button=driver.find_element(By.XPATH,'/html/body/div[1]/div[3]/form/div[1]/div[1]/div[1]/button/div/span')\n",
    "    search_button.click()\n",
    "    time.sleep(5)\n",
    "    images = driver.find_elements(By.XPATH,\"//img[@class='rg_i Q4LuWd']\")\n",
    "    time.sleep(3)\n",
    "    img_urls = []\n",
    "    img_data = []\n",
    "    for image in images:\n",
    "        source = image.get_attribute('src')\n",
    "        if source is not None:\n",
    "            if(source[0:4] == 'http'):\n",
    "                img_urls.append(source)\n",
    "            \n",
    "        \n",
    "    for i in range(len(img_urls)):\n",
    "        if i > 10:\n",
    "            break;\n",
    "        print(\"Downloading {0} of {1} images\".format(i,10))\n",
    "        response = requests.get(img_urls[i])\n",
    "        file = open(r\"C:\\Users\\Desktop\\FlipRobo\"+counter+str(i)+\".jpg\",'wb')\n",
    "        file.write(response.content)\n",
    "        #file.close()\n",
    "driver.close()"
   ]
  },
  {
   "cell_type": "markdown",
   "id": "2e240321",
   "metadata": {},
   "source": [
    "4. Write a python program to search for a smartphone(e.g.: Oneplus Nord, pixel 4A, etc.) on www.flipkart.com and scrape following details for all the search results displayed on 1st page. Details to be scraped: “Brand Name”, “Smartphone name”, “Colour”, “RAM”, “Storage(ROM)”, “Primary Camera”,\n",
    "“Secondary Camera”, “Display Size”, “Battery Capacity”, “Price”, “Product URL”. Incase if any of the details is missing then replace it by “- “. Save your results in a dataframe and CSV."
   ]
  },
  {
   "cell_type": "code",
   "execution_count": 30,
   "id": "ef6f89cf",
   "metadata": {},
   "outputs": [],
   "source": [
    "import selenium\n",
    "import pandas as pd\n",
    "from selenium import webdriver\n",
    "from selenium.common.exceptions import StaleElementReferenceException,NoSuchElementException,ElementNotVisibleException,ElementClickInterceptedException\n",
    "from selenium.webdriver.common.by import By\n",
    "from selenium.webdriver.support.select import Select\n",
    "from selenium.webdriver.common.keys import Keys\n",
    "from selenium.webdriver.support.ui import WebDriverWait\n",
    "from selenium.webdriver.support import expected_conditions as EC\n",
    "from selenium.webdriver.common.keys import Keys\n",
    "from selenium.webdriver.common.action_chains import ActionChains\n",
    "from selenium.webdriver.chrome.options import Options\n",
    "import re\n",
    "import time\n",
    "import warnings\n",
    "import requests\n",
    "\n",
    "import selenium\n",
    "import pandas as pd\n",
    "from selenium import webdriver\n",
    "from selenium.common.exceptions import NoSuchElementException\n",
    "import time\n",
    "\n",
    "warnings.filterwarnings(\"ignore\")"
   ]
  },
  {
   "cell_type": "code",
   "execution_count": 31,
   "id": "b082602b",
   "metadata": {},
   "outputs": [],
   "source": [
    "driver = webdriver.Chrome()"
   ]
  },
  {
   "cell_type": "code",
   "execution_count": 32,
   "id": "26ad5bd1",
   "metadata": {},
   "outputs": [],
   "source": [
    "driver.maximize_window()\n",
    "url=\"https://www.flipkart.com/\"\n",
    "driver.get(url)"
   ]
  },
  {
   "cell_type": "code",
   "execution_count": 34,
   "id": "db74ff3a",
   "metadata": {},
   "outputs": [],
   "source": [
    "\n",
    "time.sleep(2)\n",
    "\n",
    "cancle_btn = driver.find_element(By.CLASS_NAME,'_30XB9F')\n",
    "cancle_btn.click()\n",
    "\n"
   ]
  },
  {
   "cell_type": "code",
   "execution_count": 35,
   "id": "b1ff59c9",
   "metadata": {},
   "outputs": [],
   "source": [
    "search_bar = driver.find_element(By.XPATH,\"/html/body/div[1]/div/div[1]/div/div/div/div/div[1]/div/div[1]/div/div[1]/div[1]/header/div[1]/div[2]/form/div/div/input\")\n",
    "search_bar.send_keys(smartphoneBrand)"
   ]
  },
  {
   "cell_type": "code",
   "execution_count": 27,
   "id": "5e1e4153",
   "metadata": {},
   "outputs": [],
   "source": [
    "srch_btn = driver.find_element(By.CLASS_NAME,\"L0Z3Pu\")\n",
    "srch_btn.click()"
   ]
  },
  {
   "cell_type": "code",
   "execution_count": 28,
   "id": "6d2be81f",
   "metadata": {},
   "outputs": [],
   "source": [
    "time.sleep(5)"
   ]
  },
  {
   "cell_type": "code",
   "execution_count": 29,
   "id": "5d311c8e",
   "metadata": {},
   "outputs": [
    {
     "data": {
      "text/html": [
       "<div>\n",
       "<style scoped>\n",
       "    .dataframe tbody tr th:only-of-type {\n",
       "        vertical-align: middle;\n",
       "    }\n",
       "\n",
       "    .dataframe tbody tr th {\n",
       "        vertical-align: top;\n",
       "    }\n",
       "\n",
       "    .dataframe thead th {\n",
       "        text-align: right;\n",
       "    }\n",
       "</style>\n",
       "<table border=\"1\" class=\"dataframe\">\n",
       "  <thead>\n",
       "    <tr style=\"text-align: right;\">\n",
       "      <th></th>\n",
       "      <th>Brand Names</th>\n",
       "      <th>Product Price</th>\n",
       "      <th>Ram Size ( GB )</th>\n",
       "      <th>Rom size</th>\n",
       "      <th>SmartPhone Color</th>\n",
       "      <th>SmartPhone Battery Size</th>\n",
       "      <th>SmartPhone Camera</th>\n",
       "      <th>SmartPhone Processor</th>\n",
       "    </tr>\n",
       "  </thead>\n",
       "  <tbody>\n",
       "    <tr>\n",
       "      <th>0</th>\n",
       "      <td>realme Narz</td>\n",
       "      <td>₹12,080</td>\n",
       "      <td>8 GB RAM</td>\n",
       "      <td>128 GB</td>\n",
       "      <td>o N53 (Feather</td>\n",
       "      <td>5000 mAh Battery</td>\n",
       "      <td>50MP Rear Camera</td>\n",
       "      <td>Domestic 1 Year on Handset and 6 Months on Acc...</td>\n",
       "    </tr>\n",
       "    <tr>\n",
       "      <th>1</th>\n",
       "      <td>realme Narz</td>\n",
       "      <td>₹12,368</td>\n",
       "      <td>8 GB RAM</td>\n",
       "      <td>128 GB</td>\n",
       "      <td>o N53 (Feather</td>\n",
       "      <td>5000 mAh Battery</td>\n",
       "      <td>50MP Rear Camera</td>\n",
       "      <td>Domestic 1 Year on Handset and 6 Months on Acc...</td>\n",
       "    </tr>\n",
       "    <tr>\n",
       "      <th>2</th>\n",
       "      <td>OnePlus N20</td>\n",
       "      <td>₹15,790</td>\n",
       "      <td>4 GB RAM</td>\n",
       "      <td>128 GB</td>\n",
       "      <td>SE (JADE WAVE</td>\n",
       "      <td>5000 mAh Battery</td>\n",
       "      <td>50MP Rear Camera</td>\n",
       "      <td>12 Month</td>\n",
       "    </tr>\n",
       "    <tr>\n",
       "      <th>3</th>\n",
       "      <td>LAVA Blaze</td>\n",
       "      <td>₹8,909</td>\n",
       "      <td>8 GB RAM</td>\n",
       "      <td>128 GB</td>\n",
       "      <td>2pro (Thunder</td>\n",
       "      <td>5000 mAh Battery</td>\n",
       "      <td>50MP Rear Camera</td>\n",
       "      <td>1 Year Handset Warranty and 6 Months Warranty ...</td>\n",
       "    </tr>\n",
       "    <tr>\n",
       "      <th>4</th>\n",
       "      <td>LAVA Blaze</td>\n",
       "      <td>₹9,117</td>\n",
       "      <td>8 GB RAM</td>\n",
       "      <td>128 GB</td>\n",
       "      <td>2pro (Cool Gre</td>\n",
       "      <td>5000 mAh Battery</td>\n",
       "      <td>50MP Rear Camera</td>\n",
       "      <td>1 Year Handset Warranty and 6 Months Warranty ...</td>\n",
       "    </tr>\n",
       "    <tr>\n",
       "      <th>5</th>\n",
       "      <td>SAMSUNG Gal</td>\n",
       "      <td>₹15,999</td>\n",
       "      <td>6 GB RAM</td>\n",
       "      <td>128 GB</td>\n",
       "      <td>axy A05s (Ligh</td>\n",
       "      <td>5000 mAh Battery</td>\n",
       "      <td>50MP + 2MP + 2MP | 13MP Front Camera</td>\n",
       "      <td>Qualcomm SM6225 Snapdragon 680 4G (6 nm) Proce...</td>\n",
       "    </tr>\n",
       "    <tr>\n",
       "      <th>6</th>\n",
       "      <td>SAMSUNG Gal</td>\n",
       "      <td>₹7,114</td>\n",
       "      <td>2 GB RAM</td>\n",
       "      <td>32 GB</td>\n",
       "      <td>axy A03 Core (</td>\n",
       "      <td>5000 mAh Battery</td>\n",
       "      <td>8MP Rear Camera</td>\n",
       "      <td>1 Year Manufacturer Warranty for Device and 6 ...</td>\n",
       "    </tr>\n",
       "    <tr>\n",
       "      <th>7</th>\n",
       "      <td>LAVA Blaze</td>\n",
       "      <td>₹8,799</td>\n",
       "      <td>8 GB RAM</td>\n",
       "      <td>128 GB</td>\n",
       "      <td>2pro (Swag Blu</td>\n",
       "      <td>5000 mAh Battery</td>\n",
       "      <td>50MP Rear Camera</td>\n",
       "      <td>1 Year Handset Warranty and 6 Months Warranty ...</td>\n",
       "    </tr>\n",
       "    <tr>\n",
       "      <th>8</th>\n",
       "      <td>Nokia C31 (</td>\n",
       "      <td>₹7,498</td>\n",
       "      <td>3 GB RAM</td>\n",
       "      <td>32 GB</td>\n",
       "      <td>Charcoal, 32 G</td>\n",
       "      <td>5050 mAh Battery</td>\n",
       "      <td>13MP Rear Camera</td>\n",
       "      <td>With a 1-year domestic replacement guarantee.</td>\n",
       "    </tr>\n",
       "    <tr>\n",
       "      <th>9</th>\n",
       "      <td>Lenovo Phab</td>\n",
       "      <td>₹10,310</td>\n",
       "      <td>3 GB RAM</td>\n",
       "      <td>32 GB</td>\n",
       "      <td>2 (Champagne</td>\n",
       "      <td>4050 mAh Li-Polymer Battery</td>\n",
       "      <td>13MP Rear Camera | 5MP Front Camera</td>\n",
       "      <td>MTK8735 Processor</td>\n",
       "    </tr>\n",
       "    <tr>\n",
       "      <th>10</th>\n",
       "      <td>Lenovo Phab</td>\n",
       "      <td>₹10,090</td>\n",
       "      <td>3 GB RAM</td>\n",
       "      <td>32 GB</td>\n",
       "      <td>2 (Gunmetal G</td>\n",
       "      <td>4050 mAh Li-Polymer Battery</td>\n",
       "      <td>13MP Rear Camera | 5MP Front Camera</td>\n",
       "      <td>MTK8735 Processor</td>\n",
       "    </tr>\n",
       "    <tr>\n",
       "      <th>11</th>\n",
       "      <td>OnePlus 9R</td>\n",
       "      <td>₹29,999</td>\n",
       "      <td>8 GB RAM</td>\n",
       "      <td>128 GB</td>\n",
       "      <td>5G (Lake Blue,</td>\n",
       "      <td>4500 mAh Battery</td>\n",
       "      <td>48MP Rear Camera</td>\n",
       "      <td>1 Year Warranty</td>\n",
       "    </tr>\n",
       "    <tr>\n",
       "      <th>12</th>\n",
       "      <td>Lenovo Phab</td>\n",
       "      <td>₹15,295</td>\n",
       "      <td>3 GB RAM</td>\n",
       "      <td>32 GB</td>\n",
       "      <td>2 Plus (Gunme</td>\n",
       "      <td>4050 mAh Li-Ion Battery</td>\n",
       "      <td>13MP + 13MP | 8MP Front Camera</td>\n",
       "      <td>MediaTek (MTK 8783) Octa-Core Processor Processor</td>\n",
       "    </tr>\n",
       "    <tr>\n",
       "      <th>13</th>\n",
       "      <td>Lenovo Phab</td>\n",
       "      <td>₹9,999</td>\n",
       "      <td>3 GB RAM</td>\n",
       "      <td>32 GB</td>\n",
       "      <td>2 Plus (Champ</td>\n",
       "      <td>4050 mAh Li-Ion Battery</td>\n",
       "      <td>13MP + 13MP | 8MP Front Camera</td>\n",
       "      <td>MediaTek (MTK 8783) Octa-Core Processor Processor</td>\n",
       "    </tr>\n",
       "    <tr>\n",
       "      <th>14</th>\n",
       "      <td>OPPO F17 PR</td>\n",
       "      <td>₹23,990</td>\n",
       "      <td>8 GB RAM</td>\n",
       "      <td>128 GB</td>\n",
       "      <td>O (Gold, 128 G</td>\n",
       "      <td>4015 mAh Battery</td>\n",
       "      <td>48MP + 48MP + 8MP + 2MP + 2MP | 16MP + 16MP Du...</td>\n",
       "      <td>MediaTek Helio P95 Processor</td>\n",
       "    </tr>\n",
       "  </tbody>\n",
       "</table>\n",
       "</div>"
      ],
      "text/plain": [
       "    Brand Names Product Price Ram Size ( GB ) Rom size SmartPhone Color  \\\n",
       "0   realme Narz       ₹12,080       8 GB RAM    128 GB   o N53 (Feather   \n",
       "1   realme Narz       ₹12,368       8 GB RAM    128 GB   o N53 (Feather   \n",
       "2   OnePlus N20       ₹15,790       4 GB RAM    128 GB    SE (JADE WAVE   \n",
       "3   LAVA Blaze         ₹8,909       8 GB RAM    128 GB   2pro (Thunder    \n",
       "4   LAVA Blaze         ₹9,117       8 GB RAM    128 GB   2pro (Cool Gre   \n",
       "5   SAMSUNG Gal       ₹15,999       6 GB RAM    128 GB   axy A05s (Ligh   \n",
       "6   SAMSUNG Gal        ₹7,114       2 GB RAM    32 GB    axy A03 Core (   \n",
       "7   LAVA Blaze         ₹8,799       8 GB RAM    128 GB   2pro (Swag Blu   \n",
       "8   Nokia C31 (        ₹7,498       3 GB RAM    32 GB    Charcoal, 32 G   \n",
       "9   Lenovo Phab       ₹10,310       3 GB RAM    32 GB     2 (Champagne    \n",
       "10  Lenovo Phab       ₹10,090       3 GB RAM    32 GB     2 (Gunmetal G   \n",
       "11  OnePlus 9R        ₹29,999       8 GB RAM    128 GB   5G (Lake Blue,   \n",
       "12  Lenovo Phab       ₹15,295       3 GB RAM    32 GB     2 Plus (Gunme   \n",
       "13  Lenovo Phab        ₹9,999       3 GB RAM    32 GB     2 Plus (Champ   \n",
       "14  OPPO F17 PR       ₹23,990       8 GB RAM    128 GB   O (Gold, 128 G   \n",
       "\n",
       "        SmartPhone Battery Size  \\\n",
       "0              5000 mAh Battery   \n",
       "1              5000 mAh Battery   \n",
       "2              5000 mAh Battery   \n",
       "3              5000 mAh Battery   \n",
       "4              5000 mAh Battery   \n",
       "5              5000 mAh Battery   \n",
       "6              5000 mAh Battery   \n",
       "7              5000 mAh Battery   \n",
       "8              5050 mAh Battery   \n",
       "9   4050 mAh Li-Polymer Battery   \n",
       "10  4050 mAh Li-Polymer Battery   \n",
       "11             4500 mAh Battery   \n",
       "12      4050 mAh Li-Ion Battery   \n",
       "13      4050 mAh Li-Ion Battery   \n",
       "14             4015 mAh Battery   \n",
       "\n",
       "                                    SmartPhone Camera  \\\n",
       "0                                    50MP Rear Camera   \n",
       "1                                    50MP Rear Camera   \n",
       "2                                    50MP Rear Camera   \n",
       "3                                    50MP Rear Camera   \n",
       "4                                    50MP Rear Camera   \n",
       "5                50MP + 2MP + 2MP | 13MP Front Camera   \n",
       "6                                     8MP Rear Camera   \n",
       "7                                    50MP Rear Camera   \n",
       "8                                    13MP Rear Camera   \n",
       "9                 13MP Rear Camera | 5MP Front Camera   \n",
       "10                13MP Rear Camera | 5MP Front Camera   \n",
       "11                                   48MP Rear Camera   \n",
       "12                     13MP + 13MP | 8MP Front Camera   \n",
       "13                     13MP + 13MP | 8MP Front Camera   \n",
       "14  48MP + 48MP + 8MP + 2MP + 2MP | 16MP + 16MP Du...   \n",
       "\n",
       "                                 SmartPhone Processor  \n",
       "0   Domestic 1 Year on Handset and 6 Months on Acc...  \n",
       "1   Domestic 1 Year on Handset and 6 Months on Acc...  \n",
       "2                                            12 Month  \n",
       "3   1 Year Handset Warranty and 6 Months Warranty ...  \n",
       "4   1 Year Handset Warranty and 6 Months Warranty ...  \n",
       "5   Qualcomm SM6225 Snapdragon 680 4G (6 nm) Proce...  \n",
       "6   1 Year Manufacturer Warranty for Device and 6 ...  \n",
       "7   1 Year Handset Warranty and 6 Months Warranty ...  \n",
       "8       With a 1-year domestic replacement guarantee.  \n",
       "9                                   MTK8735 Processor  \n",
       "10                                  MTK8735 Processor  \n",
       "11                                    1 Year Warranty  \n",
       "12  MediaTek (MTK 8783) Octa-Core Processor Processor  \n",
       "13  MediaTek (MTK 8783) Octa-Core Processor Processor  \n",
       "14                       MediaTek Helio P95 Processor  "
      ]
     },
     "execution_count": 29,
     "metadata": {},
     "output_type": "execute_result"
    }
   ],
   "source": [
    "Brand_titles=[]\n",
    "product_price=[]\n",
    "ram=[]\n",
    "rom=[]\n",
    "product_color=[]\n",
    "battery_size=[]\n",
    "product_camera=[]\n",
    "product_processor=[]\n",
    "\n",
    "Brand_tags=driver.find_elements(By.XPATH,'//div[@class=\"_4rR01T\"]')\n",
    "for i in Brand_tags:\n",
    "    Brand_titles.append(i.text[0:11])\n",
    "\n",
    "Brand_price=driver.find_elements(By.XPATH,'//div[@class=\"_30jeq3 _1_WHN1\"]')\n",
    "for i in Brand_price:\n",
    "    product_price.append(i.text)\n",
    "\n",
    "ram_p=driver.find_elements(By.XPATH,'//ul[@class=\"_1xgFaf\"]')\n",
    "for i in ram_p:\n",
    "    ram.append(i.text[0:9])\n",
    "    \n",
    "rom_p=driver.find_elements(By.XPATH,'//ul[@class=\"_1xgFaf\"]')\n",
    "for i in rom_p:\n",
    "    rom.append(i.text[11:17])    \n",
    "    \n",
    "color_p=driver.find_elements(By.XPATH,'//div[@class=\"_4rR01T\"]')\n",
    "for i in color_p:\n",
    "    product_color.append(i.text[11:25])\n",
    "    \n",
    "battery_p=driver.find_elements(By.XPATH,'//ul[@class=\"_1xgFaf\"]')\n",
    "for i in battery_p:\n",
    "    battery_size.append(i.text.splitlines()[3])\n",
    "     \n",
    "camera_p=driver.find_elements(By.XPATH,'//ul[@class=\"_1xgFaf\"]')\n",
    "for i in camera_p:\n",
    "    product_camera.append(i.text.splitlines()[2])\n",
    "    \n",
    "p_processor=driver.find_elements(By.XPATH,'//ul[@class=\"_1xgFaf\"]')\n",
    "for i in p_processor:\n",
    "    product_processor.append(i.text.splitlines()[4])\n",
    "    \n",
    "driver.close()\n",
    "    \n",
    "flipkart=pd.DataFrame({'Brand Names':Brand_titles,'Product Price':product_price,'Ram Size ( GB )':ram,'Rom size':rom,'SmartPhone Color':product_color,'SmartPhone Battery Size':battery_size,'SmartPhone Camera':product_camera,'SmartPhone Processor':product_processor})\n",
    "flipkart\n"
   ]
  },
  {
   "cell_type": "markdown",
   "id": "ff82b0f2",
   "metadata": {},
   "source": [
    "# 5. Write a program to scrap geospatial coordinates (latitude, longitude) of a city searched on google maps."
   ]
  },
  {
   "cell_type": "code",
   "execution_count": 36,
   "id": "6808f486",
   "metadata": {},
   "outputs": [],
   "source": [
    "import selenium\n",
    "import pandas as pd\n",
    "from selenium import webdriver\n",
    "from selenium.common.exceptions import StaleElementReferenceException,NoSuchElementException,ElementNotVisibleException,ElementClickInterceptedException\n",
    "from selenium.webdriver.common.by import By\n",
    "from selenium.webdriver.support.select import Select\n",
    "from selenium.webdriver.common.keys import Keys\n",
    "from selenium.webdriver.support.ui import WebDriverWait\n",
    "from selenium.webdriver.support import expected_conditions as EC\n",
    "from selenium.webdriver.common.keys import Keys\n",
    "from selenium.webdriver.common.action_chains import ActionChains\n",
    "from selenium.webdriver.chrome.options import Options\n",
    "import re\n",
    "import time\n",
    "import warnings\n",
    "import requests\n",
    "\n",
    "import selenium\n",
    "import pandas as pd\n",
    "from selenium import webdriver\n",
    "from selenium.common.exceptions import NoSuchElementException\n",
    "import time\n",
    "\n",
    "warnings.filterwarnings(\"ignore\")"
   ]
  },
  {
   "cell_type": "code",
   "execution_count": 68,
   "id": "dd5c08f7",
   "metadata": {},
   "outputs": [],
   "source": [
    "driver = webdriver.Chrome()"
   ]
  },
  {
   "cell_type": "code",
   "execution_count": 69,
   "id": "9b87478d",
   "metadata": {},
   "outputs": [],
   "source": [
    "driver.maximize_window()\n",
    "url=\"https://www.google.com/maps/\"\n",
    "driver.get(url)"
   ]
  },
  {
   "cell_type": "code",
   "execution_count": 39,
   "id": "2da93e87",
   "metadata": {},
   "outputs": [
    {
     "name": "stdout",
     "output_type": "stream",
     "text": [
      "Enter city name for which coordinates is required : Boisar\n"
     ]
    }
   ],
   "source": [
    "user_input=input(\"Enter city name for which coordinates is required : \")\n",
    "\n",
    "time.sleep(5)"
   ]
  },
  {
   "cell_type": "code",
   "execution_count": 40,
   "id": "17c2807d",
   "metadata": {},
   "outputs": [
    {
     "name": "stdout",
     "output_type": "stream",
     "text": [
      "URL Extracted : https://www.google.com/maps/place/Boisar,+Maharashtra/@19.185664,72.9710592,14z/data=!4m6!3m5!1s0x3be71e39499f5823:0x694aa59b0babcdca!8m2!3d19.7968929!4d72.7451817!16zL20vMGQzODdn?entry=ttu\n"
     ]
    },
    {
     "data": {
      "text/html": [
       "<div>\n",
       "<style scoped>\n",
       "    .dataframe tbody tr th:only-of-type {\n",
       "        vertical-align: middle;\n",
       "    }\n",
       "\n",
       "    .dataframe tbody tr th {\n",
       "        vertical-align: top;\n",
       "    }\n",
       "\n",
       "    .dataframe thead th {\n",
       "        text-align: right;\n",
       "    }\n",
       "</style>\n",
       "<table border=\"1\" class=\"dataframe\">\n",
       "  <thead>\n",
       "    <tr style=\"text-align: right;\">\n",
       "      <th></th>\n",
       "      <th>Enter Location</th>\n",
       "      <th>latitude</th>\n",
       "      <th>longitude</th>\n",
       "    </tr>\n",
       "  </thead>\n",
       "  <tbody>\n",
       "    <tr>\n",
       "      <th>0</th>\n",
       "      <td>Boisar</td>\n",
       "      <td>19.185664</td>\n",
       "      <td>72.9710592</td>\n",
       "    </tr>\n",
       "  </tbody>\n",
       "</table>\n",
       "</div>"
      ],
      "text/plain": [
       "  Enter Location   latitude   longitude\n",
       "0         Boisar  19.185664  72.9710592"
      ]
     },
     "execution_count": 40,
     "metadata": {},
     "output_type": "execute_result"
    }
   ],
   "source": [
    "search=driver.find_element(By.XPATH,'//input[@autofocus=\"autofocus\"]')\n",
    "search.click()\n",
    "search.send_keys(user_input)\n",
    "search_button=driver.find_element(By.ID,'searchbox-searchbutton')\n",
    "search_button.click()\n",
    "time.sleep(5)\n",
    "lat=[]\n",
    "long=[]\n",
    "try:\n",
    "    url_string = driver.current_url\n",
    "    print(\"URL Extracted :\",url_string)\n",
    "    lat_long = re.findall(r'@(.*)data',url_string)\n",
    "    if len(lat_long):\n",
    "        lat_long_list = lat_long[0].split(\",\")\n",
    "        if len(lat_long_list)>=2:\n",
    "            lat.append(lat_long_list[0])\n",
    "            long.append(lat_long_list[1])\n",
    "except Exception as e:\n",
    "    print(\"error:\",str(e))\n",
    "\n",
    "time.sleep(2)\n",
    "driver.close()\n",
    "\n",
    "location_data=pd.DataFrame({'Enter Location':user_input,'latitude':lat,'longitude':long})\n",
    "location_data"
   ]
  },
  {
   "cell_type": "markdown",
   "id": "b327a3c3",
   "metadata": {},
   "source": [
    "# 6. Write a program to scrap all the available details of top 10 laptops from digit.in."
   ]
  },
  {
   "cell_type": "code",
   "execution_count": 52,
   "id": "0bb1899c",
   "metadata": {},
   "outputs": [],
   "source": [
    "import selenium\n",
    "import pandas as pd\n",
    "from selenium import webdriver\n",
    "from selenium.common.exceptions import StaleElementReferenceException,NoSuchElementException,ElementNotVisibleException,ElementClickInterceptedException\n",
    "from selenium.webdriver.common.by import By\n",
    "from selenium.webdriver.support.select import Select\n",
    "from selenium.webdriver.common.keys import Keys\n",
    "from selenium.webdriver.support.ui import WebDriverWait\n",
    "from selenium.webdriver.support import expected_conditions as EC\n",
    "from selenium.webdriver.common.keys import Keys\n",
    "from selenium.webdriver.common.action_chains import ActionChains\n",
    "from selenium.webdriver.chrome.options import Options\n",
    "import re\n",
    "import time\n",
    "import warnings\n",
    "import requests\n",
    "\n",
    "import selenium\n",
    "import pandas as pd\n",
    "from selenium import webdriver\n",
    "from selenium.common.exceptions import NoSuchElementException\n",
    "import time\n",
    "\n",
    "warnings.filterwarnings(\"ignore\")"
   ]
  },
  {
   "cell_type": "code",
   "execution_count": 71,
   "id": "d7b7a29a",
   "metadata": {},
   "outputs": [],
   "source": [
    "driver = webdriver.Chrome()"
   ]
  },
  {
   "cell_type": "code",
   "execution_count": 72,
   "id": "b83ceed6",
   "metadata": {},
   "outputs": [],
   "source": [
    "driver.maximize_window()\n",
    "url=\"https://www.digit.in/\"\n",
    "driver.get(url)"
   ]
  },
  {
   "cell_type": "code",
   "execution_count": 55,
   "id": "ab684a16",
   "metadata": {},
   "outputs": [],
   "source": [
    "time.sleep(3)"
   ]
  },
  {
   "cell_type": "code",
   "execution_count": 73,
   "id": "ab64d34e",
   "metadata": {},
   "outputs": [],
   "source": [
    "#To click on top button\n",
    "laptop=driver.find_element(By.XPATH,'//*[@id=\"menu-item-291178\"]/a')\n",
    "laptop.click()\n",
    "time.sleep(3)"
   ]
  },
  {
   "cell_type": "code",
   "execution_count": 74,
   "id": "7218001c",
   "metadata": {},
   "outputs": [],
   "source": [
    "top_laptop=driver.find_element(By.XPATH,\"/html/body/div[1]/div[3]/div/div[2]/div[1]/div[3]/div[6]/p/a\")\n",
    "top_laptop.click()"
   ]
  },
  {
   "cell_type": "code",
   "execution_count": 75,
   "id": "c43c489b",
   "metadata": {},
   "outputs": [],
   "source": [
    "time.sleep(3)"
   ]
  },
  {
   "cell_type": "code",
   "execution_count": 76,
   "id": "b870c404",
   "metadata": {},
   "outputs": [],
   "source": [
    "laptop_name=[]\n",
    "laptop_os=[]\n",
    "laptop_display=[]\n",
    "processor=[]\n",
    "storage=[]\n",
    "product_price = []\n",
    "product_description =[]\n"
   ]
  },
  {
   "cell_type": "code",
   "execution_count": 78,
   "id": "05370f70",
   "metadata": {},
   "outputs": [
    {
     "data": {
      "text/html": [
       "<div>\n",
       "<style scoped>\n",
       "    .dataframe tbody tr th:only-of-type {\n",
       "        vertical-align: middle;\n",
       "    }\n",
       "\n",
       "    .dataframe tbody tr th {\n",
       "        vertical-align: top;\n",
       "    }\n",
       "\n",
       "    .dataframe thead th {\n",
       "        text-align: right;\n",
       "    }\n",
       "</style>\n",
       "<table border=\"1\" class=\"dataframe\">\n",
       "  <thead>\n",
       "    <tr style=\"text-align: right;\">\n",
       "      <th></th>\n",
       "      <th>Laptop Name</th>\n",
       "      <th>OS</th>\n",
       "      <th>Display</th>\n",
       "      <th>Graphics Processor</th>\n",
       "      <th>Memory</th>\n",
       "      <th>Price</th>\n",
       "      <th>Description</th>\n",
       "    </tr>\n",
       "  </thead>\n",
       "  <tbody>\n",
       "  </tbody>\n",
       "</table>\n",
       "</div>"
      ],
      "text/plain": [
       "Empty DataFrame\n",
       "Columns: [Laptop Name, OS, Display, Graphics Processor, Memory, Price, Description]\n",
       "Index: []"
      ]
     },
     "execution_count": 78,
     "metadata": {},
     "output_type": "execute_result"
    }
   ],
   "source": [
    "lpName=driver.find_elements(By.XPATH,\"//div[@class='TopNumbeHeading active sticky-footer']\")\n",
    "for i in lpName:\n",
    "    l_name=i.text.split(\"\\n\")[1]\n",
    "    laptop_name.append(lp_name)\n",
    "    \n",
    "spec=driver.find_elements(By.XPATH,\"//div[@class='Specs-Wrap']\")\n",
    "for i in spec:\n",
    "    lp_spec=i.text.replace(\"OS\",\"OS $\").replace(\"DISPLAY\",\"DISPLAY $\").replace(\"PROCESSOR\",\"PROCESSOR $\").replace(\"\\n\",\"\")\n",
    "    lpSpec=lp_spec.split(\"$\")\n",
    "    laptop_os.append(lpSpec[0])\n",
    "    laptop_display.append(lpSpec[1])\n",
    "    processor.append(lpSpec[2])\n",
    "    storage.append(lpSpec[3])\n",
    "    \n",
    "description = driver.find_elements(By.XPATH,\"//div[@class='Section-center']\")\n",
    "for i in description:\n",
    "    product_description.append(str(i.text).replace(\"\\n\",\"\"))\n",
    "\n",
    "\n",
    "price = driver.find_elements(By.XPATH,\"//td[@class='smprice']\")\n",
    "for i in price:\n",
    "    product_price.append(i.text.replace(\"\\n\",\"\"))\n",
    "\n",
    "time.sleep(5)\n",
    "driver.close()\n",
    "\n",
    "laptop_dataframe=pd.DataFrame({'Laptop Name':laptop_names,'OS':laptop_os,'Display':laptop_display,'Graphics Processor':processor,'Memory':storage,'Price':product_price,'Description':product_description})\n",
    "laptop_dataframe"
   ]
  },
  {
   "cell_type": "markdown",
   "id": "44992669",
   "metadata": {},
   "source": [
    "# Another method"
   ]
  },
  {
   "cell_type": "code",
   "execution_count": 121,
   "id": "cf112772",
   "metadata": {},
   "outputs": [],
   "source": [
    "driver = webdriver.Chrome()"
   ]
  },
  {
   "cell_type": "code",
   "execution_count": 122,
   "id": "f4148a49",
   "metadata": {},
   "outputs": [],
   "source": [
    "driver.maximize_window()\n",
    "url=\"https://www.digit.in/\"\n",
    "driver.get(url)"
   ]
  },
  {
   "cell_type": "code",
   "execution_count": 123,
   "id": "fb9e90c5",
   "metadata": {},
   "outputs": [],
   "source": [
    "time.sleep(3)"
   ]
  },
  {
   "cell_type": "code",
   "execution_count": 128,
   "id": "2d0732ad",
   "metadata": {},
   "outputs": [],
   "source": [
    "# Clicking on top 10 option button in menu bar\n",
    "\n",
    "laptop=driver.find_element(By.XPATH,'//*[@id=\"menu-item-291178\"]/a')\n",
    "laptop.click()\n",
    "time.sleep(3)"
   ]
  },
  {
   "cell_type": "code",
   "execution_count": 131,
   "id": "024afdcb",
   "metadata": {},
   "outputs": [],
   "source": [
    "#Clicking on Top 10 laptops\n",
    "toplap=driver.find_element(By.XPATH,'/html/body/div[1]/div[3]/div/div[2]/div[1]/div[3]/div[6]/p/a')\n",
    "toplap.click()\n",
    "time.sleep(3)"
   ]
  },
  {
   "cell_type": "code",
   "execution_count": 140,
   "id": "f2f2e001",
   "metadata": {},
   "outputs": [],
   "source": [
    "laptop_name=[]\n",
    "laptop_os=[]\n",
    "laptop_display=[]\n",
    "resolution=[]\n",
    "processor=[]\n"
   ]
  },
  {
   "cell_type": "code",
   "execution_count": 151,
   "id": "9d5c9c4d",
   "metadata": {},
   "outputs": [],
   "source": [
    "# Extracting Laptop model via Xpath\n",
    "for page in range(0,5):\n",
    "    la_name=driver.find_elements(By.XPATH,'//div[@class=\"rh_gr_top_middle mb10 colored_rate_bar\"]')\n",
    "   # laptop_name.format(i)\n",
    "    for i in la_name:\n",
    "        Laptop_name=i.text\n",
    "        laptop_name.append(Laptop_name)"
   ]
  },
  {
   "cell_type": "code",
   "execution_count": 154,
   "id": "807b8341",
   "metadata": {},
   "outputs": [
    {
     "name": "stdout",
     "output_type": "stream",
     "text": [
      "42\n"
     ]
    }
   ],
   "source": [
    "print(len(laptop_name))"
   ]
  },
  {
   "cell_type": "code",
   "execution_count": null,
   "id": "f40ecccc",
   "metadata": {},
   "outputs": [],
   "source": [
    "lName=driver.find_elements(By.XPATH,\"//*[@id=\"rh_woorows_2022087281\"]/div/div[2]/div[3]/div[2]/div[1]/div/span[1]\")\n",
    "for i in lName:\n",
    "    l_name=i.text.split(\"\\n\")[1]\n",
    "    laptop_name.append(l_name)"
   ]
  },
  {
   "cell_type": "code",
   "execution_count": null,
   "id": "1efcdeae",
   "metadata": {},
   "outputs": [],
   "source": [
    "lName=driver.find_elements(By.XPATH,\"//div[@class='TopNumbeHeading active sticky-footer']\")\n",
    "for i in lName:\n",
    "    l_name=i.text.split(\"\\n\")[1]\n",
    "    laptop_name.append(l_name)"
   ]
  },
  {
   "cell_type": "code",
   "execution_count": null,
   "id": "35eba0e4",
   "metadata": {},
   "outputs": [],
   "source": [
    "lName=driver.find_elements(By.XPATH,\"//div[@class='TopNumbeHeading active sticky-footer']\")\n",
    "for i in lName:\n",
    "    l_name=i.text.split(\"\\n\")[1]\n",
    "    laptop_name.append(l_name)"
   ]
  },
  {
   "cell_type": "code",
   "execution_count": null,
   "id": "ad81d232",
   "metadata": {},
   "outputs": [],
   "source": [
    "lName=driver.find_elements(By.XPATH,\"//div[@class='TopNumbeHeading active sticky-footer']\")\n",
    "for i in lName:\n",
    "    l_name=i.text.split(\"\\n\")[1]\n",
    "    laptop_name.append(l_name)"
   ]
  },
  {
   "cell_type": "code",
   "execution_count": 110,
   "id": "4a53ca58",
   "metadata": {},
   "outputs": [],
   "source": [
    "spec=driver.find_elements(By.XPATH,'//div[@class=\"rh-flex-center-align\"]')\n",
    "for i in spec:\n",
    "    lp_spec=i.text.replace(\"OS\",\"OS $\").replace(\"DISPLAY\",\"DISPLAY $\").replace(\"RESOLUTION\",\"RESOLUTION $\").replace(\"PROCESSOR\",\"PROCESSOR $\").replace(\"\\n\",\"\")\n",
    "    lpspec=lp_spec.split(\"$\")\n",
    "    laptop_os.append(lpSpec)\n",
    "    laptop_display.append(lpSpec)\n",
    "    resolution.append(lpSpec)\n",
    "    processor.append(lpSpec)"
   ]
  },
  {
   "cell_type": "code",
   "execution_count": 120,
   "id": "c6608655",
   "metadata": {},
   "outputs": [
    {
     "name": "stdout",
     "output_type": "stream",
     "text": [
      "['Operating System:iOS ', 'Operating System:iOS ', 'Operating System:iOS ', 'iOS', '13.6', '2560 x 1600', 'Apple M2', 'Windows 11 Home', '14', '2880 x 1800', '13th Gen Intel Core i7-1360P', 'Mac', '14.2', 'Windows 11', '13.4', '3840 x 2400', '12th Gen Intel EVO Core i7-1260P', 'Windows 11 Home', '16', '1920 x 1080', '11th Gen Intel Core i7-11390H', 'iOS', 'Operating System:iOS ', 'iOS', 'Operating System:iOS ', ['Operating System:iOS ', 'Display Size :13.6Resolution :2560 x 1600Processor :Apple M2'], ['Operating System:iOS ', 'Display Size :13.6Resolution :2560 x 1600Processor :Apple M2'], ['Operating System:iOS ', 'Display Size :13.6Resolution :2560 x 1600Processor :Apple M2'], ['Operating System:iOS ', 'Display Size :13.6Resolution :2560 x 1600Processor :Apple M2'], ['Operating System:iOS ', 'Display Size :13.6Resolution :2560 x 1600Processor :Apple M2'], ['Operating System:iOS ', 'Display Size :13.6Resolution :2560 x 1600Processor :Apple M2'], ['Operating System:iOS ', 'Display Size :13.6Resolution :2560 x 1600Processor :Apple M2'], ['Operating System:iOS ', 'Display Size :13.6Resolution :2560 x 1600Processor :Apple M2'], ['Operating System:iOS ', 'Display Size :13.6Resolution :2560 x 1600Processor :Apple M2'], ['Operating System:iOS ', 'Display Size :13.6Resolution :2560 x 1600Processor :Apple M2'], ['Operating System:iOS ', 'Display Size :13.6Resolution :2560 x 1600Processor :Apple M2'], ['Operating System:iOS ', 'Display Size :13.6Resolution :2560 x 1600Processor :Apple M2'], ['Operating System:iOS ', 'Display Size :13.6Resolution :2560 x 1600Processor :Apple M2'], ['Operating System:iOS ', 'Display Size :13.6Resolution :2560 x 1600Processor :Apple M2'], ['Operating System:iOS ', 'Display Size :13.6Resolution :2560 x 1600Processor :Apple M2'], ['Operating System:iOS ', 'Display Size :13.6Resolution :2560 x 1600Processor :Apple M2'], ['Operating System:iOS ', 'Display Size :13.6Resolution :2560 x 1600Processor :Apple M2'], ['Operating System:iOS ', 'Display Size :13.6Resolution :2560 x 1600Processor :Apple M2']]\n"
     ]
    }
   ],
   "source": [
    "print((laptop_os))"
   ]
  },
  {
   "cell_type": "code",
   "execution_count": 111,
   "id": "61a25c4c",
   "metadata": {},
   "outputs": [],
   "source": [
    "time.sleep(5)\n",
    "driver.close()"
   ]
  },
  {
   "cell_type": "markdown",
   "id": "5ff14187",
   "metadata": {},
   "source": [
    "# 7. Write a python program to scrape the details for all billionaires from www.forbes.com. Details to be scrapped: “Rank”, “Name”, “Net worth”, “Age”, “Citizenship”, “Source”, “Industry”."
   ]
  },
  {
   "cell_type": "code",
   "execution_count": 206,
   "id": "d33cd4f3",
   "metadata": {},
   "outputs": [],
   "source": [
    "import selenium\n",
    "import pandas as pd\n",
    "from selenium import webdriver\n",
    "from selenium.common.exceptions import (\n",
    "    StaleElementReferenceException,\n",
    "    NoSuchElementException,\n",
    ")\n",
    "from selenium.webdriver.common.by import By\n",
    "from selenium.webdriver.support.select import Select\n",
    "from selenium.webdriver.common.keys import Keys\n",
    "from selenium.webdriver.support.ui import WebDriverWait\n",
    "from selenium.webdriver.support import expected_conditions as EC\n",
    "from selenium.webdriver.common.keys import Keys\n",
    "from selenium.webdriver.common.action_chains import ActionChains\n",
    "import re\n",
    "import time\n",
    "import warnings\n",
    "import requests\n",
    "\n",
    "warnings.filterwarnings(\"ignore\")"
   ]
  },
  {
   "cell_type": "code",
   "execution_count": 155,
   "id": "6811e2a6",
   "metadata": {},
   "outputs": [],
   "source": [
    "driver = webdriver.Chrome()"
   ]
  },
  {
   "cell_type": "code",
   "execution_count": 158,
   "id": "984fd336",
   "metadata": {},
   "outputs": [],
   "source": [
    "driver.maximize_window()\n",
    "url=\"https://www.forbes.com\"\n",
    "driver.get(url)"
   ]
  },
  {
   "cell_type": "code",
   "execution_count": 159,
   "id": "25dbe02b",
   "metadata": {},
   "outputs": [],
   "source": [
    "#Try block to navigating to page all billionaires page\n",
    "try:\n",
    "    menu=driver.find_element(By.XPATH,\"//div[@class='header__left']\")\n",
    "    menu.click()\n",
    "    \n",
    "    billionaires=driver.find_element(By.XPATH,\"//li[@data-title='Billionaires']\")\n",
    "    billionaires.click()\n",
    "\n",
    "    worldBillionaires=driver.find_element(By.XPATH,'/html/body/div[1]/header/nav/div[3]/ul/li[1]/div[2]/ul/li[2]/a')\n",
    "    worldBillionaires.click()\n",
    "    \n",
    "except NoSuchElementException:\n",
    "    #Except block if try block doesn't works \n",
    "    driver.get(\"https://www.forbes.com/billionaires/\")"
   ]
  },
  {
   "cell_type": "code",
   "execution_count": 212,
   "id": "ffc5108e",
   "metadata": {},
   "outputs": [],
   "source": [
    "# Empty list to scrap data\n",
    "Rank =[]\n",
    "detail=[]\n",
    "Name=[]\n",
    "Net_worth=[]\n",
    "Age=[]\n",
    "Citizenship=[]\n",
    "Source=[]\n",
    "Industry=[]"
   ]
  },
  {
   "cell_type": "code",
   "execution_count": 213,
   "id": "a1d5bc5e",
   "metadata": {},
   "outputs": [],
   "source": [
    "# Extracting Rank No\n",
    "rank=driver.find_elements(By.XPATH,'//div[@class=\"rank\"]')\n",
    "#rank=driver.find_elements(By.XPATH,'//div[@class=\"Table_rank___YBhk Table_dataCell__2QCve\"]')\n",
    "for i in rank:\n",
    "    Rank.append(i.text)"
   ]
  },
  {
   "cell_type": "code",
   "execution_count": 198,
   "id": "59f54390",
   "metadata": {},
   "outputs": [],
   "source": [
    "# Extacting detail\n",
    "detail=driver.find_elements(By.XPATH,'//div[@class=\"Table_dataCell__2QCve\"]')\n",
    "for i in detail[200]:\n",
    "    detail.append(i.text)"
   ]
  },
  {
   "cell_type": "code",
   "execution_count": 201,
   "id": "5abbfffb",
   "metadata": {},
   "outputs": [
    {
     "name": "stdout",
     "output_type": "stream",
     "text": [
      "['Bernard Arnault & family', 'Jeff Bezos', 'Jeff Bezos', 'Bernard Arnault & family', '74', 'LVMH', '', 'Elon Musk', '51', 'Tesla, SpaceX', '', 'Jeff Bezos', '59', 'Amazon', '', 'Larry Ellison', '78', 'Oracle', '', 'Warren Buffett', '92', 'Berkshire Hathaway', '', 'Bill Gates', '67', 'Microsoft', '', 'Michael Bloomberg', '81', 'Bloomberg LP', '', 'Carlos Slim Helu & family', '83', 'Telecom', '', 'Mukesh Ambani', '65', 'Diversified', '', 'Steve Ballmer', '67', 'Microsoft', '', 'Francoise Bettencourt Meyers & family', '69', \"L'Oréal\", '', 'Larry Page', '50', 'Google', '', 'Amancio Ortega', '87', 'Zara', '', 'Sergey Brin', '49', 'Google', '', 'Zhong Shanshan', '68', 'Beverages, pharmaceuticals', '', 'Mark Zuckerberg', '38', 'Facebook', '', 'Charles Koch & family', '87', 'Koch Industries', '', 'Julia Koch & family', '60', 'Koch Industries', '', 'Jim Walton', '74', 'Walmart', '', 'Rob Walton & family', '78', 'Walmart', '', 'Alice Walton', '73', 'Walmart', '', 'David Thomson & family', '65', 'Media', '', 'Michael Dell', '58', 'Dell Technologies', '', 'Gautam Adani', '60', 'Infrastructure, commodities', '', 'Phil Knight & family', '85', 'Nike', '', 'Zhang Yiming', '39', 'TikTok', '', 'Dieter Schwarz', '83', 'Retail', '', 'François Pinault & family', '86', 'Luxury goods', '', 'Klaus-Michael Kuehne', '85', 'Shipping', '', 'Giovanni Ferrero', '58', 'Nutella, chocolates', '', 'Jacqueline Mars', '83', 'Candy, pet food', '', 'John Mars', '87', 'Candy, pet food', '', 'Li Ka-shing', '94', 'Diversified', '', 'Ma Huateng', '51', 'Internet media', '', 'Miriam Adelson & family', '77', 'Casinos', '', 'Ken Griffin', '54', 'Hedge funds', '', 'Mark Mateschitz', '30', 'Red Bull', '', 'Robin Zeng', '54', 'Batteries', '', 'Tadashi Yanai & family', '74', 'Fashion retail', '', 'Len Blavatnik', '65', 'Music, chemicals', '', 'Alain Wertheimer', '74', 'Chanel', '', 'Gerard Wertheimer', '72', 'Chanel', '', 'Gianluigi Aponte', '82', 'Shipping', '', 'Rafaela Aponte-Diamant', '78', 'Shipping', '', 'Colin Huang', '43', 'E-commerce', '', 'Reinhold Wuerth & family', '87', 'Fasteners', '', 'Lee Shau Kee', '95', 'Real estate', '', 'Jeff Yass', '64', 'Trading, investments', '', 'Jim Simons', '84', 'Hedge funds', '', 'Stephen Schwarzman', '76', 'Investments', '', 'Susanne Klatten', '60', 'BMW, pharmaceuticals', '', 'Gina Rinehart', '69', 'Mining', '', 'William Ding', '51', 'Online games', '', 'Germán Larrea Mota Velasco & family', '69', 'Mining', '', 'Shiv Nadar', '77', 'software services', '', 'Low Tuck Kwong', '74', 'Coal', '', 'Thomas Peterffy', '78', 'Discount brokerage', '', 'Andrey Melnichenko & family', '51', 'Fertilizers, coal', '', 'Stefan Quandt', '56', 'BMW', '', 'MacKenzie Scott', '52', 'Amazon', '', 'R. Budi Hartono', '82', 'Banking, tobacco', '', 'Vladimir Potanin', '62', 'Metals', '', 'Jack Ma', '58', 'E-commerce', '', 'He Xiangjian & family', '80', 'Home appliances', '', 'Iris Fontbona & family', '80', 'Mining', '', 'Michael Hartono', '83', 'Banking, tobacco', '', 'James Ratcliffe', '70', 'Chemicals', '', 'Cyrus Poonawalla', '81', 'Vaccines', '', 'Masayoshi Son', '65', 'Internet, telecom', '', 'Vladimir Lisin', '66', 'Steel, transport', '', 'Emmanuel Besnier', '52', 'Cheese', '', 'Abigail Johnson', '61', 'Fidelity', '', 'Leonid Mikhelson & family', '67', 'Gas, chemicals', '', 'Lukas Walton', '36', 'Walmart', '', 'Wang Wei', '52', 'Package delivery', '', 'Jensen Huang', '60', 'Semiconductors', '', 'Leonard Lauder', '90', 'Estee Lauder', '', 'Takemitsu Takizaki', '77', 'Sensors', '', 'Alexey Mordashov & family', '57', 'Steel, investments', '', 'Vagit Alekperov', '72', 'Oil', '', 'Thomas Frist, Jr. & family', '84', 'Hospitals', '', 'Andrew Forrest', '61', 'Mining', '', 'Ray Dalio', '73', 'Hedge funds', '', 'Eric Li', '59', 'Automobiles', '', 'Wang Wenyin', '55', 'Mining, copper products', '', 'Eyal Ofer', '72', 'Real estate, shipping', '', 'Qin Yinglin', '57', 'Pig breeding', '', 'Wang Chuanfu', '57', 'Batteries, automobiles', '', 'Harold Hamm & family', '77', 'Oil & gas', '', 'David Tepper', '65', 'Hedge funds', '', 'Gennady Timchenko', '70', 'Oil, gas', '', 'Daniel Gilbert', '61', 'Quicken Loans', '', 'Lakshmi Mittal', '72', 'Steel', '', 'Steve Cohen', '66', 'Hedge funds', '', 'Carl Icahn', '87', 'Investments', '', 'Savitri Jindal & family', '73', 'Steel', '', 'Donald Bren', '90', 'Real estate', '', 'John Menard, Jr.', '83', 'Home improvement stores', '', 'Rupert Murdoch & family', '92', 'Newspapers, TV network', '', 'Vicky Safra & family', '70', 'Banking', '', 'Theo Albrecht, Jr. & family', '72', \"Aldi, Trader Joe's\", '', 'Renata Kellnerova & family', '55', 'Finance, telecommunications', '', 'Li Xiting', '72', 'medical devices', '', 'Stefan Persson', '75', 'H&M', '', 'Eric Schmidt', '67', 'Google', '', 'Michael Platt', '55', 'Hedge funds', '', 'Pang Kang', '67', 'Soy sauce', '', 'Karl Albrecht Jr. & family', 'N/A', 'Supermarkets', '', 'Beate Heister', 'N/A', 'Supermarkets', '', 'Jorge Paulo Lemann & family', '83', 'Beer', '', 'Peter Woo', '76', 'Real estate', '', 'Dilip Shanghvi', '67', 'Pharmaceuticals', '', 'Robert Pera', '45', 'Wireless networking', '', 'Radhakishan Damani', '68', 'Retail, investments', '', 'Huang Shilin', '56', 'Batteries', '', 'Dhanin Chearavanont', '83', 'Diversified', '', 'David Green & family', '81', 'Retail', '', 'Charoen Sirivadhanabhakdi', '78', 'Alcohol, real estate', '', 'Charlene de Carvalho-Heineken & family', '68', 'Heineken', '', 'Xu Hang', '60', 'Medical devices', '', 'Wei Jianjun & family', '59', 'Automobiles', '', 'Alisher Usmanov', '69', 'Steel, telecom, investments', '', 'Goh Cheng Liang', '95', 'Paints', '', 'Kumar Birla', '55', 'Commodities', '', 'Aliko Dangote', '65', 'Cement, sugar', '', 'Kwong Siu-hing', '93', 'Real estate', '', 'Idan Ofer', '67', 'Shipping', '', 'Chen Bang', '57', 'Hospitals', '', 'Lui Che Woo', '94', 'Casinos/hotels', '', 'John Fredriksen', '78', 'Shipping', '', 'Diane Hendricks', '76', 'Building supplies', '', 'Jan Koum', '47', 'WhatsApp', '', 'Jerry Jones', '80', 'Dallas Cowboys', '', 'George Kaiser', '80', 'Oil & gas, banking', '', 'Joseph Lau', '71', 'Real estate', '', 'Lu Xiangyang', '60', 'Automobiles, batteries', '', 'Harry Triguboff', '90', 'Real estate', '', 'Uday Kotak', '64', 'Banking', '', 'Stanley Kroenke', '75', 'Sports, real estate', '', 'Mikhail Fridman', '58', 'Oil, banking, telecom', '', 'Sarath Ratanavadi', '57', 'Energy', '', 'Dang Yanbao', '50', 'Coal', '', 'Jiang Rensheng & family', '69', 'Vaccines', '', 'Shahid Khan', '72', 'Auto parts', '', 'Laurene Powell Jobs & family', '59', 'Apple, Disney', '', 'Robert Kuok', '99', 'Palm oil, shipping, property', '', 'Stephen Ross', '82', 'Real estate', '', 'Pavel Durov', '38', 'Messaging app', '', 'Andreas Struengmann & family', '73', 'Pharmaceuticals', '', 'Thomas Struengmann & family', '73', 'Pharmaceuticals', '', 'Liu Hanyuan', '59', 'Agribusiness', '', 'Michael Rubin', '50', 'Online retail', '', 'Israel Englander', '74', 'Hedge funds', '', 'Viatcheslav Kantor', '69', 'Fertilizer, real estate', '', 'Anthony Pratt', '62', 'Manufacturing', '', 'Mikhail Prokhorov', '57', 'Investments', '', 'Giorgio Armani', '88', 'Luxury goods', '', 'Johann Rupert & family', '72', 'Luxury goods', '', 'Gong Hongjia & family', '58', 'Video surveillance', '', 'Zhang Zhidong', '51', 'Internet media', '', 'Philip Anschutz', '83', 'Energy, sports, entertainment', '', 'Judy Love & family', '85', 'Gas stations', '', 'Ricardo Salinas Pliego & family', '67', 'Retail, media', '', 'Donald Newhouse', '93', 'Media', '', 'Robert Kraft', '81', 'Manufacturing, New England Patriots', '', 'Marcel Herrmann Telles', '73', 'Beer', '', 'Suleiman Kerimov & family', '57', 'Gold', '', 'Sky Xu', '39', 'E-commerce', '', 'Changpeng Zhao', '45', 'Cryptocurrency exchange', '', 'Andrew Beal', '70', 'Banks, real estate', '', 'Mike Cannon-Brookes', '43', 'Software', '', 'Carl Cook', '60', 'Medical devices', '', 'David Duffield', '82', 'Business software', '', 'Jeffery Hildebrand', '64', 'Oil', '', 'Viktor Rashnikov', '74', 'Steel', '', 'Eduardo Saverin', '41', 'Facebook', '', 'Georg Schaeffler', '58', 'Auto parts', '', 'Christy Walton', '74', 'Walmart', '', 'Scott Farquhar', '43', 'Software', '', 'Quek Leng Chan', '81', 'Banking, property', '', 'Wu Yajun', '59', 'Real estate', '', 'Autry Stephens', '85', 'Oil', '', 'Liu Yongxing', '74', 'Diversified', '', 'Vinod Adani', '74', 'Infrastructure, commodities', '', 'Nicolas Puech', '80', 'Hermes', '', 'Jacques Saadé, Jr.', '51', 'Shipping', '', 'Rodolphe Saadé', '53', 'Shipping', '', 'Tanya Saadé Zeenny', '55', 'Shipping', '', 'Melker Schorling & family', '75', 'Investments', '', 'Andrei Guriev & family', '63', 'Fertilizers', '', 'Michael Kim', '59', 'Private equity', '', 'Lei Jun', '53', 'Smartphones', '', 'Friedhelm Loh', '76', 'Manufacturing', '', 'Sun Piaoyang', '64', 'Pharmaceuticals', '', 'Rick Cohen & family', '70', 'Warehouse automation', '', 'Jin Baofang', '70', 'Solar panels', '', 'Luo Liguo & family', '67', 'Chemicals', '', 'Marijke Mars', '58', 'Candy, pet food', '', 'Pamela Mars', '62', 'Candy, pet food', '', 'Valerie Mars', '64', 'Candy, pet food', '']\n"
     ]
    }
   ],
   "source": [
    "print(detail)"
   ]
  },
  {
   "cell_type": "code",
   "execution_count": 171,
   "id": "a09d3754",
   "metadata": {},
   "outputs": [],
   "source": [
    "#Extracting Net worth\n",
    "net=driver.find_elements(By.XPATH,'//div[@class=\"netWorth\"]/div')\n",
    "for i in net:\n",
    "    Net_worth.append(i.text)"
   ]
  },
  {
   "cell_type": "code",
   "execution_count": 172,
   "id": "f4e073a1",
   "metadata": {},
   "outputs": [],
   "source": [
    "# Extracting Age\n",
    "age=driver.find_elements(By.XPATH,'//div[@class=\"age\"]/div')\n",
    "for i in age:\n",
    "    Age.append(i.text)"
   ]
  },
  {
   "cell_type": "code",
   "execution_count": 173,
   "id": "9c810d0f",
   "metadata": {},
   "outputs": [],
   "source": [
    " # Extracting Citizenship\n",
    "citizen=driver.find_elements(By.XPATH,'//div[@class=\"countryOfCitizenship\"]')\n",
    "for i in citizen:\n",
    "    Citizenship.append(i.text)"
   ]
  },
  {
   "cell_type": "code",
   "execution_count": 175,
   "id": "117a54ed",
   "metadata": {},
   "outputs": [],
   "source": [
    "# Extracting Source\n",
    "try:\n",
    "    source=driver.find_elements(By.XPATH,'//div[@class=\"source-column\"]')\n",
    "    for i in source:\n",
    "        Source.append(i.text)\n",
    "except:\n",
    "    source=driver.find_elements(By.XPATH,'//*[@id=\"jeff-bezos\"]/div[6]/div/div[1]')\n",
    "    Source.append(i.text)"
   ]
  },
  {
   "cell_type": "code",
   "execution_count": 176,
   "id": "dca56222",
   "metadata": {},
   "outputs": [],
   "source": [
    "# Extracting Industry\n",
    "industry=driver.find_elements(By.XPATH,\"//div[@class='category']//div\")\n",
    "for i in industry:\n",
    "    Industry.append(i.text)"
   ]
  },
  {
   "cell_type": "code",
   "execution_count": null,
   "id": "6dc97594",
   "metadata": {},
   "outputs": [],
   "source": [
    " print(\"Rank:\", rank)\n",
    "    print(\"Name:\", name)\n",
    "    print(\"Net Worth:\", net_worth)\n",
    "    print(\"Age:\", age)\n",
    "    print(\"Citizenship:\", citizenship)\n",
    "    print(\"Source:\", source)\n",
    "    print(\"Industry:\", industry)\n",
    "    print(\"-----\")"
   ]
  },
  {
   "cell_type": "code",
   "execution_count": 178,
   "id": "767080db",
   "metadata": {},
   "outputs": [
    {
     "data": {
      "text/html": [
       "<div>\n",
       "<style scoped>\n",
       "    .dataframe tbody tr th:only-of-type {\n",
       "        vertical-align: middle;\n",
       "    }\n",
       "\n",
       "    .dataframe tbody tr th {\n",
       "        vertical-align: top;\n",
       "    }\n",
       "\n",
       "    .dataframe thead th {\n",
       "        text-align: right;\n",
       "    }\n",
       "</style>\n",
       "<table border=\"1\" class=\"dataframe\">\n",
       "  <thead>\n",
       "    <tr style=\"text-align: right;\">\n",
       "      <th></th>\n",
       "      <th>Rank</th>\n",
       "      <th>Name</th>\n",
       "      <th>Net Worth</th>\n",
       "      <th>Age</th>\n",
       "      <th>Citizenship</th>\n",
       "      <th>Source</th>\n",
       "      <th>Industry</th>\n",
       "    </tr>\n",
       "  </thead>\n",
       "  <tbody>\n",
       "  </tbody>\n",
       "</table>\n",
       "</div>"
      ],
      "text/plain": [
       "Empty DataFrame\n",
       "Columns: [Rank, Name, Net Worth, Age, Citizenship, Source, Industry]\n",
       "Index: []"
      ]
     },
     "execution_count": 178,
     "metadata": {},
     "output_type": "execute_result"
    }
   ],
   "source": [
    "#creating dataframe\n",
    "Forbes_list=pd.DataFrame({'Rank':Rank,'Name':Name,'Net Worth':Net_worth,'Age':Age,'Citizenship':Citizenship,\n",
    "                'Source':Source,'Industry':Industry})\n",
    "\n",
    "Forbes_list"
   ]
  },
  {
   "cell_type": "markdown",
   "id": "d7c7de2f",
   "metadata": {},
   "source": [
    "# 8. Write a program to extract at least 500 Comments, Comment upvote and time when comment was posted from any YouTube Video"
   ]
  },
  {
   "cell_type": "code",
   "execution_count": 1,
   "id": "71b77385",
   "metadata": {},
   "outputs": [],
   "source": [
    "import selenium\n",
    "import pandas as pd\n",
    "from selenium import webdriver\n",
    "from selenium.common.exceptions import (\n",
    "    StaleElementReferenceException,\n",
    "    NoSuchElementException,\n",
    ")\n",
    "from selenium.webdriver.common.by import By\n",
    "from selenium.webdriver.support.select import Select\n",
    "from selenium.webdriver.common.keys import Keys\n",
    "from selenium.webdriver.support.ui import WebDriverWait\n",
    "from selenium.webdriver.support import expected_conditions as EC\n",
    "from selenium.webdriver.common.keys import Keys\n",
    "from selenium.webdriver.common.action_chains import ActionChains\n",
    "import re\n",
    "import time\n",
    "import warnings\n",
    "import requests\n",
    "\n",
    "warnings.filterwarnings(\"ignore\")"
   ]
  },
  {
   "cell_type": "code",
   "execution_count": 235,
   "id": "32a66c59",
   "metadata": {},
   "outputs": [],
   "source": [
    "driver = webdriver.Chrome()"
   ]
  },
  {
   "cell_type": "code",
   "execution_count": 236,
   "id": "8e1472aa",
   "metadata": {},
   "outputs": [
    {
     "name": "stdout",
     "output_type": "stream",
     "text": [
      "Enter the URL: https://www.youtube.com/watch?v=MWMgqtkWBzc\n"
     ]
    }
   ],
   "source": [
    "driver.maximize_window()\n",
    "url=input(\"Enter the URL: \")\n",
    "driver.get(url)"
   ]
  },
  {
   "cell_type": "code",
   "execution_count": 237,
   "id": "9d1e2fa8",
   "metadata": {},
   "outputs": [],
   "source": [
    "# Empty lists to scrap data\n",
    "Comments = []\n",
    "Comment_posted_ago = []\n",
    "Timeline = []\n",
    "Likes = []\n",
    "No_of_Likes = []"
   ]
  },
  {
   "cell_type": "code",
   "execution_count": 238,
   "id": "b3b2d624",
   "metadata": {},
   "outputs": [],
   "source": [
    "time.sleep(5)"
   ]
  },
  {
   "cell_type": "code",
   "execution_count": 241,
   "id": "3f1f82e8",
   "metadata": {},
   "outputs": [
    {
     "name": "stderr",
     "output_type": "stream",
     "text": [
      "100%|██████████| 20/20 [00:01<00:00, 11.31it/s]\n"
     ]
    }
   ],
   "source": [
    "#extracting comment on video\n",
    "comment = driver.find_elements(By.ID,\"content-text\")\n",
    "time.sleep(3)\n",
    "from tqdm import tqdm\n",
    "for i in tqdm(comment):\n",
    "    if i.text is None:\n",
    "        Comments.append(\"--\")\n",
    "    else:\n",
    "        Comments.append(i.text)\n",
    "time.sleep(2)"
   ]
  },
  {
   "cell_type": "code",
   "execution_count": 242,
   "id": "ed3098cb",
   "metadata": {},
   "outputs": [
    {
     "name": "stderr",
     "output_type": "stream",
     "text": [
      "100%|██████████| 20/20 [00:01<00:00, 14.93it/s]\n",
      "100%|██████████| 10/10 [00:00<?, ?it/s]\n"
     ]
    }
   ],
   "source": [
    "# Extracting time of commenting\n",
    "timeline = driver.find_elements(By.XPATH,\"//a[contains(text(),'ago')]\")\n",
    "time.sleep(3)\n",
    "from tqdm import tqdm\n",
    "for i in tqdm(timeline):\n",
    "    if i.text is None:\n",
    "        Timeline.append(\"-\")\n",
    "    else:\n",
    "        Timeline.append(i.text)\n",
    "for i in tqdm(range(0,len(Timeline),2)):\n",
    "    Comment_posted_ago.append(Timeline[i])"
   ]
  },
  {
   "cell_type": "code",
   "execution_count": 244,
   "id": "56c82c70",
   "metadata": {},
   "outputs": [],
   "source": [
    "# scrape the comment likes\n",
    "like = driver.find_elements(By.XPATH,\"//span[@class='style-scope ytd-comment-action-buttons-renderer']\")\n",
    "                                    # yt-spec-touch-feedback-shape__fill\n",
    "    \n",
    "for i in like:\n",
    "    Likes.append(i.text)\n",
    "    \n",
    "for i in range(1,len(Likes),2):\n",
    "    No_of_Likes.append(Likes[i])\n",
    "time.sleep(3)"
   ]
  },
  {
   "cell_type": "code",
   "execution_count": 245,
   "id": "76d77f7c",
   "metadata": {},
   "outputs": [
    {
     "data": {
      "text/plain": [
       "(40, 10, 20)"
      ]
     },
     "execution_count": 245,
     "metadata": {},
     "output_type": "execute_result"
    }
   ],
   "source": [
    "len(Comments),len(Comment_posted_ago),len(No_of_Likes)"
   ]
  },
  {
   "cell_type": "code",
   "execution_count": 247,
   "id": "196fcffe",
   "metadata": {},
   "outputs": [
    {
     "data": {
      "text/html": [
       "<div>\n",
       "<style scoped>\n",
       "    .dataframe tbody tr th:only-of-type {\n",
       "        vertical-align: middle;\n",
       "    }\n",
       "\n",
       "    .dataframe tbody tr th {\n",
       "        vertical-align: top;\n",
       "    }\n",
       "\n",
       "    .dataframe thead th {\n",
       "        text-align: right;\n",
       "    }\n",
       "</style>\n",
       "<table border=\"1\" class=\"dataframe\">\n",
       "  <thead>\n",
       "    <tr style=\"text-align: right;\">\n",
       "      <th></th>\n",
       "      <th>Comments</th>\n",
       "      <th>Comment Posted Ago</th>\n",
       "      <th>No. of Likes</th>\n",
       "    </tr>\n",
       "  </thead>\n",
       "  <tbody>\n",
       "    <tr>\n",
       "      <th>0</th>\n",
       "      <td>Being a balochi, we request India to take some...</td>\n",
       "      <td>1 month ago</td>\n",
       "      <td>935</td>\n",
       "    </tr>\n",
       "    <tr>\n",
       "      <th>1</th>\n",
       "      <td>This man is making us proud at global level. I...</td>\n",
       "      <td>1 month ago</td>\n",
       "      <td>211</td>\n",
       "    </tr>\n",
       "    <tr>\n",
       "      <th>2</th>\n",
       "      <td>Very much love from Iran for our thousands of ...</td>\n",
       "      <td>1 month ago (edited)</td>\n",
       "      <td>435</td>\n",
       "    </tr>\n",
       "    <tr>\n",
       "      <th>3</th>\n",
       "      <td>Индия возвращается к своей древней славе .... ...</td>\n",
       "      <td>1 month ago</td>\n",
       "      <td>376</td>\n",
       "    </tr>\n",
       "    <tr>\n",
       "      <th>4</th>\n",
       "      <td>I love this guy. Canada needs leaders like him...</td>\n",
       "      <td>1 month ago</td>\n",
       "      <td>310</td>\n",
       "    </tr>\n",
       "    <tr>\n",
       "      <th>5</th>\n",
       "      <td>The world should learn from India leadership e...</td>\n",
       "      <td>1 month ago</td>\n",
       "      <td>181</td>\n",
       "    </tr>\n",
       "    <tr>\n",
       "      <th>6</th>\n",
       "      <td>🇺🇳\\n\"One of the most important lessons I learn...</td>\n",
       "      <td>1 month ago</td>\n",
       "      <td>147</td>\n",
       "    </tr>\n",
       "    <tr>\n",
       "      <th>7</th>\n",
       "      <td>Wooooow, 3:42-3:50\\n\"the days where a few nati...</td>\n",
       "      <td>1 month ago</td>\n",
       "      <td>40</td>\n",
       "    </tr>\n",
       "    <tr>\n",
       "      <th>8</th>\n",
       "      <td>🇮🇳\\n\"Peace is not just the absence of conflict...</td>\n",
       "      <td>1 month ago</td>\n",
       "      <td>119</td>\n",
       "    </tr>\n",
       "    <tr>\n",
       "      <th>9</th>\n",
       "      <td>Be the person who breaks the cycle. If you wer...</td>\n",
       "      <td>1 month ago</td>\n",
       "      <td>52</td>\n",
       "    </tr>\n",
       "  </tbody>\n",
       "</table>\n",
       "</div>"
      ],
      "text/plain": [
       "                                            Comments    Comment Posted Ago  \\\n",
       "0  Being a balochi, we request India to take some...           1 month ago   \n",
       "1  This man is making us proud at global level. I...           1 month ago   \n",
       "2  Very much love from Iran for our thousands of ...  1 month ago (edited)   \n",
       "3  Индия возвращается к своей древней славе .... ...           1 month ago   \n",
       "4  I love this guy. Canada needs leaders like him...           1 month ago   \n",
       "5  The world should learn from India leadership e...           1 month ago   \n",
       "6  🇺🇳\\n\"One of the most important lessons I learn...           1 month ago   \n",
       "7  Wooooow, 3:42-3:50\\n\"the days where a few nati...           1 month ago   \n",
       "8  🇮🇳\\n\"Peace is not just the absence of conflict...           1 month ago   \n",
       "9  Be the person who breaks the cycle. If you wer...           1 month ago   \n",
       "\n",
       "  No. of Likes  \n",
       "0          935  \n",
       "1          211  \n",
       "2          435  \n",
       "3          376  \n",
       "4          310  \n",
       "5          181  \n",
       "6          147  \n",
       "7           40  \n",
       "8          119  \n",
       "9           52  "
      ]
     },
     "execution_count": 247,
     "metadata": {},
     "output_type": "execute_result"
    }
   ],
   "source": [
    "YT=pd.DataFrame({})\n",
    "YT['Comments']=Comments[:10]\n",
    "YT['Comment Posted Ago']=Comment_posted_ago[:10]\n",
    "YT['No. of Likes']=No_of_Likes[:10]\n",
    "YT"
   ]
  },
  {
   "cell_type": "code",
   "execution_count": 248,
   "id": "a0bc3cb4",
   "metadata": {},
   "outputs": [],
   "source": [
    "driver.close()      "
   ]
  },
  {
   "cell_type": "markdown",
   "id": "dab8b48a",
   "metadata": {},
   "source": [
    "# 9. Write a python program to scrape a data for all available Hostels from https://www.hostelworld.com/ in “London” location. You have to scrape hostel name, distance from city centre, ratings, total reviews, overall reviews, privates from price, dorms from price, facilities and property description."
   ]
  },
  {
   "cell_type": "code",
   "execution_count": 20,
   "id": "bdbd872e",
   "metadata": {},
   "outputs": [],
   "source": [
    "#Connecting to web driver\n",
    "\n",
    "driver = webdriver.Chrome()"
   ]
  },
  {
   "cell_type": "code",
   "execution_count": 21,
   "id": "e5116a9d",
   "metadata": {},
   "outputs": [],
   "source": [
    "#Opening url in chrome browser\n",
    "\n",
    "driver.maximize_window()\n",
    "url=(\"https://www.hostelworld.com/ \")\n",
    "driver.get(url)"
   ]
  },
  {
   "cell_type": "code",
   "execution_count": 22,
   "id": "29208864",
   "metadata": {},
   "outputs": [],
   "source": [
    "#To click on search bar\n",
    "\n",
    "location=driver.find_element(By.CLASS_NAME,'input-wrapper')\n",
    "location.click()"
   ]
  },
  {
   "cell_type": "code",
   "execution_count": 23,
   "id": "85ab79ef",
   "metadata": {},
   "outputs": [],
   "source": [
    "#locating the location search bar\n",
    "\n",
    "loca=driver.find_element(By.XPATH,'//*[@id=\"__layout\"]/div/div[2]/div[2]/div[2]/div/div/div/div[1]/div[1]/div/div[2]/input')\n",
    "loca.send_keys('London')\n"
   ]
  },
  {
   "cell_type": "code",
   "execution_count": 25,
   "id": "cfae9f85",
   "metadata": {},
   "outputs": [],
   "source": [
    "#Selecting London location \n",
    "\n",
    "select=driver.find_element(By.XPATH,'//*[@id=\"3\"]/button/div[2]/div[2]')\n",
    "select.click()"
   ]
  },
  {
   "cell_type": "code",
   "execution_count": 36,
   "id": "9d096c10",
   "metadata": {},
   "outputs": [],
   "source": [
    "#search for hostel details\n",
    "search=driver.find_element(By.XPATH,'/html/body/div[3]/div/div/div[2]/div[2]/div[2]/div/div/div/div[5]/button[2]/span')\n",
    "search.click()"
   ]
  },
  {
   "cell_type": "code",
   "execution_count": 37,
   "id": "97ec5a55",
   "metadata": {},
   "outputs": [],
   "source": [
    "#lets find required data\n",
    "time.sleep(3)\n",
    "\n",
    "hostel_name = []\n",
    "location = []\n",
    "ratings = []\n",
    "total_reviews = []\n",
    "overall_reviews = []\n",
    "private_price = []\n",
    "dorm_price = []"
   ]
  },
  {
   "cell_type": "code",
   "execution_count": 38,
   "id": "7c7706c6",
   "metadata": {},
   "outputs": [],
   "source": [
    "hostel = driver.find_elements(By.XPATH,'//div[@class=\"property-name\"]')\n",
    "try:\n",
    "    for i in hostel:\n",
    "        hostel_name.append(i.text)\n",
    "except:\n",
    "    hostel_name.append(\"-\")\n"
   ]
  },
  {
   "cell_type": "code",
   "execution_count": 39,
   "id": "9d0e0077",
   "metadata": {},
   "outputs": [
    {
     "name": "stdout",
     "output_type": "stream",
     "text": [
      "[\"St Christopher's Village\", 'Palmers Lodge - Swiss Cottage', \"Wombat's City Hostel London\", \"St Christopher's Village\", 'Onefam Notting Hill', 'Urbany Hostel London', 'Palmers Lodge - Swiss Cottage', 'Generator London', 'Astor Hyde Park', 'Safestay London Elephant & Castle', 'NX London Hostel', 'Astor Museum Inn', 'No.8 Willesden Hostel London', 'Safestay London Kensington Holland Park', 'Clink261', 'Queen Elizabeth Chelsea', 'Phoenix Hostel', 'Destinations Hostels @ The Gallery', 'Smart Russell Square Hostel', 'No.8 Seven Sisters', 'Smart Hyde Park Inn Hostel', 'Hostelle - women only hostel London', \"St Christopher's Hammersmith\", 'Prime Backpackers Angel', 'Astor Victoria', 'Saint James Backpackers', 'YHA London Oxford Street', 'Kabannas London St Pancras', 'Astor Kensington', 'London Backpackers', \"St Christopher's Camden\", 'Smart Camden Inn Hostel']\n"
     ]
    }
   ],
   "source": [
    "print(hostel_name)"
   ]
  },
  {
   "cell_type": "code",
   "execution_count": 40,
   "id": "865eb380",
   "metadata": {},
   "outputs": [],
   "source": [
    "distance = driver.find_elements(By.CLASS_NAME, \"property-distance\")\n",
    "try:\n",
    "    for i in distance:\n",
    "        location.append(i.text)\n",
    "except:\n",
    "    location.append(\"-\")"
   ]
  },
  {
   "cell_type": "code",
   "execution_count": 41,
   "id": "bcd7c105",
   "metadata": {},
   "outputs": [
    {
     "name": "stdout",
     "output_type": "stream",
     "text": [
      "['Hostel\\n- 3.6km from city centre', 'Hostel\\n- 1.8km from city centre', 'Hostel\\n- 5.5km from city centre', 'Hostel\\n- 5.4km from city centre', 'Hostel\\n- 6.5km from city centre', 'Hostel\\n- 3km from city centre', 'Hostel\\n- 4.3km from city centre', 'Hostel\\n- 1.7km from city centre', 'Hostel\\n- 6.1km from city centre', 'Hostel\\n- 2.2km from city centre', 'Hostel\\n- 10km from city centre', 'Hostel\\n- 5.8km from city centre', 'Hostel\\n- 3.2km from city centre', 'Hostel\\n- 5.7km from city centre', 'Hostel\\n- 4.2km from city centre', 'Hostel\\n- 1.7km from city centre', 'Hostel\\n- 2.6km from city centre', 'Hostel\\n- 9km from city centre', 'Hostel\\n- 5km from city centre', 'Hostel\\n- 5.1km from city centre', 'Hostel\\n- 7.5km from city centre', 'Hostel\\n- 3.6km from city centre', 'Hostel\\n- 1.8km from city centre', 'Hostel\\n- 5.5km from city centre', 'Hostel\\n- 2.1km from city centre', 'Hostel\\n- 3.3km from city centre', 'Hostel\\n- 4.9km from city centre', 'Hostel\\n- 11.9km from city centre', 'Hostel\\n- 4.3km from city centre', 'Hostel\\n- 4.4km from city centre']\n"
     ]
    }
   ],
   "source": [
    "print(location)"
   ]
  },
  {
   "cell_type": "code",
   "execution_count": 42,
   "id": "2fd9f788",
   "metadata": {},
   "outputs": [],
   "source": [
    "information = driver.find_elements(By.CLASS_NAME, \"property-rating\")\n",
    "try:\n",
    "    for i in information:\n",
    "        ratings.append(i.text.split(\"\\n\")[0])\n",
    "except:\n",
    "    ratings.append(\"-\")"
   ]
  },
  {
   "cell_type": "code",
   "execution_count": 43,
   "id": "801ee1ee",
   "metadata": {},
   "outputs": [
    {
     "name": "stdout",
     "output_type": "stream",
     "text": [
      "['8.1', '8.7', '9.0', '8.1', '9.6', '9.5', '8.7', '7.5', '8.2', '7.1', '8.3', '8.4', '7.2', '6.9', '8.0', '7.5', '7.0', '9.2', '7.5', '6.6', '7.6', '8.8', '7.6', '8.2', '7.1', '7.7', '9.0', '8.2', '8.6', '8.0', '7.5', '8.1']\n"
     ]
    }
   ],
   "source": [
    "print(ratings)"
   ]
  },
  {
   "cell_type": "code",
   "execution_count": 44,
   "id": "d313837a",
   "metadata": {},
   "outputs": [],
   "source": [
    "reviews = driver.find_elements(By.CLASS_NAME, \"keyword\")\n",
    "try:\n",
    "    for i in reviews:\n",
    "        total_reviews.append(i.text)\n",
    "except:\n",
    "    total_reviews.append(\"-\")"
   ]
  },
  {
   "cell_type": "code",
   "execution_count": 45,
   "id": "e72458b8",
   "metadata": {},
   "outputs": [
    {
     "name": "stdout",
     "output_type": "stream",
     "text": [
      "['Fabulous', 'Fabulous', 'Superb', 'Fabulous', 'Superb', 'Superb', 'Fabulous', 'Very Good', 'Fabulous', 'Very Good', 'Fabulous', 'Fabulous', 'Very Good', 'Good', 'Fabulous', 'Very Good', 'Very Good', 'Superb', 'Very Good', 'Good', 'Very Good', 'Fabulous', 'Very Good', 'Fabulous', 'Very Good', 'Very Good', 'Superb', 'Fabulous', 'Fabulous', 'Fabulous', 'Very Good', 'Fabulous']\n"
     ]
    }
   ],
   "source": [
    "print(total_reviews)"
   ]
  },
  {
   "cell_type": "code",
   "execution_count": 47,
   "id": "49a56bc5",
   "metadata": {},
   "outputs": [],
   "source": [
    "n_reviews = driver.find_elements(By.CLASS_NAME, \"review\")\n",
    "try:\n",
    "    for i in n_reviews:\n",
    "        overall_reviews.append(i.text)\n",
    "except:\n",
    "    overall_reviews.append(\"-\")"
   ]
  },
  {
   "cell_type": "code",
   "execution_count": 49,
   "id": "1802e4ca",
   "metadata": {},
   "outputs": [
    {
     "name": "stdout",
     "output_type": "stream",
     "text": [
      "['(15592)', '(12662)', '(2405)', '(1030)', '(15826)', '(7934)', '(12251)', '(5206)', '(2056)', '(9401)', '(5146)', '(1725)', '(459)', '(3632)', '(4553)', '(280)', '(10155)', '(4124)', '(6768)', '(82)', '(4351)', '(844)', '(15061)', '(1943)', '(4676)', '(2943)', '(6562)', '(4547)', '(4107)', '(3117)', '(15592)', '(12662)', '(2405)', '(1030)', '(15826)', '(7934)', '(12251)', '(5206)', '(2056)', '(9401)', '(5146)', '(1725)', '(459)', '(3632)', '(4553)', '(280)', '(10155)', '(4124)', '(6768)', '(82)', '(4351)', '(844)', '(15061)', '(1943)', '(4676)', '(2943)', '(6562)', '(4547)', '(4107)', '(3117)']\n"
     ]
    }
   ],
   "source": [
    "print(overall_reviews)"
   ]
  },
  {
   "cell_type": "code",
   "execution_count": 52,
   "id": "7cb7dbd2",
   "metadata": {},
   "outputs": [],
   "source": [
    "p_price = driver.find_elements(By.CLASS_NAME, \"current\")\n",
    "try:\n",
    "    for i in p_price:\n",
    "        private_price.append(i.text)\n",
    "except:\n",
    "    private_price.append(\"-\")"
   ]
  },
  {
   "cell_type": "code",
   "execution_count": 53,
   "id": "b1c66766",
   "metadata": {},
   "outputs": [
    {
     "name": "stdout",
     "output_type": "stream",
     "text": [
      "['₹26,159', '₹4,360', '₹3,195', '₹17,933', '₹8,384', '₹15,207', '₹11,196', '₹2,164', '₹15,401', '₹3,181', '₹4,995', '₹2,532', '₹6,604', '₹4,440', '₹3,603', '₹1,556', '₹11,313', '₹1,999', '₹3,795', '₹2,329', '₹3,211', '₹5,637', '₹3,097', '₹1,452', '₹3,846', '₹3,642', '₹2,693', '₹3,567', '₹12,003', '₹3,018', '₹9,023', '₹3,091', '₹11,795', '₹3,486', '₹2,914', '₹7,337', '₹2,092', '₹3,560', '₹3,097']\n"
     ]
    }
   ],
   "source": [
    "print(private_price)"
   ]
  },
  {
   "cell_type": "code",
   "execution_count": 69,
   "id": "0582c2fa",
   "metadata": {},
   "outputs": [],
   "source": [
    "d_price = driver.find_elements(By.CLASS_NAME, 'property-accommodation-price')\n",
    "try:\n",
    "    for i in d_price:\n",
    "        dorm_price.append(i.text)\n",
    "except:\n",
    "    dorm_price.append(\"-\")"
   ]
  },
  {
   "cell_type": "code",
   "execution_count": 70,
   "id": "48ff9311",
   "metadata": {},
   "outputs": [
    {
     "name": "stdout",
     "output_type": "stream",
     "text": [
      "['-', '-', '-', '-', '-', 'From\\n₹3,195', 'From\\n₹2,164', '-20%\\nPrivates From\\n₹32,699\\n₹26,159', '-20%\\nDorms From\\n₹5,450\\n₹4,360', 'No Privates Available', '-10%\\nDorms From\\n₹3,550\\n₹3,195', 'Privates From\\n₹17,933', 'Dorms From\\n₹8,384', 'Privates From\\n₹15,207', 'No Dorms Available', '-36%\\nPrivates From\\n₹17,494\\n₹11,196', '-36%\\nDorms From\\n₹3,381\\n₹2,164', 'Privates From\\n₹15,401', 'Dorms From\\n₹3,181', 'No Privates Available', 'Dorms From\\n₹4,995', 'No Privates Available', 'Dorms From\\n₹2,532', 'No Privates Available', 'Dorms From\\n₹6,604', 'No Privates Available', 'Dorms From\\n₹4,440', 'Privates From\\n₹3,603', 'Dorms From\\n₹1,556', '-10%\\nPrivates From\\n₹12,571\\n₹11,313', '-10%\\nDorms From\\n₹2,221\\n₹1,999', 'No Privates Available', 'Dorms From\\n₹3,795', 'No Privates Available', 'Dorms From\\n₹2,329', 'No Privates Available', '-5%\\nDorms From\\n₹3,380\\n₹3,211', 'No Privates Available', 'Dorms From\\n₹5,637', 'No Privates Available', 'Dorms From\\n₹3,097', 'No Privates Available', 'Dorms From\\n₹1,452', 'No Privates Available', 'Dorms From\\n₹3,846', 'No Privates Available', 'Dorms From\\n₹3,642', 'No Privates Available', '-10%\\nDorms From\\n₹2,992\\n₹2,693', 'No Privates Available', 'Dorms From\\n₹3,567', 'Privates From\\n₹12,003', 'Dorms From\\n₹3,018', '-10%\\nPrivates From\\n₹10,025\\n₹9,023', '-10%\\nDorms From\\n₹3,434\\n₹3,091', 'Privates From\\n₹11,795', 'No Dorms Available', 'No Privates Available', 'Dorms From\\n₹3,486', 'No Privates Available', 'Dorms From\\n₹2,914', '-10%\\nPrivates From\\n₹8,152\\n₹7,337', '-10%\\nDorms From\\n₹2,324\\n₹2,092', 'No Privates Available', '-10%\\nDorms From\\n₹3,955\\n₹3,560', 'No Privates Available', 'Dorms From\\n₹3,097']\n"
     ]
    }
   ],
   "source": [
    "print(dorm_price)"
   ]
  },
  {
   "cell_type": "code",
   "execution_count": 74,
   "id": "aec8d0b2",
   "metadata": {},
   "outputs": [
    {
     "data": {
      "text/html": [
       "<div>\n",
       "<style scoped>\n",
       "    .dataframe tbody tr th:only-of-type {\n",
       "        vertical-align: middle;\n",
       "    }\n",
       "\n",
       "    .dataframe tbody tr th {\n",
       "        vertical-align: top;\n",
       "    }\n",
       "\n",
       "    .dataframe thead th {\n",
       "        text-align: right;\n",
       "    }\n",
       "</style>\n",
       "<table border=\"1\" class=\"dataframe\">\n",
       "  <thead>\n",
       "    <tr style=\"text-align: right;\">\n",
       "      <th></th>\n",
       "      <th>Hostel Name</th>\n",
       "      <th>Distance from City Center</th>\n",
       "      <th>Ratings</th>\n",
       "      <th>Total Review</th>\n",
       "      <th>Overall Review</th>\n",
       "      <th>Private Price</th>\n",
       "      <th>Dorm Price</th>\n",
       "    </tr>\n",
       "  </thead>\n",
       "  <tbody>\n",
       "    <tr>\n",
       "      <th>0</th>\n",
       "      <td>St Christopher's Village</td>\n",
       "      <td>Hostel\\n- 3.6km from city centre</td>\n",
       "      <td>8.1</td>\n",
       "      <td>Fabulous</td>\n",
       "      <td>(15592)</td>\n",
       "      <td>₹26,159</td>\n",
       "      <td>-</td>\n",
       "    </tr>\n",
       "    <tr>\n",
       "      <th>1</th>\n",
       "      <td>Palmers Lodge - Swiss Cottage</td>\n",
       "      <td>Hostel\\n- 1.8km from city centre</td>\n",
       "      <td>8.7</td>\n",
       "      <td>Fabulous</td>\n",
       "      <td>(12662)</td>\n",
       "      <td>₹4,360</td>\n",
       "      <td>-</td>\n",
       "    </tr>\n",
       "    <tr>\n",
       "      <th>2</th>\n",
       "      <td>Wombat's City Hostel London</td>\n",
       "      <td>Hostel\\n- 5.5km from city centre</td>\n",
       "      <td>9.0</td>\n",
       "      <td>Superb</td>\n",
       "      <td>(2405)</td>\n",
       "      <td>₹3,195</td>\n",
       "      <td>-</td>\n",
       "    </tr>\n",
       "    <tr>\n",
       "      <th>3</th>\n",
       "      <td>St Christopher's Village</td>\n",
       "      <td>Hostel\\n- 5.4km from city centre</td>\n",
       "      <td>8.1</td>\n",
       "      <td>Fabulous</td>\n",
       "      <td>(1030)</td>\n",
       "      <td>₹17,933</td>\n",
       "      <td>-</td>\n",
       "    </tr>\n",
       "    <tr>\n",
       "      <th>4</th>\n",
       "      <td>Onefam Notting Hill</td>\n",
       "      <td>Hostel\\n- 6.5km from city centre</td>\n",
       "      <td>9.6</td>\n",
       "      <td>Superb</td>\n",
       "      <td>(15826)</td>\n",
       "      <td>₹8,384</td>\n",
       "      <td>-</td>\n",
       "    </tr>\n",
       "    <tr>\n",
       "      <th>5</th>\n",
       "      <td>Urbany Hostel London</td>\n",
       "      <td>Hostel\\n- 3km from city centre</td>\n",
       "      <td>9.5</td>\n",
       "      <td>Superb</td>\n",
       "      <td>(7934)</td>\n",
       "      <td>₹15,207</td>\n",
       "      <td>From\\n₹3,195</td>\n",
       "    </tr>\n",
       "    <tr>\n",
       "      <th>6</th>\n",
       "      <td>Palmers Lodge - Swiss Cottage</td>\n",
       "      <td>Hostel\\n- 4.3km from city centre</td>\n",
       "      <td>8.7</td>\n",
       "      <td>Fabulous</td>\n",
       "      <td>(12251)</td>\n",
       "      <td>₹11,196</td>\n",
       "      <td>From\\n₹2,164</td>\n",
       "    </tr>\n",
       "    <tr>\n",
       "      <th>7</th>\n",
       "      <td>Generator London</td>\n",
       "      <td>Hostel\\n- 1.7km from city centre</td>\n",
       "      <td>7.5</td>\n",
       "      <td>Very Good</td>\n",
       "      <td>(5206)</td>\n",
       "      <td>₹2,164</td>\n",
       "      <td>-20%\\nPrivates From\\n₹32,699\\n₹26,159</td>\n",
       "    </tr>\n",
       "    <tr>\n",
       "      <th>8</th>\n",
       "      <td>Astor Hyde Park</td>\n",
       "      <td>Hostel\\n- 6.1km from city centre</td>\n",
       "      <td>8.2</td>\n",
       "      <td>Fabulous</td>\n",
       "      <td>(2056)</td>\n",
       "      <td>₹15,401</td>\n",
       "      <td>-20%\\nDorms From\\n₹5,450\\n₹4,360</td>\n",
       "    </tr>\n",
       "    <tr>\n",
       "      <th>9</th>\n",
       "      <td>Safestay London Elephant &amp; Castle</td>\n",
       "      <td>Hostel\\n- 2.2km from city centre</td>\n",
       "      <td>7.1</td>\n",
       "      <td>Very Good</td>\n",
       "      <td>(9401)</td>\n",
       "      <td>₹3,181</td>\n",
       "      <td>No Privates Available</td>\n",
       "    </tr>\n",
       "    <tr>\n",
       "      <th>10</th>\n",
       "      <td>NX London Hostel</td>\n",
       "      <td>Hostel\\n- 10km from city centre</td>\n",
       "      <td>8.3</td>\n",
       "      <td>Fabulous</td>\n",
       "      <td>(5146)</td>\n",
       "      <td>₹4,995</td>\n",
       "      <td>-10%\\nDorms From\\n₹3,550\\n₹3,195</td>\n",
       "    </tr>\n",
       "    <tr>\n",
       "      <th>11</th>\n",
       "      <td>Astor Museum Inn</td>\n",
       "      <td>Hostel\\n- 5.8km from city centre</td>\n",
       "      <td>8.4</td>\n",
       "      <td>Fabulous</td>\n",
       "      <td>(1725)</td>\n",
       "      <td>₹2,532</td>\n",
       "      <td>Privates From\\n₹17,933</td>\n",
       "    </tr>\n",
       "    <tr>\n",
       "      <th>12</th>\n",
       "      <td>No.8 Willesden Hostel London</td>\n",
       "      <td>Hostel\\n- 3.2km from city centre</td>\n",
       "      <td>7.2</td>\n",
       "      <td>Very Good</td>\n",
       "      <td>(459)</td>\n",
       "      <td>₹6,604</td>\n",
       "      <td>Dorms From\\n₹8,384</td>\n",
       "    </tr>\n",
       "    <tr>\n",
       "      <th>13</th>\n",
       "      <td>Safestay London Kensington Holland Park</td>\n",
       "      <td>Hostel\\n- 5.7km from city centre</td>\n",
       "      <td>6.9</td>\n",
       "      <td>Good</td>\n",
       "      <td>(3632)</td>\n",
       "      <td>₹4,440</td>\n",
       "      <td>Privates From\\n₹15,207</td>\n",
       "    </tr>\n",
       "    <tr>\n",
       "      <th>14</th>\n",
       "      <td>Clink261</td>\n",
       "      <td>Hostel\\n- 4.2km from city centre</td>\n",
       "      <td>8.0</td>\n",
       "      <td>Fabulous</td>\n",
       "      <td>(4553)</td>\n",
       "      <td>₹3,603</td>\n",
       "      <td>No Dorms Available</td>\n",
       "    </tr>\n",
       "    <tr>\n",
       "      <th>15</th>\n",
       "      <td>Queen Elizabeth Chelsea</td>\n",
       "      <td>Hostel\\n- 1.7km from city centre</td>\n",
       "      <td>7.5</td>\n",
       "      <td>Very Good</td>\n",
       "      <td>(280)</td>\n",
       "      <td>₹1,556</td>\n",
       "      <td>-36%\\nPrivates From\\n₹17,494\\n₹11,196</td>\n",
       "    </tr>\n",
       "    <tr>\n",
       "      <th>16</th>\n",
       "      <td>Phoenix Hostel</td>\n",
       "      <td>Hostel\\n- 2.6km from city centre</td>\n",
       "      <td>7.0</td>\n",
       "      <td>Very Good</td>\n",
       "      <td>(10155)</td>\n",
       "      <td>₹11,313</td>\n",
       "      <td>-36%\\nDorms From\\n₹3,381\\n₹2,164</td>\n",
       "    </tr>\n",
       "    <tr>\n",
       "      <th>17</th>\n",
       "      <td>Destinations Hostels @ The Gallery</td>\n",
       "      <td>Hostel\\n- 9km from city centre</td>\n",
       "      <td>9.2</td>\n",
       "      <td>Superb</td>\n",
       "      <td>(4124)</td>\n",
       "      <td>₹1,999</td>\n",
       "      <td>Privates From\\n₹15,401</td>\n",
       "    </tr>\n",
       "    <tr>\n",
       "      <th>18</th>\n",
       "      <td>Smart Russell Square Hostel</td>\n",
       "      <td>Hostel\\n- 5km from city centre</td>\n",
       "      <td>7.5</td>\n",
       "      <td>Very Good</td>\n",
       "      <td>(6768)</td>\n",
       "      <td>₹3,795</td>\n",
       "      <td>Dorms From\\n₹3,181</td>\n",
       "    </tr>\n",
       "    <tr>\n",
       "      <th>19</th>\n",
       "      <td>No.8 Seven Sisters</td>\n",
       "      <td>Hostel\\n- 5.1km from city centre</td>\n",
       "      <td>6.6</td>\n",
       "      <td>Good</td>\n",
       "      <td>(82)</td>\n",
       "      <td>₹2,329</td>\n",
       "      <td>No Privates Available</td>\n",
       "    </tr>\n",
       "    <tr>\n",
       "      <th>20</th>\n",
       "      <td>Smart Hyde Park Inn Hostel</td>\n",
       "      <td>Hostel\\n- 7.5km from city centre</td>\n",
       "      <td>7.6</td>\n",
       "      <td>Very Good</td>\n",
       "      <td>(4351)</td>\n",
       "      <td>₹3,211</td>\n",
       "      <td>Dorms From\\n₹4,995</td>\n",
       "    </tr>\n",
       "    <tr>\n",
       "      <th>21</th>\n",
       "      <td>Hostelle - women only hostel London</td>\n",
       "      <td>Hostel\\n- 3.6km from city centre</td>\n",
       "      <td>8.8</td>\n",
       "      <td>Fabulous</td>\n",
       "      <td>(844)</td>\n",
       "      <td>₹5,637</td>\n",
       "      <td>No Privates Available</td>\n",
       "    </tr>\n",
       "    <tr>\n",
       "      <th>22</th>\n",
       "      <td>St Christopher's Hammersmith</td>\n",
       "      <td>Hostel\\n- 1.8km from city centre</td>\n",
       "      <td>7.6</td>\n",
       "      <td>Very Good</td>\n",
       "      <td>(15061)</td>\n",
       "      <td>₹3,097</td>\n",
       "      <td>Dorms From\\n₹2,532</td>\n",
       "    </tr>\n",
       "    <tr>\n",
       "      <th>23</th>\n",
       "      <td>Prime Backpackers Angel</td>\n",
       "      <td>Hostel\\n- 5.5km from city centre</td>\n",
       "      <td>8.2</td>\n",
       "      <td>Fabulous</td>\n",
       "      <td>(1943)</td>\n",
       "      <td>₹1,452</td>\n",
       "      <td>No Privates Available</td>\n",
       "    </tr>\n",
       "    <tr>\n",
       "      <th>24</th>\n",
       "      <td>Astor Victoria</td>\n",
       "      <td>Hostel\\n- 2.1km from city centre</td>\n",
       "      <td>7.1</td>\n",
       "      <td>Very Good</td>\n",
       "      <td>(4676)</td>\n",
       "      <td>₹3,846</td>\n",
       "      <td>Dorms From\\n₹6,604</td>\n",
       "    </tr>\n",
       "    <tr>\n",
       "      <th>25</th>\n",
       "      <td>Saint James Backpackers</td>\n",
       "      <td>Hostel\\n- 3.3km from city centre</td>\n",
       "      <td>7.7</td>\n",
       "      <td>Very Good</td>\n",
       "      <td>(2943)</td>\n",
       "      <td>₹3,642</td>\n",
       "      <td>No Privates Available</td>\n",
       "    </tr>\n",
       "    <tr>\n",
       "      <th>26</th>\n",
       "      <td>YHA London Oxford Street</td>\n",
       "      <td>Hostel\\n- 4.9km from city centre</td>\n",
       "      <td>9.0</td>\n",
       "      <td>Superb</td>\n",
       "      <td>(6562)</td>\n",
       "      <td>₹2,693</td>\n",
       "      <td>Dorms From\\n₹4,440</td>\n",
       "    </tr>\n",
       "    <tr>\n",
       "      <th>27</th>\n",
       "      <td>Kabannas London St Pancras</td>\n",
       "      <td>Hostel\\n- 11.9km from city centre</td>\n",
       "      <td>8.2</td>\n",
       "      <td>Fabulous</td>\n",
       "      <td>(4547)</td>\n",
       "      <td>₹3,567</td>\n",
       "      <td>Privates From\\n₹3,603</td>\n",
       "    </tr>\n",
       "    <tr>\n",
       "      <th>28</th>\n",
       "      <td>Astor Kensington</td>\n",
       "      <td>Hostel\\n- 4.3km from city centre</td>\n",
       "      <td>8.6</td>\n",
       "      <td>Fabulous</td>\n",
       "      <td>(4107)</td>\n",
       "      <td>₹12,003</td>\n",
       "      <td>Dorms From\\n₹1,556</td>\n",
       "    </tr>\n",
       "    <tr>\n",
       "      <th>29</th>\n",
       "      <td>London Backpackers</td>\n",
       "      <td>Hostel\\n- 4.4km from city centre</td>\n",
       "      <td>8.0</td>\n",
       "      <td>Fabulous</td>\n",
       "      <td>(3117)</td>\n",
       "      <td>₹3,018</td>\n",
       "      <td>-10%\\nPrivates From\\n₹12,571\\n₹11,313</td>\n",
       "    </tr>\n",
       "  </tbody>\n",
       "</table>\n",
       "</div>"
      ],
      "text/plain": [
       "                                Hostel Name  \\\n",
       "0                  St Christopher's Village   \n",
       "1             Palmers Lodge - Swiss Cottage   \n",
       "2               Wombat's City Hostel London   \n",
       "3                  St Christopher's Village   \n",
       "4                       Onefam Notting Hill   \n",
       "5                      Urbany Hostel London   \n",
       "6             Palmers Lodge - Swiss Cottage   \n",
       "7                          Generator London   \n",
       "8                           Astor Hyde Park   \n",
       "9         Safestay London Elephant & Castle   \n",
       "10                         NX London Hostel   \n",
       "11                         Astor Museum Inn   \n",
       "12             No.8 Willesden Hostel London   \n",
       "13  Safestay London Kensington Holland Park   \n",
       "14                                 Clink261   \n",
       "15                  Queen Elizabeth Chelsea   \n",
       "16                           Phoenix Hostel   \n",
       "17       Destinations Hostels @ The Gallery   \n",
       "18              Smart Russell Square Hostel   \n",
       "19                       No.8 Seven Sisters   \n",
       "20               Smart Hyde Park Inn Hostel   \n",
       "21      Hostelle - women only hostel London   \n",
       "22             St Christopher's Hammersmith   \n",
       "23                  Prime Backpackers Angel   \n",
       "24                           Astor Victoria   \n",
       "25                  Saint James Backpackers   \n",
       "26                 YHA London Oxford Street   \n",
       "27               Kabannas London St Pancras   \n",
       "28                         Astor Kensington   \n",
       "29                       London Backpackers   \n",
       "\n",
       "            Distance from City Center Ratings Total Review Overall Review  \\\n",
       "0    Hostel\\n- 3.6km from city centre     8.1     Fabulous        (15592)   \n",
       "1    Hostel\\n- 1.8km from city centre     8.7     Fabulous        (12662)   \n",
       "2    Hostel\\n- 5.5km from city centre     9.0       Superb         (2405)   \n",
       "3    Hostel\\n- 5.4km from city centre     8.1     Fabulous         (1030)   \n",
       "4    Hostel\\n- 6.5km from city centre     9.6       Superb        (15826)   \n",
       "5      Hostel\\n- 3km from city centre     9.5       Superb         (7934)   \n",
       "6    Hostel\\n- 4.3km from city centre     8.7     Fabulous        (12251)   \n",
       "7    Hostel\\n- 1.7km from city centre     7.5    Very Good         (5206)   \n",
       "8    Hostel\\n- 6.1km from city centre     8.2     Fabulous         (2056)   \n",
       "9    Hostel\\n- 2.2km from city centre     7.1    Very Good         (9401)   \n",
       "10    Hostel\\n- 10km from city centre     8.3     Fabulous         (5146)   \n",
       "11   Hostel\\n- 5.8km from city centre     8.4     Fabulous         (1725)   \n",
       "12   Hostel\\n- 3.2km from city centre     7.2    Very Good          (459)   \n",
       "13   Hostel\\n- 5.7km from city centre     6.9         Good         (3632)   \n",
       "14   Hostel\\n- 4.2km from city centre     8.0     Fabulous         (4553)   \n",
       "15   Hostel\\n- 1.7km from city centre     7.5    Very Good          (280)   \n",
       "16   Hostel\\n- 2.6km from city centre     7.0    Very Good        (10155)   \n",
       "17     Hostel\\n- 9km from city centre     9.2       Superb         (4124)   \n",
       "18     Hostel\\n- 5km from city centre     7.5    Very Good         (6768)   \n",
       "19   Hostel\\n- 5.1km from city centre     6.6         Good           (82)   \n",
       "20   Hostel\\n- 7.5km from city centre     7.6    Very Good         (4351)   \n",
       "21   Hostel\\n- 3.6km from city centre     8.8     Fabulous          (844)   \n",
       "22   Hostel\\n- 1.8km from city centre     7.6    Very Good        (15061)   \n",
       "23   Hostel\\n- 5.5km from city centre     8.2     Fabulous         (1943)   \n",
       "24   Hostel\\n- 2.1km from city centre     7.1    Very Good         (4676)   \n",
       "25   Hostel\\n- 3.3km from city centre     7.7    Very Good         (2943)   \n",
       "26   Hostel\\n- 4.9km from city centre     9.0       Superb         (6562)   \n",
       "27  Hostel\\n- 11.9km from city centre     8.2     Fabulous         (4547)   \n",
       "28   Hostel\\n- 4.3km from city centre     8.6     Fabulous         (4107)   \n",
       "29   Hostel\\n- 4.4km from city centre     8.0     Fabulous         (3117)   \n",
       "\n",
       "   Private Price                             Dorm Price  \n",
       "0        ₹26,159                                      -  \n",
       "1         ₹4,360                                      -  \n",
       "2         ₹3,195                                      -  \n",
       "3        ₹17,933                                      -  \n",
       "4         ₹8,384                                      -  \n",
       "5        ₹15,207                           From\\n₹3,195  \n",
       "6        ₹11,196                           From\\n₹2,164  \n",
       "7         ₹2,164  -20%\\nPrivates From\\n₹32,699\\n₹26,159  \n",
       "8        ₹15,401       -20%\\nDorms From\\n₹5,450\\n₹4,360  \n",
       "9         ₹3,181                  No Privates Available  \n",
       "10        ₹4,995       -10%\\nDorms From\\n₹3,550\\n₹3,195  \n",
       "11        ₹2,532                 Privates From\\n₹17,933  \n",
       "12        ₹6,604                     Dorms From\\n₹8,384  \n",
       "13        ₹4,440                 Privates From\\n₹15,207  \n",
       "14        ₹3,603                     No Dorms Available  \n",
       "15        ₹1,556  -36%\\nPrivates From\\n₹17,494\\n₹11,196  \n",
       "16       ₹11,313       -36%\\nDorms From\\n₹3,381\\n₹2,164  \n",
       "17        ₹1,999                 Privates From\\n₹15,401  \n",
       "18        ₹3,795                     Dorms From\\n₹3,181  \n",
       "19        ₹2,329                  No Privates Available  \n",
       "20        ₹3,211                     Dorms From\\n₹4,995  \n",
       "21        ₹5,637                  No Privates Available  \n",
       "22        ₹3,097                     Dorms From\\n₹2,532  \n",
       "23        ₹1,452                  No Privates Available  \n",
       "24        ₹3,846                     Dorms From\\n₹6,604  \n",
       "25        ₹3,642                  No Privates Available  \n",
       "26        ₹2,693                     Dorms From\\n₹4,440  \n",
       "27        ₹3,567                  Privates From\\n₹3,603  \n",
       "28       ₹12,003                     Dorms From\\n₹1,556  \n",
       "29        ₹3,018  -10%\\nPrivates From\\n₹12,571\\n₹11,313  "
      ]
     },
     "execution_count": 74,
     "metadata": {},
     "output_type": "execute_result"
    }
   ],
   "source": [
    "hostel_rooms = pd.DataFrame(\n",
    "    {\n",
    "        \"Hostel Name\": hostel_name[0:30],\n",
    "        \"Distance from City Center\": location[0:30],\n",
    "        \"Ratings\": ratings[0:30],\n",
    "        \"Total Review\": total_reviews[0:30],\n",
    "        \"Overall Review\": overall_reviews[0:30],\n",
    "        \"Private Price\": private_price[0:30],\n",
    "        \"Dorm Price\": dorm_price[0:30],\n",
    "        \n",
    "    }\n",
    ")\n",
    "\n",
    "hostel_rooms"
   ]
  },
  {
   "cell_type": "code",
   "execution_count": null,
   "id": "0cb3d63b",
   "metadata": {},
   "outputs": [],
   "source": []
  }
 ],
 "metadata": {
  "kernelspec": {
   "display_name": "Python 3 (ipykernel)",
   "language": "python",
   "name": "python3"
  },
  "language_info": {
   "codemirror_mode": {
    "name": "ipython",
    "version": 3
   },
   "file_extension": ".py",
   "mimetype": "text/x-python",
   "name": "python",
   "nbconvert_exporter": "python",
   "pygments_lexer": "ipython3",
   "version": "3.9.7"
  }
 },
 "nbformat": 4,
 "nbformat_minor": 5
}
